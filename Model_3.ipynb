{
 "cells": [
  {
   "cell_type": "markdown",
   "id": "c5229d03",
   "metadata": {},
   "source": [
    "- GitHub: https://github.com/mahmood1989?tab=repositories\n",
    "- Email: mahmoodr@ualberta.ca"
   ]
  },
  {
   "cell_type": "markdown",
   "id": "bab9661e",
   "metadata": {},
   "source": [
    "# Breast Cancer Gene Expression Profiles\n",
    "# Model 3 - All Features (General + Gene Expression)\n",
    "In this notebook, I just used general and gene expression data as input features of the model (Columns B to SZ)."
   ]
  },
  {
   "cell_type": "markdown",
   "id": "c86c2e21",
   "metadata": {},
   "source": [
    "## Import Python libraries"
   ]
  },
  {
   "cell_type": "code",
   "execution_count": 1,
   "id": "009ff277",
   "metadata": {},
   "outputs": [],
   "source": [
    "import pandas as pd\n",
    "import numpy as np\n",
    "\n",
    "import tensorflow as tf\n",
    "from tensorflow import keras\n",
    "from tensorflow.keras import layers, regularizers\n",
    "from tensorflow.keras.models import Sequential\n",
    "\n",
    "from sklearn.model_selection import train_test_split\n",
    "from sklearn.model_selection import GridSearchCV\n",
    "from sklearn.feature_selection import SelectKBest\n",
    "from sklearn.feature_selection import chi2\n",
    "from sklearn.ensemble import ExtraTreesClassifier\n",
    "from sklearn.metrics import confusion_matrix, classification_report\n",
    "from sklearn.ensemble import RandomForestClassifier\n",
    "from sklearn.model_selection import learning_curve\n",
    "from sklearn.preprocessing import MinMaxScaler\n",
    "from sklearn.model_selection import cross_val_score\n",
    "from sklearn.model_selection import RandomizedSearchCV\n",
    "from sklearn.ensemble import GradientBoostingClassifier\n",
    "\n",
    "\n",
    "import matplotlib.pyplot as plt\n",
    "%matplotlib inline\n",
    "import PIL.Image as Image\n",
    "\n",
    "import seaborn as sn"
   ]
  },
  {
   "cell_type": "markdown",
   "id": "d00cf422",
   "metadata": {},
   "source": [
    "## General structure of training spreadsheet"
   ]
  },
  {
   "cell_type": "markdown",
   "id": "1bc3ed1f",
   "metadata": {},
   "source": [
    "The source of this dataset can be downloaded through Kaggle:"
   ]
  },
  {
   "cell_type": "markdown",
   "id": "8d336571",
   "metadata": {},
   "source": [
    "https://www.kaggle.com/datasets/raghadalharbi/breast-cancer-gene-expression-profiles-metabric"
   ]
  },
  {
   "cell_type": "code",
   "execution_count": 2,
   "id": "0922c98d",
   "metadata": {},
   "outputs": [
    {
     "data": {
      "text/html": [
       "<div>\n",
       "<style scoped>\n",
       "    .dataframe tbody tr th:only-of-type {\n",
       "        vertical-align: middle;\n",
       "    }\n",
       "\n",
       "    .dataframe tbody tr th {\n",
       "        vertical-align: top;\n",
       "    }\n",
       "\n",
       "    .dataframe thead th {\n",
       "        text-align: right;\n",
       "    }\n",
       "</style>\n",
       "<table border=\"1\" class=\"dataframe\">\n",
       "  <thead>\n",
       "    <tr style=\"text-align: right;\">\n",
       "      <th></th>\n",
       "      <th>age_at_diagnosis</th>\n",
       "      <th>type_of_breast_surgery</th>\n",
       "      <th>cancer_type_detailed</th>\n",
       "      <th>cellularity</th>\n",
       "      <th>chemotherapy</th>\n",
       "      <th>pam50_+_claudin-low_subtype</th>\n",
       "      <th>er_status_measured_by_ihc</th>\n",
       "      <th>neoplasm_histologic_grade</th>\n",
       "      <th>her2_status</th>\n",
       "      <th>tumor_other_histologic_subtype</th>\n",
       "      <th>...</th>\n",
       "      <th>srd5a2</th>\n",
       "      <th>srd5a3</th>\n",
       "      <th>st7</th>\n",
       "      <th>star</th>\n",
       "      <th>tnk2</th>\n",
       "      <th>tulp4</th>\n",
       "      <th>ugt2b15</th>\n",
       "      <th>ugt2b17</th>\n",
       "      <th>ugt2b7</th>\n",
       "      <th>death_from_cancer</th>\n",
       "    </tr>\n",
       "  </thead>\n",
       "  <tbody>\n",
       "    <tr>\n",
       "      <th>0</th>\n",
       "      <td>75.65</td>\n",
       "      <td>MASTECTOMY</td>\n",
       "      <td>Breast Invasive Ductal Carcinoma</td>\n",
       "      <td>NaN</td>\n",
       "      <td>0</td>\n",
       "      <td>claudin-low</td>\n",
       "      <td>Positve</td>\n",
       "      <td>3.0</td>\n",
       "      <td>Negative</td>\n",
       "      <td>Ductal/NST</td>\n",
       "      <td>...</td>\n",
       "      <td>-0.0194</td>\n",
       "      <td>-1.6345</td>\n",
       "      <td>-0.2142</td>\n",
       "      <td>-0.5698</td>\n",
       "      <td>-1.1741</td>\n",
       "      <td>-1.4779</td>\n",
       "      <td>-0.5954</td>\n",
       "      <td>-0.8847</td>\n",
       "      <td>-0.3354</td>\n",
       "      <td>Living</td>\n",
       "    </tr>\n",
       "    <tr>\n",
       "      <th>1</th>\n",
       "      <td>43.19</td>\n",
       "      <td>BREAST CONSERVING</td>\n",
       "      <td>Breast Invasive Ductal Carcinoma</td>\n",
       "      <td>High</td>\n",
       "      <td>0</td>\n",
       "      <td>LumA</td>\n",
       "      <td>Positve</td>\n",
       "      <td>3.0</td>\n",
       "      <td>Negative</td>\n",
       "      <td>Ductal/NST</td>\n",
       "      <td>...</td>\n",
       "      <td>0.4534</td>\n",
       "      <td>0.4068</td>\n",
       "      <td>0.7634</td>\n",
       "      <td>0.0231</td>\n",
       "      <td>0.9121</td>\n",
       "      <td>-0.9538</td>\n",
       "      <td>-0.2264</td>\n",
       "      <td>0.5398</td>\n",
       "      <td>-0.8920</td>\n",
       "      <td>Living</td>\n",
       "    </tr>\n",
       "    <tr>\n",
       "      <th>2</th>\n",
       "      <td>48.87</td>\n",
       "      <td>MASTECTOMY</td>\n",
       "      <td>Breast Invasive Ductal Carcinoma</td>\n",
       "      <td>High</td>\n",
       "      <td>1</td>\n",
       "      <td>LumB</td>\n",
       "      <td>Positve</td>\n",
       "      <td>2.0</td>\n",
       "      <td>Negative</td>\n",
       "      <td>Ductal/NST</td>\n",
       "      <td>...</td>\n",
       "      <td>0.0668</td>\n",
       "      <td>0.8344</td>\n",
       "      <td>1.7227</td>\n",
       "      <td>0.4024</td>\n",
       "      <td>-3.7172</td>\n",
       "      <td>-1.5538</td>\n",
       "      <td>1.3701</td>\n",
       "      <td>-0.1078</td>\n",
       "      <td>0.3655</td>\n",
       "      <td>Died of Disease</td>\n",
       "    </tr>\n",
       "    <tr>\n",
       "      <th>3</th>\n",
       "      <td>47.68</td>\n",
       "      <td>MASTECTOMY</td>\n",
       "      <td>Breast Mixed Ductal and Lobular Carcinoma</td>\n",
       "      <td>Moderate</td>\n",
       "      <td>1</td>\n",
       "      <td>LumB</td>\n",
       "      <td>Positve</td>\n",
       "      <td>2.0</td>\n",
       "      <td>Negative</td>\n",
       "      <td>Mixed</td>\n",
       "      <td>...</td>\n",
       "      <td>-0.7078</td>\n",
       "      <td>0.8228</td>\n",
       "      <td>0.6819</td>\n",
       "      <td>-0.1948</td>\n",
       "      <td>-2.3286</td>\n",
       "      <td>-0.9924</td>\n",
       "      <td>-0.3154</td>\n",
       "      <td>0.2320</td>\n",
       "      <td>-0.4828</td>\n",
       "      <td>Living</td>\n",
       "    </tr>\n",
       "    <tr>\n",
       "      <th>4</th>\n",
       "      <td>76.97</td>\n",
       "      <td>MASTECTOMY</td>\n",
       "      <td>Breast Mixed Ductal and Lobular Carcinoma</td>\n",
       "      <td>High</td>\n",
       "      <td>1</td>\n",
       "      <td>LumB</td>\n",
       "      <td>Positve</td>\n",
       "      <td>3.0</td>\n",
       "      <td>Negative</td>\n",
       "      <td>Mixed</td>\n",
       "      <td>...</td>\n",
       "      <td>-0.3544</td>\n",
       "      <td>-1.0150</td>\n",
       "      <td>2.2961</td>\n",
       "      <td>0.1817</td>\n",
       "      <td>-0.1572</td>\n",
       "      <td>0.0427</td>\n",
       "      <td>5.0048</td>\n",
       "      <td>3.8476</td>\n",
       "      <td>1.3223</td>\n",
       "      <td>Died of Disease</td>\n",
       "    </tr>\n",
       "    <tr>\n",
       "      <th>5</th>\n",
       "      <td>78.77</td>\n",
       "      <td>MASTECTOMY</td>\n",
       "      <td>Breast Invasive Ductal Carcinoma</td>\n",
       "      <td>Moderate</td>\n",
       "      <td>0</td>\n",
       "      <td>LumB</td>\n",
       "      <td>Positve</td>\n",
       "      <td>3.0</td>\n",
       "      <td>Negative</td>\n",
       "      <td>Ductal/NST</td>\n",
       "      <td>...</td>\n",
       "      <td>0.0395</td>\n",
       "      <td>0.8191</td>\n",
       "      <td>0.1977</td>\n",
       "      <td>-0.2302</td>\n",
       "      <td>-0.5092</td>\n",
       "      <td>-0.3021</td>\n",
       "      <td>0.9357</td>\n",
       "      <td>-0.4217</td>\n",
       "      <td>0.5340</td>\n",
       "      <td>Died of Disease</td>\n",
       "    </tr>\n",
       "    <tr>\n",
       "      <th>6</th>\n",
       "      <td>56.45</td>\n",
       "      <td>BREAST CONSERVING</td>\n",
       "      <td>Breast Invasive Ductal Carcinoma</td>\n",
       "      <td>Moderate</td>\n",
       "      <td>1</td>\n",
       "      <td>LumB</td>\n",
       "      <td>Positve</td>\n",
       "      <td>2.0</td>\n",
       "      <td>Negative</td>\n",
       "      <td>Ductal/NST</td>\n",
       "      <td>...</td>\n",
       "      <td>0.0917</td>\n",
       "      <td>1.6814</td>\n",
       "      <td>2.2495</td>\n",
       "      <td>-1.6522</td>\n",
       "      <td>-3.4775</td>\n",
       "      <td>-0.4892</td>\n",
       "      <td>1.1938</td>\n",
       "      <td>-0.1027</td>\n",
       "      <td>0.4331</td>\n",
       "      <td>Living</td>\n",
       "    </tr>\n",
       "    <tr>\n",
       "      <th>7</th>\n",
       "      <td>89.08</td>\n",
       "      <td>BREAST CONSERVING</td>\n",
       "      <td>Breast Mixed Ductal and Lobular Carcinoma</td>\n",
       "      <td>Moderate</td>\n",
       "      <td>0</td>\n",
       "      <td>claudin-low</td>\n",
       "      <td>Positve</td>\n",
       "      <td>2.0</td>\n",
       "      <td>Negative</td>\n",
       "      <td>Mixed</td>\n",
       "      <td>...</td>\n",
       "      <td>-0.3588</td>\n",
       "      <td>2.4959</td>\n",
       "      <td>0.3744</td>\n",
       "      <td>-0.7101</td>\n",
       "      <td>-2.1453</td>\n",
       "      <td>-1.3027</td>\n",
       "      <td>-0.2308</td>\n",
       "      <td>-0.3450</td>\n",
       "      <td>-0.2023</td>\n",
       "      <td>Died of Other Causes</td>\n",
       "    </tr>\n",
       "    <tr>\n",
       "      <th>8</th>\n",
       "      <td>86.41</td>\n",
       "      <td>BREAST CONSERVING</td>\n",
       "      <td>Breast Invasive Ductal Carcinoma</td>\n",
       "      <td>Moderate</td>\n",
       "      <td>0</td>\n",
       "      <td>LumB</td>\n",
       "      <td>Positve</td>\n",
       "      <td>3.0</td>\n",
       "      <td>Negative</td>\n",
       "      <td>Ductal/NST</td>\n",
       "      <td>...</td>\n",
       "      <td>-0.1405</td>\n",
       "      <td>-0.9780</td>\n",
       "      <td>-0.3030</td>\n",
       "      <td>-0.1640</td>\n",
       "      <td>1.0783</td>\n",
       "      <td>1.8263</td>\n",
       "      <td>-0.5965</td>\n",
       "      <td>0.1502</td>\n",
       "      <td>-0.8837</td>\n",
       "      <td>Died of Other Causes</td>\n",
       "    </tr>\n",
       "    <tr>\n",
       "      <th>9</th>\n",
       "      <td>84.22</td>\n",
       "      <td>MASTECTOMY</td>\n",
       "      <td>Breast Invasive Lobular Carcinoma</td>\n",
       "      <td>High</td>\n",
       "      <td>0</td>\n",
       "      <td>Her2</td>\n",
       "      <td>Negative</td>\n",
       "      <td>2.0</td>\n",
       "      <td>Negative</td>\n",
       "      <td>Lobular</td>\n",
       "      <td>...</td>\n",
       "      <td>-0.4788</td>\n",
       "      <td>3.6125</td>\n",
       "      <td>1.9925</td>\n",
       "      <td>0.2253</td>\n",
       "      <td>-0.8414</td>\n",
       "      <td>1.7093</td>\n",
       "      <td>-0.6921</td>\n",
       "      <td>0.6906</td>\n",
       "      <td>-0.8006</td>\n",
       "      <td>Died of Disease</td>\n",
       "    </tr>\n",
       "  </tbody>\n",
       "</table>\n",
       "<p>10 rows × 511 columns</p>\n",
       "</div>"
      ],
      "text/plain": [
       "   age_at_diagnosis type_of_breast_surgery  \\\n",
       "0             75.65             MASTECTOMY   \n",
       "1             43.19      BREAST CONSERVING   \n",
       "2             48.87             MASTECTOMY   \n",
       "3             47.68             MASTECTOMY   \n",
       "4             76.97             MASTECTOMY   \n",
       "5             78.77             MASTECTOMY   \n",
       "6             56.45      BREAST CONSERVING   \n",
       "7             89.08      BREAST CONSERVING   \n",
       "8             86.41      BREAST CONSERVING   \n",
       "9             84.22             MASTECTOMY   \n",
       "\n",
       "                        cancer_type_detailed cellularity  chemotherapy  \\\n",
       "0           Breast Invasive Ductal Carcinoma         NaN             0   \n",
       "1           Breast Invasive Ductal Carcinoma        High             0   \n",
       "2           Breast Invasive Ductal Carcinoma        High             1   \n",
       "3  Breast Mixed Ductal and Lobular Carcinoma    Moderate             1   \n",
       "4  Breast Mixed Ductal and Lobular Carcinoma        High             1   \n",
       "5           Breast Invasive Ductal Carcinoma    Moderate             0   \n",
       "6           Breast Invasive Ductal Carcinoma    Moderate             1   \n",
       "7  Breast Mixed Ductal and Lobular Carcinoma    Moderate             0   \n",
       "8           Breast Invasive Ductal Carcinoma    Moderate             0   \n",
       "9          Breast Invasive Lobular Carcinoma        High             0   \n",
       "\n",
       "  pam50_+_claudin-low_subtype er_status_measured_by_ihc  \\\n",
       "0                 claudin-low                   Positve   \n",
       "1                        LumA                   Positve   \n",
       "2                        LumB                   Positve   \n",
       "3                        LumB                   Positve   \n",
       "4                        LumB                   Positve   \n",
       "5                        LumB                   Positve   \n",
       "6                        LumB                   Positve   \n",
       "7                 claudin-low                   Positve   \n",
       "8                        LumB                   Positve   \n",
       "9                        Her2                  Negative   \n",
       "\n",
       "   neoplasm_histologic_grade her2_status tumor_other_histologic_subtype  ...  \\\n",
       "0                        3.0    Negative                     Ductal/NST  ...   \n",
       "1                        3.0    Negative                     Ductal/NST  ...   \n",
       "2                        2.0    Negative                     Ductal/NST  ...   \n",
       "3                        2.0    Negative                          Mixed  ...   \n",
       "4                        3.0    Negative                          Mixed  ...   \n",
       "5                        3.0    Negative                     Ductal/NST  ...   \n",
       "6                        2.0    Negative                     Ductal/NST  ...   \n",
       "7                        2.0    Negative                          Mixed  ...   \n",
       "8                        3.0    Negative                     Ductal/NST  ...   \n",
       "9                        2.0    Negative                        Lobular  ...   \n",
       "\n",
       "   srd5a2  srd5a3     st7    star    tnk2   tulp4 ugt2b15 ugt2b17  ugt2b7  \\\n",
       "0 -0.0194 -1.6345 -0.2142 -0.5698 -1.1741 -1.4779 -0.5954 -0.8847 -0.3354   \n",
       "1  0.4534  0.4068  0.7634  0.0231  0.9121 -0.9538 -0.2264  0.5398 -0.8920   \n",
       "2  0.0668  0.8344  1.7227  0.4024 -3.7172 -1.5538  1.3701 -0.1078  0.3655   \n",
       "3 -0.7078  0.8228  0.6819 -0.1948 -2.3286 -0.9924 -0.3154  0.2320 -0.4828   \n",
       "4 -0.3544 -1.0150  2.2961  0.1817 -0.1572  0.0427  5.0048  3.8476  1.3223   \n",
       "5  0.0395  0.8191  0.1977 -0.2302 -0.5092 -0.3021  0.9357 -0.4217  0.5340   \n",
       "6  0.0917  1.6814  2.2495 -1.6522 -3.4775 -0.4892  1.1938 -0.1027  0.4331   \n",
       "7 -0.3588  2.4959  0.3744 -0.7101 -2.1453 -1.3027 -0.2308 -0.3450 -0.2023   \n",
       "8 -0.1405 -0.9780 -0.3030 -0.1640  1.0783  1.8263 -0.5965  0.1502 -0.8837   \n",
       "9 -0.4788  3.6125  1.9925  0.2253 -0.8414  1.7093 -0.6921  0.6906 -0.8006   \n",
       "\n",
       "      death_from_cancer  \n",
       "0                Living  \n",
       "1                Living  \n",
       "2       Died of Disease  \n",
       "3                Living  \n",
       "4       Died of Disease  \n",
       "5       Died of Disease  \n",
       "6                Living  \n",
       "7  Died of Other Causes  \n",
       "8  Died of Other Causes  \n",
       "9       Died of Disease  \n",
       "\n",
       "[10 rows x 511 columns]"
      ]
     },
     "execution_count": 2,
     "metadata": {},
     "output_type": "execute_result"
    }
   ],
   "source": [
    "df_raw = pd.read_excel('Model_3.xlsx')\n",
    "df_raw.head(10)"
   ]
  },
  {
   "cell_type": "markdown",
   "id": "7d5ecdc0",
   "metadata": {},
   "source": [
    "There are 1904 attributes from 510 different fearures. 1 feature (death_from_cancer) is the output feature."
   ]
  },
  {
   "cell_type": "code",
   "execution_count": 4,
   "id": "531d571e",
   "metadata": {},
   "outputs": [
    {
     "data": {
      "text/plain": [
       "(1904, 511)"
      ]
     },
     "execution_count": 4,
     "metadata": {},
     "output_type": "execute_result"
    }
   ],
   "source": [
    "df_raw.shape"
   ]
  },
  {
   "cell_type": "markdown",
   "id": "e7062ff1",
   "metadata": {},
   "source": [
    "There are many null cells and we need to delete them."
   ]
  },
  {
   "cell_type": "code",
   "execution_count": 5,
   "id": "9cf22457",
   "metadata": {},
   "outputs": [
    {
     "data": {
      "text/plain": [
       "age_at_diagnosis           0\n",
       "type_of_breast_surgery    22\n",
       "cancer_type_detailed      15\n",
       "cellularity               54\n",
       "chemotherapy               0\n",
       "                          ..\n",
       "tulp4                      0\n",
       "ugt2b15                    0\n",
       "ugt2b17                    0\n",
       "ugt2b7                     0\n",
       "death_from_cancer          1\n",
       "Length: 511, dtype: int64"
      ]
     },
     "execution_count": 5,
     "metadata": {},
     "output_type": "execute_result"
    }
   ],
   "source": [
    "df_raw.isna().sum()"
   ]
  },
  {
   "cell_type": "markdown",
   "id": "0103c27c",
   "metadata": {},
   "source": [
    "After deleting the null row, we will have 1498 attributes. "
   ]
  },
  {
   "cell_type": "code",
   "execution_count": 6,
   "id": "7160c33c",
   "metadata": {},
   "outputs": [],
   "source": [
    "df_raw.dropna(inplace = True)"
   ]
  },
  {
   "cell_type": "code",
   "execution_count": 7,
   "id": "58c8e80b",
   "metadata": {},
   "outputs": [
    {
     "data": {
      "text/plain": [
       "(1498, 511)"
      ]
     },
     "execution_count": 7,
     "metadata": {},
     "output_type": "execute_result"
    }
   ],
   "source": [
    "df_raw.shape"
   ]
  },
  {
   "cell_type": "markdown",
   "id": "6882d495",
   "metadata": {},
   "source": [
    "## Convert string variables to categorical classes"
   ]
  },
  {
   "cell_type": "code",
   "execution_count": 8,
   "id": "cc135683",
   "metadata": {},
   "outputs": [
    {
     "data": {
      "text/plain": [
       "age_at_diagnosis          float64\n",
       "type_of_breast_surgery     object\n",
       "cancer_type_detailed       object\n",
       "cellularity                object\n",
       "chemotherapy                int64\n",
       "                           ...   \n",
       "tulp4                     float64\n",
       "ugt2b15                   float64\n",
       "ugt2b17                   float64\n",
       "ugt2b7                    float64\n",
       "death_from_cancer          object\n",
       "Length: 511, dtype: object"
      ]
     },
     "execution_count": 8,
     "metadata": {},
     "output_type": "execute_result"
    }
   ],
   "source": [
    "df_raw.dtypes"
   ]
  },
  {
   "cell_type": "markdown",
   "id": "d4b3e1b2",
   "metadata": {},
   "source": [
    "df_general is the dataset corresponding to general features of the dataset."
   ]
  },
  {
   "cell_type": "code",
   "execution_count": 9,
   "id": "78fa11c5",
   "metadata": {},
   "outputs": [],
   "source": [
    "df_general = df_raw[df_raw.columns[0:21]].copy()"
   ]
  },
  {
   "cell_type": "code",
   "execution_count": 10,
   "id": "4c9604ff",
   "metadata": {},
   "outputs": [],
   "source": [
    "df_general['death_from_cancer'] = df_raw['death_from_cancer'].copy()"
   ]
  },
  {
   "cell_type": "code",
   "execution_count": 11,
   "id": "1f962935",
   "metadata": {},
   "outputs": [
    {
     "data": {
      "text/plain": [
       "(1498, 22)"
      ]
     },
     "execution_count": 11,
     "metadata": {},
     "output_type": "execute_result"
    }
   ],
   "source": [
    "df_general.shape"
   ]
  },
  {
   "cell_type": "markdown",
   "id": "d19a94a8",
   "metadata": {},
   "source": [
    "df_gene is the dataset corresponding to gene-expression features of the dataset."
   ]
  },
  {
   "cell_type": "code",
   "execution_count": 12,
   "id": "fdf5070c",
   "metadata": {},
   "outputs": [],
   "source": [
    "df_gene = df_raw[df_raw.columns[21:]].copy()"
   ]
  },
  {
   "cell_type": "code",
   "execution_count": 13,
   "id": "bcd0a490",
   "metadata": {
    "scrolled": true
   },
   "outputs": [
    {
     "data": {
      "text/plain": [
       "(1498, 490)"
      ]
     },
     "execution_count": 13,
     "metadata": {},
     "output_type": "execute_result"
    }
   ],
   "source": [
    "df_gene.shape"
   ]
  },
  {
   "cell_type": "markdown",
   "id": "23403ac4",
   "metadata": {},
   "source": [
    "### 1. Binary (tertiary) variables in df_general"
   ]
  },
  {
   "cell_type": "code",
   "execution_count": 14,
   "id": "f58303e5",
   "metadata": {},
   "outputs": [],
   "source": [
    "df_general['type_of_breast_surgery'].replace('BREAST CONSERVING', 1, inplace = True)\n",
    "df_general['type_of_breast_surgery'].replace('MASTECTOMY', 0, inplace = True)"
   ]
  },
  {
   "cell_type": "code",
   "execution_count": 15,
   "id": "51d183ea",
   "metadata": {},
   "outputs": [],
   "source": [
    "df_general['cellularity'].replace('High', 2, inplace = True)\n",
    "df_general['cellularity'].replace('Moderate', 1, inplace = True)\n",
    "df_general['cellularity'].replace('Low', 0, inplace = True)"
   ]
  },
  {
   "cell_type": "code",
   "execution_count": 16,
   "id": "49dd0120",
   "metadata": {},
   "outputs": [],
   "source": [
    "df_general['er_status_measured_by_ihc'].replace('Positve', 1, inplace = True)\n",
    "df_general['er_status_measured_by_ihc'].replace('Negative', 0, inplace = True)"
   ]
  },
  {
   "cell_type": "code",
   "execution_count": 17,
   "id": "179aa896",
   "metadata": {},
   "outputs": [],
   "source": [
    "df_general['her2_status'].replace('Positive', 1, inplace = True)\n",
    "df_general['her2_status'].replace('Negative', 0, inplace = True)"
   ]
  },
  {
   "cell_type": "code",
   "execution_count": 18,
   "id": "d2295638",
   "metadata": {},
   "outputs": [],
   "source": [
    "df_general['inferred_menopausal_state'].replace('Post', 1, inplace = True)\n",
    "df_general['inferred_menopausal_state'].replace('Pre', 0, inplace = True)"
   ]
  },
  {
   "cell_type": "code",
   "execution_count": 19,
   "id": "65615473",
   "metadata": {},
   "outputs": [],
   "source": [
    "df_general['pr_status'].replace('Positive', 1, inplace = True)\n",
    "df_general['pr_status'].replace('Negative', 0, inplace = True)"
   ]
  },
  {
   "cell_type": "markdown",
   "id": "dc67f42d",
   "metadata": {},
   "source": [
    "The output ('death_from_cancer') is the string type with three categories as:\n",
    "- Living (Class 0)\n",
    "- Died of Other Causes (Class 0)\n",
    "- Died of Disease (Class 1)\n",
    "If a patient dies because of cancer, we categorize it as Class 1, otherwise Class 0 is assigned."
   ]
  },
  {
   "cell_type": "code",
   "execution_count": 20,
   "id": "546f69a2",
   "metadata": {},
   "outputs": [],
   "source": [
    "df_general['death_from_cancer'].replace('Living', 0, inplace = True)\n",
    "df_general['death_from_cancer'].replace('Died of Other Causes', 0, inplace = True)\n",
    "df_general['death_from_cancer'].replace('Died of Disease', 1, inplace = True)"
   ]
  },
  {
   "cell_type": "code",
   "execution_count": 21,
   "id": "0b8fe351",
   "metadata": {},
   "outputs": [],
   "source": [
    "df_gene['death_from_cancer'].replace('Living', 0, inplace = True)\n",
    "df_gene['death_from_cancer'].replace('Died of Other Causes', 0, inplace = True)\n",
    "df_gene['death_from_cancer'].replace('Died of Disease', 1, inplace = True)"
   ]
  },
  {
   "cell_type": "markdown",
   "id": "882d3056",
   "metadata": {},
   "source": [
    "### 2. One Hot Encodding "
   ]
  },
  {
   "cell_type": "markdown",
   "id": "448ce953",
   "metadata": {},
   "source": [
    "The following features are converted to dummy input variables."
   ]
  },
  {
   "cell_type": "code",
   "execution_count": 22,
   "id": "907b1e81",
   "metadata": {},
   "outputs": [],
   "source": [
    "df_general = pd.get_dummies(data = df_general, columns = ['cancer_type_detailed', 'pam50_+_claudin-low_subtype',\\\n",
    "'tumor_other_histologic_subtype', 'integrative_cluster', 'oncotree_code', '3-gene_classifier_subtype'])"
   ]
  },
  {
   "cell_type": "markdown",
   "id": "c4909ec7",
   "metadata": {},
   "source": [
    "Now we have 54 input features in df_general. 1 feature in the output data."
   ]
  },
  {
   "cell_type": "code",
   "execution_count": 23,
   "id": "1527b398",
   "metadata": {},
   "outputs": [
    {
     "data": {
      "text/plain": [
       "(1498, 55)"
      ]
     },
     "execution_count": 23,
     "metadata": {},
     "output_type": "execute_result"
    }
   ],
   "source": [
    "df_general.shape"
   ]
  },
  {
   "cell_type": "markdown",
   "id": "2971a994",
   "metadata": {},
   "source": [
    "## Normalization of input parameters"
   ]
  },
  {
   "cell_type": "markdown",
   "id": "a52e16a7",
   "metadata": {},
   "source": [
    "The following float features are normalzied to have a range from 0 to 1."
   ]
  },
  {
   "cell_type": "markdown",
   "id": "c9050e7c",
   "metadata": {},
   "source": [
    "### 1. General dataset (df_general)"
   ]
  },
  {
   "cell_type": "code",
   "execution_count": 24,
   "id": "5f665ea3",
   "metadata": {},
   "outputs": [],
   "source": [
    "df_norm_general = pd.DataFrame()\n",
    "columns_norm_general = ['age_at_diagnosis', 'lymph_nodes_examined_positive', 'mutation_count', \\\n",
    "                        'nottingham_prognostic_index', 'tumor_size'] \n",
    "df_norm_general = df_general[columns_norm_general].copy()"
   ]
  },
  {
   "cell_type": "code",
   "execution_count": 25,
   "id": "a5ad39f8",
   "metadata": {},
   "outputs": [],
   "source": [
    "df_norm_general = df_norm_general.apply(lambda x: (x - x.min(axis = 0)) / ((x.max(axis = 0)) - (x.min(axis = 0))))"
   ]
  },
  {
   "cell_type": "code",
   "execution_count": 26,
   "id": "4058fab0",
   "metadata": {},
   "outputs": [],
   "source": [
    "df_general[columns_norm_general] = df_norm_general[columns_norm_general]"
   ]
  },
  {
   "cell_type": "markdown",
   "id": "9a87abed",
   "metadata": {},
   "source": [
    "### 2. Gene dataset (df_gene)"
   ]
  },
  {
   "cell_type": "code",
   "execution_count": 27,
   "id": "5ca1d834",
   "metadata": {},
   "outputs": [],
   "source": [
    "df_norm_gene = pd.DataFrame()\n",
    "df_norm_gene = df_gene[df_gene.columns[0:489]].copy()"
   ]
  },
  {
   "cell_type": "code",
   "execution_count": 28,
   "id": "054ff1ca",
   "metadata": {},
   "outputs": [],
   "source": [
    "df_norm_gene = df_norm_gene.apply(lambda x: (x - x.min(axis = 0)) / ((x.max(axis = 0)) - (x.min(axis = 0))))"
   ]
  },
  {
   "cell_type": "code",
   "execution_count": 29,
   "id": "64290adb",
   "metadata": {},
   "outputs": [],
   "source": [
    "df_gene[df_gene.columns[0:489]] = df_norm_gene.copy()"
   ]
  },
  {
   "cell_type": "markdown",
   "id": "37333299",
   "metadata": {},
   "source": [
    "### Concatenate both datasets"
   ]
  },
  {
   "cell_type": "markdown",
   "id": "a62d51bd",
   "metadata": {},
   "source": [
    "We have 1489 attributes from 543 input features. 1 feature (death_from_cancer) is the output feature."
   ]
  },
  {
   "cell_type": "code",
   "execution_count": 34,
   "id": "f36b8f0a",
   "metadata": {},
   "outputs": [],
   "source": [
    "df = pd.concat([df_general.drop('death_from_cancer', axis = 'columns'), df_gene], axis = 1)"
   ]
  },
  {
   "cell_type": "code",
   "execution_count": 35,
   "id": "261276af",
   "metadata": {},
   "outputs": [
    {
     "data": {
      "text/plain": [
       "(1498, 544)"
      ]
     },
     "execution_count": 35,
     "metadata": {},
     "output_type": "execute_result"
    }
   ],
   "source": [
    "df.shape"
   ]
  },
  {
   "cell_type": "markdown",
   "id": "96ce7190",
   "metadata": {},
   "source": [
    "## Univariate Feature Selection"
   ]
  },
  {
   "cell_type": "code",
   "execution_count": 36,
   "id": "119f9b86",
   "metadata": {},
   "outputs": [],
   "source": [
    "# The input data of this function is df2_regression or df2_classification\n",
    "\n",
    "def Univariate_Selection (df2, n_features):\n",
    "    X = df2.drop('death_from_cancer', axis = 'columns')\n",
    "    y = df2['death_from_cancer']\n",
    "    \n",
    "    bestfeatures = SelectKBest(score_func=chi2, k=10)\n",
    "    fit = bestfeatures.fit(X,y)\n",
    "    \n",
    "    dfscores = pd.DataFrame(fit.scores_)\n",
    "    dfcolumns = pd.DataFrame(X.columns)\n",
    "    \n",
    "    feature_Scores = pd.concat([dfcolumns,dfscores], axis=1)\n",
    "    feature_Scores.columns = ['Specs','Score']\n",
    "    \n",
    "    Top_features = feature_Scores.nlargest(n_features,'Score')\n",
    "    \n",
    "    X_featured_US = pd.DataFrame()  \n",
    "    for ii in Top_features['Specs']:\n",
    "        X_featured_US[ii] = X[ii]\n",
    "\n",
    "    X = X_featured_US.copy()\n",
    "    X = np.array(X)    \n",
    "    y = np.array(y)\n",
    "             \n",
    "    \n",
    "    print(Top_features)\n",
    "    \n",
    "    return(X, y)\n"
   ]
  },
  {
   "cell_type": "markdown",
   "id": "d35e46c5",
   "metadata": {},
   "source": [
    "# Machine Learning Models\n",
    "In this section, we test the performance of different classification models.\n",
    "\n",
    "## 1. Random Forest\n",
    "We use Univariate_Selection and choose n_feature = 100 as the optimum number of features out of 54 features."
   ]
  },
  {
   "cell_type": "code",
   "execution_count": 37,
   "id": "635cd225",
   "metadata": {},
   "outputs": [
    {
     "name": "stdout",
     "output_type": "stream",
     "text": [
      "                                              Specs      Score\n",
      "37                            integrative_cluster_5  45.582306\n",
      "6                                       her2_status  32.948072\n",
      "3                                      chemotherapy  32.422593\n",
      "51   3-gene_classifier_subtype_ER+/HER2- Low Prolif  31.215246\n",
      "53                  3-gene_classifier_subtype_HER2+  29.915362\n",
      "..                                              ...        ...\n",
      "24                   pam50_+_claudin-low_subtype_NC   0.519782\n",
      "412                                           lama2   0.509191\n",
      "261                                           mmp12   0.507938\n",
      "272                                           mmp25   0.502321\n",
      "197                                            csf1   0.500158\n",
      "\n",
      "[100 rows x 2 columns]\n"
     ]
    }
   ],
   "source": [
    "X, y = Univariate_Selection (df, n_features = 100)"
   ]
  },
  {
   "cell_type": "markdown",
   "id": "275babdb",
   "metadata": {},
   "source": [
    "There are several important hyperprameters that should be optimized in the Random Forest model. We use GridSearchCV to find the optimum values of these hyperparameters that result in the maximum accuracy. The algorithm came up with the following values:"
   ]
  },
  {
   "cell_type": "markdown",
   "id": "b840b280",
   "metadata": {},
   "source": [
    "ccp_alpha = 0.001, max_depth = 50, max_leaf_nodes = 50, n_estimators = 100"
   ]
  },
  {
   "cell_type": "code",
   "execution_count": 38,
   "id": "6b7566a1",
   "metadata": {},
   "outputs": [
    {
     "name": "stdout",
     "output_type": "stream",
     "text": [
      "{'ccp_alpha': 0.001, 'max_depth': 50, 'max_leaf_nodes': 50, 'n_estimators': 100}\n"
     ]
    }
   ],
   "source": [
    "param_grid = [\n",
    "    {'ccp_alpha' : [0.0005, 0.001, 0.005, 0.01],\n",
    "     'max_depth' : [20, 30, 40, 50],\n",
    "     'max_leaf_nodes' : [30, 40, 50],\n",
    "     'n_estimators' : [50, 75, 100, 125]   \n",
    "    }\n",
    "]\n",
    "\n",
    "optimal_params = GridSearchCV(RandomForestClassifier(), param_grid, cv = 3, scoring = 'accuracy')\n",
    "\n",
    "optimal_params.fit(X, y)\n",
    "\n",
    "print(optimal_params.best_params_)"
   ]
  },
  {
   "cell_type": "markdown",
   "id": "c14697e6",
   "metadata": {},
   "source": [
    "We use K-fold cross validation to get the average of accuracy over different cross validation sets."
   ]
  },
  {
   "cell_type": "code",
   "execution_count": 39,
   "id": "792deded",
   "metadata": {},
   "outputs": [
    {
     "data": {
      "text/plain": [
       "array([0.72      , 0.74666667, 0.68      , 0.71333333, 0.64      ,\n",
       "       0.68666667, 0.72666667, 0.67333333, 0.73825503, 0.75838926])"
      ]
     },
     "execution_count": 39,
     "metadata": {},
     "output_type": "execute_result"
    }
   ],
   "source": [
    "Random_forest_models = cross_val_score(RandomForestClassifier(ccp_alpha = 0.001, max_depth = 50, max_leaf_nodes = 50, \\\n",
    "                                                              n_estimators = 100),X, y,cv = 10)\n",
    "Random_forest_models"
   ]
  },
  {
   "cell_type": "code",
   "execution_count": 40,
   "id": "a3dded26",
   "metadata": {},
   "outputs": [
    {
     "data": {
      "text/plain": [
       "0.708331096196868"
      ]
     },
     "execution_count": 40,
     "metadata": {},
     "output_type": "execute_result"
    }
   ],
   "source": [
    "np.mean(Random_forest_models)"
   ]
  },
  {
   "cell_type": "code",
   "execution_count": 41,
   "id": "58c6720b",
   "metadata": {},
   "outputs": [],
   "source": [
    "X_train, X_test, y_train, y_test = train_test_split(X, y, test_size = 0.2)"
   ]
  },
  {
   "cell_type": "code",
   "execution_count": 42,
   "id": "4937afb8",
   "metadata": {},
   "outputs": [],
   "source": [
    "Random_forest = RandomForestClassifier(ccp_alpha = 0.001, max_depth = 50, max_leaf_nodes = 50, n_estimators = 100)"
   ]
  },
  {
   "cell_type": "code",
   "execution_count": 43,
   "id": "ffe83a21",
   "metadata": {},
   "outputs": [
    {
     "data": {
      "text/plain": [
       "RandomForestClassifier(ccp_alpha=0.001, max_depth=50, max_leaf_nodes=50)"
      ]
     },
     "execution_count": 43,
     "metadata": {},
     "output_type": "execute_result"
    }
   ],
   "source": [
    "Random_forest.fit(X_train, y_train)"
   ]
  },
  {
   "cell_type": "markdown",
   "id": "3c7e42f7",
   "metadata": {},
   "source": [
    "Model accuracy is on test data in around 0.73 which is higher than the accuracy of Random Forest in Model 1 and 2."
   ]
  },
  {
   "cell_type": "code",
   "execution_count": 44,
   "id": "ef9de683",
   "metadata": {},
   "outputs": [
    {
     "data": {
      "text/plain": [
       "0.73"
      ]
     },
     "execution_count": 44,
     "metadata": {},
     "output_type": "execute_result"
    }
   ],
   "source": [
    "Random_forest.score(X_test, y_test)"
   ]
  },
  {
   "cell_type": "code",
   "execution_count": 45,
   "id": "60d55433",
   "metadata": {},
   "outputs": [],
   "source": [
    "y_predicted = Random_forest.predict(X_test)"
   ]
  },
  {
   "cell_type": "code",
   "execution_count": 46,
   "id": "0958067a",
   "metadata": {},
   "outputs": [
    {
     "data": {
      "text/plain": [
       "Text(69.0, 0.5, 'Truth')"
      ]
     },
     "execution_count": 46,
     "metadata": {},
     "output_type": "execute_result"
    },
    {
     "data": {
      "image/png": "[encoded data removed]",
      "text/plain": [
       "<Figure size 720x504 with 2 Axes>"
      ]
     },
     "metadata": {
      "needs_background": "light"
     },
     "output_type": "display_data"
    }
   ],
   "source": [
    "# Let's visualize this confusion matrix in seaborn\n",
    "cm = tf.math.confusion_matrix(labels = y_test, predictions = y_predicted)\n",
    "plt.figure(figsize = (10, 7))\n",
    "sn.heatmap(cm, annot = True, fmt = 'd')\n",
    "plt.xlabel ('predicted')\n",
    "plt.ylabel('Truth')"
   ]
  },
  {
   "cell_type": "markdown",
   "id": "014a39ea",
   "metadata": {},
   "source": [
    "F-Score for Class = 0 is 0.83 which is the highest value of Random Forest among all models. F-score of Class = 1 is 0.39 which improved significantly compared to Model 1 and 2. Similarly, F-score of Class = 0 is 0.83 which is very good. The weighted average F-score is 0.69."
   ]
  },
  {
   "cell_type": "code",
   "execution_count": 47,
   "id": "1e992f86",
   "metadata": {},
   "outputs": [
    {
     "name": "stdout",
     "output_type": "stream",
     "text": [
      "              precision    recall  f1-score   support\n",
      "\n",
      "           0       0.74      0.94      0.83       205\n",
      "           1       0.68      0.27      0.39        95\n",
      "\n",
      "    accuracy                           0.73       300\n",
      "   macro avg       0.71      0.61      0.61       300\n",
      "weighted avg       0.72      0.73      0.69       300\n",
      "\n"
     ]
    }
   ],
   "source": [
    "print(classification_report(y_test, y_predicted, zero_division = False))"
   ]
  },
  {
   "cell_type": "markdown",
   "id": "d354eeaa",
   "metadata": {},
   "source": [
    "## 2. Gradient Boost"
   ]
  },
  {
   "cell_type": "markdown",
   "id": "de8350d8",
   "metadata": {},
   "source": [
    "Similar to the Random Forest model, we use Univariate_Selection and n_feature = 100 as the optimum number of features."
   ]
  },
  {
   "cell_type": "code",
   "execution_count": 48,
   "id": "dff4cfbd",
   "metadata": {},
   "outputs": [
    {
     "name": "stdout",
     "output_type": "stream",
     "text": [
      "                                              Specs      Score\n",
      "37                            integrative_cluster_5  45.582306\n",
      "6                                       her2_status  32.948072\n",
      "3                                      chemotherapy  32.422593\n",
      "51   3-gene_classifier_subtype_ER+/HER2- Low Prolif  31.215246\n",
      "53                  3-gene_classifier_subtype_HER2+  29.915362\n",
      "..                                              ...        ...\n",
      "24                   pam50_+_claudin-low_subtype_NC   0.519782\n",
      "412                                           lama2   0.509191\n",
      "261                                           mmp12   0.507938\n",
      "272                                           mmp25   0.502321\n",
      "197                                            csf1   0.500158\n",
      "\n",
      "[100 rows x 2 columns]\n"
     ]
    }
   ],
   "source": [
    "X, y = Univariate_Selection (df, n_features = 100)"
   ]
  },
  {
   "cell_type": "markdown",
   "id": "c9979012",
   "metadata": {},
   "source": [
    "We use GridSearchCV to find the optimum values of the hyperparameters, in particular learning rate."
   ]
  },
  {
   "cell_type": "code",
   "execution_count": 49,
   "id": "c9e61cca",
   "metadata": {},
   "outputs": [
    {
     "name": "stdout",
     "output_type": "stream",
     "text": [
      "{'learning_rate': 0.15, 'n_estimators': 50} 0.7089520624303234\n"
     ]
    }
   ],
   "source": [
    "param_grid = [\n",
    "    {'learning_rate' : [0.001, 0.01, 0.1, 0.15],\n",
    "     'n_estimators' : [50, 80, 100, 150]\n",
    "    }\n",
    "]\n",
    "\n",
    "optimal_params = GridSearchCV(GradientBoostingClassifier(), param_grid, cv = 5, scoring = 'accuracy')\n",
    "\n",
    "optimal_params.fit(X, y)\n",
    "\n",
    "print(optimal_params.best_params_, optimal_params.best_score_)"
   ]
  },
  {
   "cell_type": "code",
   "execution_count": 50,
   "id": "e1a170cf",
   "metadata": {},
   "outputs": [
    {
     "data": {
      "text/plain": [
       "array([0.72666667, 0.74666667, 0.7       , 0.70666667, 0.61333333,\n",
       "       0.66666667, 0.66666667, 0.68      , 0.72483221, 0.79194631])"
      ]
     },
     "execution_count": 50,
     "metadata": {},
     "output_type": "execute_result"
    }
   ],
   "source": [
    "Boost_models = cross_val_score(GradientBoostingClassifier(learning_rate = 0.15, n_estimators = 50),X, y,cv = 10)\n",
    "Boost_models"
   ]
  },
  {
   "cell_type": "code",
   "execution_count": 51,
   "id": "d49f958e",
   "metadata": {},
   "outputs": [
    {
     "data": {
      "text/plain": [
       "0.7023445190156599"
      ]
     },
     "execution_count": 51,
     "metadata": {},
     "output_type": "execute_result"
    }
   ],
   "source": [
    "np.mean(Boost_models)"
   ]
  },
  {
   "cell_type": "code",
   "execution_count": 52,
   "id": "ba6df8c6",
   "metadata": {},
   "outputs": [],
   "source": [
    "X_train, X_test, y_train, y_test = train_test_split(X, y, test_size = 0.2)"
   ]
  },
  {
   "cell_type": "code",
   "execution_count": 53,
   "id": "899beb33",
   "metadata": {},
   "outputs": [
    {
     "data": {
      "text/plain": [
       "GradientBoostingClassifier(learning_rate=0.15, n_estimators=50)"
      ]
     },
     "execution_count": 53,
     "metadata": {},
     "output_type": "execute_result"
    }
   ],
   "source": [
    "gBoostClassifier = GradientBoostingClassifier(learning_rate = 0.15, n_estimators = 50)\n",
    "gBoostClassifier.fit(X_train, y_train)"
   ]
  },
  {
   "cell_type": "markdown",
   "id": "7ed4e285",
   "metadata": {},
   "source": [
    "The accuracy of Gradient Boost on test data is 0.71."
   ]
  },
  {
   "cell_type": "code",
   "execution_count": 54,
   "id": "a1ba833e",
   "metadata": {},
   "outputs": [
    {
     "data": {
      "text/plain": [
       "0.71"
      ]
     },
     "execution_count": 54,
     "metadata": {},
     "output_type": "execute_result"
    }
   ],
   "source": [
    "gBoostClassifier.score(X_test, y_test)"
   ]
  },
  {
   "cell_type": "code",
   "execution_count": 55,
   "id": "0a2049f5",
   "metadata": {},
   "outputs": [],
   "source": [
    "y_predicted = gBoostClassifier.predict(X_test)"
   ]
  },
  {
   "cell_type": "markdown",
   "id": "daee1489",
   "metadata": {},
   "source": [
    "Gradient boost works really good in prediction of Class = 1 compared to Random Forest."
   ]
  },
  {
   "cell_type": "code",
   "execution_count": 56,
   "id": "d73da5d1",
   "metadata": {
    "scrolled": false
   },
   "outputs": [
    {
     "data": {
      "text/plain": [
       "Text(69.0, 0.5, 'Truth')"
      ]
     },
     "execution_count": 56,
     "metadata": {},
     "output_type": "execute_result"
    },
    {
     "data": {
      "image/png": "[encoded data removed]",
      "text/plain": [
       "<Figure size 720x504 with 2 Axes>"
      ]
     },
     "metadata": {
      "needs_background": "light"
     },
     "output_type": "display_data"
    }
   ],
   "source": [
    "# Let's visualize this confusion matrix in seaborn\n",
    "cm = tf.math.confusion_matrix(labels = y_test, predictions = y_predicted)\n",
    "plt.figure(figsize = (10, 7))\n",
    "sn.heatmap(cm, annot = True, fmt = 'd')\n",
    "plt.xlabel ('predicted')\n",
    "plt.ylabel('Truth')"
   ]
  },
  {
   "cell_type": "markdown",
   "id": "6d2081cf",
   "metadata": {},
   "source": [
    "F-Score for Class = 0 is 0.80 which is satisfactory. F-score of Class = 1 is 0.44 which has improved significantly compared to F-score in Model 1 and 2. The weighted average F-score is 0.70, indicating the best performance among all models so far."
   ]
  },
  {
   "cell_type": "code",
   "execution_count": 57,
   "id": "f8c4ee65",
   "metadata": {
    "scrolled": true
   },
   "outputs": [
    {
     "name": "stdout",
     "output_type": "stream",
     "text": [
      "              precision    recall  f1-score   support\n",
      "\n",
      "           0       0.77      0.84      0.80       212\n",
      "           1       0.51      0.39      0.44        88\n",
      "\n",
      "    accuracy                           0.71       300\n",
      "   macro avg       0.64      0.62      0.62       300\n",
      "weighted avg       0.69      0.71      0.70       300\n",
      "\n"
     ]
    }
   ],
   "source": [
    "print(classification_report(y_test, y_predicted, zero_division = False))"
   ]
  },
  {
   "cell_type": "markdown",
   "id": "fb0d3a51",
   "metadata": {},
   "source": [
    "## 3. Neural Network"
   ]
  },
  {
   "cell_type": "markdown",
   "id": "6b3ff366",
   "metadata": {},
   "source": [
    "In this part, we use a shallow neural network for binary classification."
   ]
  },
  {
   "cell_type": "code",
   "execution_count": 58,
   "id": "92e87070",
   "metadata": {},
   "outputs": [
    {
     "name": "stdout",
     "output_type": "stream",
     "text": [
      "                                              Specs      Score\n",
      "37                            integrative_cluster_5  45.582306\n",
      "6                                       her2_status  32.948072\n",
      "3                                      chemotherapy  32.422593\n",
      "51   3-gene_classifier_subtype_ER+/HER2- Low Prolif  31.215246\n",
      "53                  3-gene_classifier_subtype_HER2+  29.915362\n",
      "..                                              ...        ...\n",
      "24                   pam50_+_claudin-low_subtype_NC   0.519782\n",
      "412                                           lama2   0.509191\n",
      "261                                           mmp12   0.507938\n",
      "272                                           mmp25   0.502321\n",
      "197                                            csf1   0.500158\n",
      "\n",
      "[100 rows x 2 columns]\n"
     ]
    }
   ],
   "source": [
    "X, y = Univariate_Selection (df, n_features = 100)"
   ]
  },
  {
   "cell_type": "code",
   "execution_count": 69,
   "id": "53bc1cbf",
   "metadata": {},
   "outputs": [],
   "source": [
    "X_train, X_test, y_train, y_test = train_test_split(X, y, test_size = 0.2)"
   ]
  },
  {
   "cell_type": "code",
   "execution_count": 70,
   "id": "6a485971",
   "metadata": {},
   "outputs": [
    {
     "data": {
      "text/plain": [
       "(1198, 100)"
      ]
     },
     "execution_count": 70,
     "metadata": {},
     "output_type": "execute_result"
    }
   ],
   "source": [
    "X_train.shape"
   ]
  },
  {
   "cell_type": "code",
   "execution_count": 71,
   "id": "43e88d0d",
   "metadata": {},
   "outputs": [
    {
     "name": "stdout",
     "output_type": "stream",
     "text": [
      "Epoch 1/100\n",
      "38/38 [==============================] - 1s 11ms/step - loss: 0.7088 - accuracy: 0.5993 - val_loss: 0.6421 - val_accuracy: 0.6567\n",
      "Epoch 2/100\n",
      "38/38 [==============================] - 0s 5ms/step - loss: 0.6442 - accuracy: 0.6586 - val_loss: 0.6319 - val_accuracy: 0.6567\n",
      "Epoch 3/100\n",
      "38/38 [==============================] - 0s 5ms/step - loss: 0.6423 - accuracy: 0.6586 - val_loss: 0.6240 - val_accuracy: 0.6600\n",
      "Epoch 4/100\n",
      "38/38 [==============================] - 0s 5ms/step - loss: 0.6402 - accuracy: 0.6586 - val_loss: 0.6169 - val_accuracy: 0.6600\n",
      "Epoch 5/100\n",
      "38/38 [==============================] - 0s 5ms/step - loss: 0.6184 - accuracy: 0.6628 - val_loss: 0.6109 - val_accuracy: 0.6667\n",
      "Epoch 6/100\n",
      "38/38 [==============================] - 0s 5ms/step - loss: 0.6169 - accuracy: 0.6861 - val_loss: 0.6104 - val_accuracy: 0.6667\n",
      "Epoch 7/100\n",
      "38/38 [==============================] - 0s 5ms/step - loss: 0.6137 - accuracy: 0.6928 - val_loss: 0.6057 - val_accuracy: 0.6600\n",
      "Epoch 8/100\n",
      "38/38 [==============================] - 0s 5ms/step - loss: 0.6098 - accuracy: 0.6678 - val_loss: 0.6036 - val_accuracy: 0.6600\n",
      "Epoch 9/100\n",
      "38/38 [==============================] - 0s 5ms/step - loss: 0.6084 - accuracy: 0.6886 - val_loss: 0.6019 - val_accuracy: 0.6600\n",
      "Epoch 10/100\n",
      "38/38 [==============================] - 0s 5ms/step - loss: 0.6039 - accuracy: 0.6803 - val_loss: 0.6000 - val_accuracy: 0.6600\n",
      "Epoch 11/100\n",
      "38/38 [==============================] - 0s 5ms/step - loss: 0.5965 - accuracy: 0.6845 - val_loss: 0.5979 - val_accuracy: 0.6567\n",
      "Epoch 12/100\n",
      "38/38 [==============================] - 0s 5ms/step - loss: 0.6022 - accuracy: 0.6728 - val_loss: 0.6009 - val_accuracy: 0.6600\n",
      "Epoch 13/100\n",
      "38/38 [==============================] - 0s 5ms/step - loss: 0.5945 - accuracy: 0.6878 - val_loss: 0.5981 - val_accuracy: 0.6600\n",
      "Epoch 14/100\n",
      "38/38 [==============================] - 0s 6ms/step - loss: 0.5880 - accuracy: 0.7028 - val_loss: 0.5930 - val_accuracy: 0.6733\n",
      "Epoch 15/100\n",
      "38/38 [==============================] - 0s 5ms/step - loss: 0.5947 - accuracy: 0.6870 - val_loss: 0.5908 - val_accuracy: 0.6733\n",
      "Epoch 16/100\n",
      "38/38 [==============================] - 0s 6ms/step - loss: 0.5773 - accuracy: 0.7012 - val_loss: 0.5877 - val_accuracy: 0.6800\n",
      "Epoch 17/100\n",
      "38/38 [==============================] - 0s 5ms/step - loss: 0.5951 - accuracy: 0.6920 - val_loss: 0.5900 - val_accuracy: 0.6700\n",
      "Epoch 18/100\n",
      "38/38 [==============================] - 0s 6ms/step - loss: 0.5891 - accuracy: 0.6953 - val_loss: 0.5871 - val_accuracy: 0.6800\n",
      "Epoch 19/100\n",
      "38/38 [==============================] - 0s 6ms/step - loss: 0.5677 - accuracy: 0.7078 - val_loss: 0.5891 - val_accuracy: 0.6833\n",
      "Epoch 20/100\n",
      "38/38 [==============================] - 0s 5ms/step - loss: 0.5779 - accuracy: 0.7204 - val_loss: 0.5832 - val_accuracy: 0.6800\n",
      "Epoch 21/100\n",
      "38/38 [==============================] - 0s 6ms/step - loss: 0.5683 - accuracy: 0.7070 - val_loss: 0.5808 - val_accuracy: 0.6833\n",
      "Epoch 22/100\n",
      "38/38 [==============================] - 0s 5ms/step - loss: 0.5719 - accuracy: 0.7028 - val_loss: 0.5843 - val_accuracy: 0.6767\n",
      "Epoch 23/100\n",
      "38/38 [==============================] - 0s 5ms/step - loss: 0.5723 - accuracy: 0.7112 - val_loss: 0.5803 - val_accuracy: 0.6900\n",
      "Epoch 24/100\n",
      "38/38 [==============================] - 0s 8ms/step - loss: 0.5731 - accuracy: 0.7062 - val_loss: 0.5837 - val_accuracy: 0.6800\n",
      "Epoch 25/100\n",
      "38/38 [==============================] - 0s 5ms/step - loss: 0.5728 - accuracy: 0.7053 - val_loss: 0.5816 - val_accuracy: 0.6867\n",
      "Epoch 26/100\n",
      "38/38 [==============================] - 0s 5ms/step - loss: 0.5612 - accuracy: 0.7154 - val_loss: 0.5778 - val_accuracy: 0.6967\n",
      "Epoch 27/100\n",
      "38/38 [==============================] - 0s 5ms/step - loss: 0.5491 - accuracy: 0.7220 - val_loss: 0.5802 - val_accuracy: 0.6833\n",
      "Epoch 28/100\n",
      "38/38 [==============================] - 0s 6ms/step - loss: 0.5718 - accuracy: 0.7187 - val_loss: 0.5775 - val_accuracy: 0.7067\n",
      "Epoch 29/100\n",
      "38/38 [==============================] - 0s 5ms/step - loss: 0.5656 - accuracy: 0.7154 - val_loss: 0.5728 - val_accuracy: 0.6933\n",
      "Epoch 30/100\n",
      "38/38 [==============================] - 0s 5ms/step - loss: 0.5660 - accuracy: 0.7053 - val_loss: 0.5764 - val_accuracy: 0.6867\n",
      "Epoch 31/100\n",
      "38/38 [==============================] - 0s 5ms/step - loss: 0.5622 - accuracy: 0.7304 - val_loss: 0.5853 - val_accuracy: 0.6867\n",
      "Epoch 32/100\n",
      "38/38 [==============================] - 0s 5ms/step - loss: 0.5405 - accuracy: 0.7312 - val_loss: 0.5845 - val_accuracy: 0.6900\n",
      "Epoch 33/100\n",
      "38/38 [==============================] - 0s 5ms/step - loss: 0.5418 - accuracy: 0.7162 - val_loss: 0.5858 - val_accuracy: 0.6933\n",
      "Epoch 34/100\n",
      "38/38 [==============================] - 0s 5ms/step - loss: 0.5511 - accuracy: 0.7137 - val_loss: 0.5814 - val_accuracy: 0.6933\n",
      "Epoch 35/100\n",
      "38/38 [==============================] - 0s 6ms/step - loss: 0.5511 - accuracy: 0.7204 - val_loss: 0.5796 - val_accuracy: 0.6933\n",
      "Epoch 36/100\n",
      "38/38 [==============================] - 0s 5ms/step - loss: 0.5509 - accuracy: 0.7154 - val_loss: 0.5772 - val_accuracy: 0.7033\n",
      "Epoch 37/100\n",
      "38/38 [==============================] - 0s 5ms/step - loss: 0.5414 - accuracy: 0.7396 - val_loss: 0.5727 - val_accuracy: 0.7033\n",
      "Epoch 38/100\n",
      "38/38 [==============================] - 0s 6ms/step - loss: 0.5446 - accuracy: 0.7220 - val_loss: 0.5756 - val_accuracy: 0.7000\n",
      "Epoch 39/100\n",
      "38/38 [==============================] - 0s 6ms/step - loss: 0.5412 - accuracy: 0.7262 - val_loss: 0.5740 - val_accuracy: 0.7033\n",
      "Epoch 40/100\n",
      "38/38 [==============================] - 0s 5ms/step - loss: 0.5249 - accuracy: 0.7295 - val_loss: 0.5711 - val_accuracy: 0.6867\n",
      "Epoch 41/100\n",
      "38/38 [==============================] - 0s 5ms/step - loss: 0.5385 - accuracy: 0.7329 - val_loss: 0.5807 - val_accuracy: 0.6967\n",
      "Epoch 42/100\n",
      "38/38 [==============================] - 0s 6ms/step - loss: 0.5383 - accuracy: 0.7212 - val_loss: 0.5801 - val_accuracy: 0.6900\n",
      "Epoch 43/100\n",
      "38/38 [==============================] - 0s 5ms/step - loss: 0.5273 - accuracy: 0.7312 - val_loss: 0.5793 - val_accuracy: 0.6967\n",
      "Epoch 44/100\n",
      "38/38 [==============================] - 0s 6ms/step - loss: 0.5375 - accuracy: 0.7513 - val_loss: 0.5834 - val_accuracy: 0.6967\n",
      "Epoch 45/100\n",
      "38/38 [==============================] - 0s 6ms/step - loss: 0.5167 - accuracy: 0.7462 - val_loss: 0.5774 - val_accuracy: 0.6967\n",
      "Epoch 46/100\n",
      "38/38 [==============================] - 0s 5ms/step - loss: 0.5282 - accuracy: 0.7346 - val_loss: 0.5812 - val_accuracy: 0.6933\n",
      "Epoch 47/100\n",
      "38/38 [==============================] - 0s 6ms/step - loss: 0.5126 - accuracy: 0.7504 - val_loss: 0.5905 - val_accuracy: 0.6900\n",
      "Epoch 48/100\n",
      "38/38 [==============================] - 0s 6ms/step - loss: 0.5222 - accuracy: 0.7471 - val_loss: 0.5826 - val_accuracy: 0.7000\n",
      "Epoch 49/100\n",
      "38/38 [==============================] - 0s 5ms/step - loss: 0.5338 - accuracy: 0.7396 - val_loss: 0.5805 - val_accuracy: 0.6867\n",
      "Epoch 50/100\n",
      "38/38 [==============================] - 0s 5ms/step - loss: 0.5186 - accuracy: 0.7454 - val_loss: 0.6000 - val_accuracy: 0.6833\n",
      "Epoch 51/100\n",
      "38/38 [==============================] - 0s 5ms/step - loss: 0.5099 - accuracy: 0.7513 - val_loss: 0.5791 - val_accuracy: 0.6767\n",
      "Epoch 52/100\n",
      "38/38 [==============================] - 0s 5ms/step - loss: 0.5206 - accuracy: 0.7521 - val_loss: 0.5885 - val_accuracy: 0.6967\n",
      "Epoch 53/100\n",
      "38/38 [==============================] - 0s 5ms/step - loss: 0.5116 - accuracy: 0.7521 - val_loss: 0.5788 - val_accuracy: 0.6900\n",
      "Epoch 54/100\n",
      "38/38 [==============================] - 0s 6ms/step - loss: 0.5122 - accuracy: 0.7554 - val_loss: 0.5791 - val_accuracy: 0.6933\n",
      "Epoch 55/100\n",
      "38/38 [==============================] - 0s 7ms/step - loss: 0.5008 - accuracy: 0.7529 - val_loss: 0.5801 - val_accuracy: 0.7100\n",
      "Epoch 56/100\n",
      "38/38 [==============================] - 0s 5ms/step - loss: 0.5110 - accuracy: 0.7487 - val_loss: 0.5796 - val_accuracy: 0.6967\n",
      "Epoch 57/100\n",
      "38/38 [==============================] - 0s 6ms/step - loss: 0.5145 - accuracy: 0.7596 - val_loss: 0.5813 - val_accuracy: 0.7000\n",
      "Epoch 58/100\n",
      "38/38 [==============================] - 0s 6ms/step - loss: 0.5101 - accuracy: 0.7621 - val_loss: 0.5790 - val_accuracy: 0.6867\n"
     ]
    },
    {
     "name": "stdout",
     "output_type": "stream",
     "text": [
      "Epoch 59/100\n",
      "38/38 [==============================] - 0s 5ms/step - loss: 0.5027 - accuracy: 0.7571 - val_loss: 0.5897 - val_accuracy: 0.7067\n",
      "Epoch 60/100\n",
      "38/38 [==============================] - 0s 5ms/step - loss: 0.5043 - accuracy: 0.7387 - val_loss: 0.6056 - val_accuracy: 0.7000\n",
      "Epoch 61/100\n",
      "38/38 [==============================] - 0s 5ms/step - loss: 0.5066 - accuracy: 0.7396 - val_loss: 0.5848 - val_accuracy: 0.6967\n",
      "Epoch 62/100\n",
      "38/38 [==============================] - 0s 5ms/step - loss: 0.4935 - accuracy: 0.7663 - val_loss: 0.5892 - val_accuracy: 0.6833\n",
      "Epoch 63/100\n",
      "38/38 [==============================] - 0s 5ms/step - loss: 0.4930 - accuracy: 0.7563 - val_loss: 0.5996 - val_accuracy: 0.6967\n",
      "Epoch 64/100\n",
      "38/38 [==============================] - 0s 5ms/step - loss: 0.4841 - accuracy: 0.7554 - val_loss: 0.5893 - val_accuracy: 0.6833\n",
      "Epoch 65/100\n",
      "38/38 [==============================] - 0s 5ms/step - loss: 0.4957 - accuracy: 0.7621 - val_loss: 0.5858 - val_accuracy: 0.6833\n",
      "Epoch 66/100\n",
      "38/38 [==============================] - 0s 5ms/step - loss: 0.4776 - accuracy: 0.7696 - val_loss: 0.5981 - val_accuracy: 0.6967\n",
      "Epoch 67/100\n",
      "38/38 [==============================] - 0s 5ms/step - loss: 0.4822 - accuracy: 0.7546 - val_loss: 0.6000 - val_accuracy: 0.6933\n",
      "Epoch 68/100\n",
      "38/38 [==============================] - 0s 5ms/step - loss: 0.4860 - accuracy: 0.7654 - val_loss: 0.6355 - val_accuracy: 0.7133\n",
      "Epoch 69/100\n",
      "38/38 [==============================] - 0s 5ms/step - loss: 0.4959 - accuracy: 0.7596 - val_loss: 0.6119 - val_accuracy: 0.7000\n",
      "Epoch 70/100\n",
      "38/38 [==============================] - 0s 5ms/step - loss: 0.4797 - accuracy: 0.7796 - val_loss: 0.5954 - val_accuracy: 0.7000\n",
      "Epoch 71/100\n",
      "38/38 [==============================] - 0s 5ms/step - loss: 0.4757 - accuracy: 0.7780 - val_loss: 0.6156 - val_accuracy: 0.6967\n",
      "Epoch 72/100\n",
      "38/38 [==============================] - 0s 5ms/step - loss: 0.4796 - accuracy: 0.7721 - val_loss: 0.5887 - val_accuracy: 0.6800\n",
      "Epoch 73/100\n",
      "38/38 [==============================] - 0s 5ms/step - loss: 0.4746 - accuracy: 0.7746 - val_loss: 0.6238 - val_accuracy: 0.6967\n",
      "Epoch 74/100\n",
      "38/38 [==============================] - 0s 5ms/step - loss: 0.4854 - accuracy: 0.7596 - val_loss: 0.5924 - val_accuracy: 0.6733\n",
      "Epoch 75/100\n",
      "38/38 [==============================] - 0s 5ms/step - loss: 0.4664 - accuracy: 0.7813 - val_loss: 0.6177 - val_accuracy: 0.6800\n",
      "Epoch 76/100\n",
      "38/38 [==============================] - 0s 5ms/step - loss: 0.4601 - accuracy: 0.7930 - val_loss: 0.6107 - val_accuracy: 0.7067\n",
      "Epoch 77/100\n",
      "38/38 [==============================] - 0s 5ms/step - loss: 0.4710 - accuracy: 0.7771 - val_loss: 0.6125 - val_accuracy: 0.6933\n",
      "Epoch 78/100\n",
      "38/38 [==============================] - 0s 5ms/step - loss: 0.4891 - accuracy: 0.7629 - val_loss: 0.6165 - val_accuracy: 0.6867\n",
      "Epoch 79/100\n",
      "38/38 [==============================] - 0s 5ms/step - loss: 0.4579 - accuracy: 0.7813 - val_loss: 0.6151 - val_accuracy: 0.6933\n",
      "Epoch 80/100\n",
      "38/38 [==============================] - 0s 5ms/step - loss: 0.4598 - accuracy: 0.7813 - val_loss: 0.6052 - val_accuracy: 0.6767\n",
      "Epoch 81/100\n",
      "38/38 [==============================] - 0s 5ms/step - loss: 0.4630 - accuracy: 0.7813 - val_loss: 0.6081 - val_accuracy: 0.6767\n",
      "Epoch 82/100\n",
      "38/38 [==============================] - 0s 5ms/step - loss: 0.4629 - accuracy: 0.7821 - val_loss: 0.6346 - val_accuracy: 0.6767\n",
      "Epoch 83/100\n",
      "38/38 [==============================] - 0s 5ms/step - loss: 0.4350 - accuracy: 0.7972 - val_loss: 0.6309 - val_accuracy: 0.6567\n",
      "Epoch 84/100\n",
      "38/38 [==============================] - 0s 5ms/step - loss: 0.4573 - accuracy: 0.7821 - val_loss: 0.6278 - val_accuracy: 0.7033\n",
      "Epoch 85/100\n",
      "38/38 [==============================] - 0s 5ms/step - loss: 0.4597 - accuracy: 0.7763 - val_loss: 0.6294 - val_accuracy: 0.6767\n",
      "Epoch 86/100\n",
      "38/38 [==============================] - 0s 5ms/step - loss: 0.4549 - accuracy: 0.7896 - val_loss: 0.6424 - val_accuracy: 0.6900\n",
      "Epoch 87/100\n",
      "38/38 [==============================] - 0s 5ms/step - loss: 0.4554 - accuracy: 0.7896 - val_loss: 0.6117 - val_accuracy: 0.6767\n",
      "Epoch 88/100\n",
      "38/38 [==============================] - 0s 5ms/step - loss: 0.4469 - accuracy: 0.7972 - val_loss: 0.6236 - val_accuracy: 0.6467\n",
      "Epoch 89/100\n",
      "38/38 [==============================] - 0s 5ms/step - loss: 0.4369 - accuracy: 0.8063 - val_loss: 0.6424 - val_accuracy: 0.6800\n",
      "Epoch 90/100\n",
      "38/38 [==============================] - 0s 5ms/step - loss: 0.4536 - accuracy: 0.7888 - val_loss: 0.6306 - val_accuracy: 0.6733\n",
      "Epoch 91/100\n",
      "38/38 [==============================] - 0s 5ms/step - loss: 0.4319 - accuracy: 0.7888 - val_loss: 0.6562 - val_accuracy: 0.6867\n",
      "Epoch 92/100\n",
      "38/38 [==============================] - 0s 5ms/step - loss: 0.4528 - accuracy: 0.8022 - val_loss: 0.6468 - val_accuracy: 0.6933\n",
      "Epoch 93/100\n",
      "38/38 [==============================] - 0s 5ms/step - loss: 0.4319 - accuracy: 0.8047 - val_loss: 0.6286 - val_accuracy: 0.6667\n",
      "Epoch 94/100\n",
      "38/38 [==============================] - 0s 5ms/step - loss: 0.4174 - accuracy: 0.8088 - val_loss: 0.6646 - val_accuracy: 0.6700\n",
      "Epoch 95/100\n",
      "38/38 [==============================] - 0s 7ms/step - loss: 0.4439 - accuracy: 0.8022 - val_loss: 0.6183 - val_accuracy: 0.6700\n",
      "Epoch 96/100\n",
      "38/38 [==============================] - 0s 5ms/step - loss: 0.4327 - accuracy: 0.7871 - val_loss: 0.6355 - val_accuracy: 0.6633\n",
      "Epoch 97/100\n",
      "38/38 [==============================] - 0s 5ms/step - loss: 0.4317 - accuracy: 0.8013 - val_loss: 0.6575 - val_accuracy: 0.6867\n",
      "Epoch 98/100\n",
      "38/38 [==============================] - 0s 5ms/step - loss: 0.4253 - accuracy: 0.8005 - val_loss: 0.6543 - val_accuracy: 0.6700\n",
      "Epoch 99/100\n",
      "38/38 [==============================] - 0s 5ms/step - loss: 0.4188 - accuracy: 0.8097 - val_loss: 0.6521 - val_accuracy: 0.6733\n",
      "Epoch 100/100\n",
      "38/38 [==============================] - 0s 7ms/step - loss: 0.4166 - accuracy: 0.8230 - val_loss: 0.6866 - val_accuracy: 0.6967\n"
     ]
    }
   ],
   "source": [
    "NN = keras.Sequential([\n",
    "    \n",
    "    keras.layers.Dense(100, input_shape = (100, ), activation = 'relu'),\n",
    "    keras.layers.Dropout(0.6),\n",
    "    keras.layers.Dense(30, activation = 'relu'),\n",
    "    keras.layers.Dropout(0.6),\n",
    "    keras.layers.Dense(1, activation = 'sigmoid'), \n",
    "])\n",
    "\n",
    "NN.compile(optimizer = 'adam',\n",
    "                loss = 'binary_crossentropy',\n",
    "                metrics = ['accuracy'])\n",
    "\n",
    "  \n",
    "history_class = NN.fit(X_train, y_train, validation_data = (X_test, y_test), epochs = 100, batch_size = 32)"
   ]
  },
  {
   "cell_type": "markdown",
   "id": "26928096",
   "metadata": {},
   "source": [
    "This NN model has 13,161 parameters that should be optimized by backpropagation."
   ]
  },
  {
   "cell_type": "code",
   "execution_count": 72,
   "id": "ca318c1d",
   "metadata": {},
   "outputs": [
    {
     "name": "stdout",
     "output_type": "stream",
     "text": [
      "Model: \"sequential_2\"\n",
      "_________________________________________________________________\n",
      " Layer (type)                Output Shape              Param #   \n",
      "=================================================================\n",
      " dense_6 (Dense)             (None, 100)               10100     \n",
      "                                                                 \n",
      " dropout_4 (Dropout)         (None, 100)               0         \n",
      "                                                                 \n",
      " dense_7 (Dense)             (None, 30)                3030      \n",
      "                                                                 \n",
      " dropout_5 (Dropout)         (None, 30)                0         \n",
      "                                                                 \n",
      " dense_8 (Dense)             (None, 1)                 31        \n",
      "                                                                 \n",
      "=================================================================\n",
      "Total params: 13,161\n",
      "Trainable params: 13,161\n",
      "Non-trainable params: 0\n",
      "_________________________________________________________________\n"
     ]
    }
   ],
   "source": [
    "NN.summary()"
   ]
  },
  {
   "cell_type": "markdown",
   "id": "b621cf0a",
   "metadata": {},
   "source": [
    "The following figures show the profiles of \"loss\" and \"accuracy\" with respect to epochs for the training and validation (test) datasets."
   ]
  },
  {
   "cell_type": "code",
   "execution_count": 73,
   "id": "2f1d1f98",
   "metadata": {},
   "outputs": [
    {
     "data": {
      "text/plain": [
       "<matplotlib.legend.Legend at 0x1ff68e81f70>"
      ]
     },
     "execution_count": 73,
     "metadata": {},
     "output_type": "execute_result"
    },
    {
     "data": {
      "image/png": "[encoded data removed]",
      "text/plain": [
       "<Figure size 1080x360 with 2 Axes>"
      ]
     },
     "metadata": {
      "needs_background": "light"
     },
     "output_type": "display_data"
    }
   ],
   "source": [
    "plt.figure(figsize = (15, 5))\n",
    "\n",
    "plt.subplot(1,2,1)\n",
    "plt.plot(history_class.history['loss'], label = 'training')\n",
    "plt.plot(history_class.history['val_loss'], label = 'validation')\n",
    "plt.xlabel('epochs')\n",
    "plt.ylabel('loss')\n",
    "plt.legend()\n",
    "\n",
    "plt.subplot(1,2,2)\n",
    "plt.plot(history_class.history['accuracy'], label = 'training')\n",
    "plt.plot(history_class.history['val_accuracy'], label = 'Validation')\n",
    "plt.xlabel('epochs')\n",
    "plt.ylabel('accuracy')\n",
    "plt.legend()\n"
   ]
  },
  {
   "cell_type": "markdown",
   "id": "f6e5850b",
   "metadata": {},
   "source": [
    "The accuracy of the NN model on test set is around 0.69."
   ]
  },
  {
   "cell_type": "markdown",
   "id": "5ff27b83",
   "metadata": {},
   "source": [
    "The accuracy of the NN model on test set is around 0.69."
   ]
  },
  {
   "cell_type": "code",
   "execution_count": 74,
   "id": "2986700e",
   "metadata": {},
   "outputs": [
    {
     "name": "stdout",
     "output_type": "stream",
     "text": [
      "10/10 [==============================] - 0s 3ms/step - loss: 0.6866 - accuracy: 0.6967\n"
     ]
    },
    {
     "data": {
      "text/plain": [
       "[0.6865929365158081, 0.6966666579246521]"
      ]
     },
     "execution_count": 74,
     "metadata": {},
     "output_type": "execute_result"
    }
   ],
   "source": [
    "NN.evaluate(X_test, y_test)"
   ]
  },
  {
   "cell_type": "code",
   "execution_count": 75,
   "id": "6d76bc46",
   "metadata": {},
   "outputs": [],
   "source": [
    "y_predicted = NN.predict(X_test)"
   ]
  },
  {
   "cell_type": "code",
   "execution_count": 76,
   "id": "261986e6",
   "metadata": {},
   "outputs": [],
   "source": [
    "y_predicted_labels = []\n",
    "\n",
    "for ii in y_predicted:\n",
    "    if ii > 0.5:\n",
    "        y_predicted_labels.append(1)\n",
    "    elif ii <= 0.5:\n",
    "        y_predicted_labels.append(0)"
   ]
  },
  {
   "cell_type": "code",
   "execution_count": 77,
   "id": "137250c2",
   "metadata": {},
   "outputs": [
    {
     "data": {
      "text/plain": [
       "Text(69.0, 0.5, 'Truth')"
      ]
     },
     "execution_count": 77,
     "metadata": {},
     "output_type": "execute_result"
    },
    {
     "data": {
      "image/png": "[encoded data removed]",
      "text/plain": [
       "<Figure size 720x504 with 2 Axes>"
      ]
     },
     "metadata": {
      "needs_background": "light"
     },
     "output_type": "display_data"
    }
   ],
   "source": [
    "# Let's visualize this confusion matrix in seaborn\n",
    "cm = tf.math.confusion_matrix(labels = y_test, predictions = y_predicted_labels)\n",
    "plt.figure(figsize = (10, 7))\n",
    "sn.heatmap(cm, annot = True, fmt = 'd')\n",
    "plt.xlabel ('predicted')\n",
    "plt.ylabel('Truth')"
   ]
  },
  {
   "cell_type": "markdown",
   "id": "50e64563",
   "metadata": {},
   "source": [
    "F-score of class = 1 has improved significantly to 0.46. The weighted average F-score is 0.67 which is a bit lower than F-score of Gradient Boost. "
   ]
  },
  {
   "cell_type": "code",
   "execution_count": 78,
   "id": "bb04b707",
   "metadata": {
    "scrolled": true
   },
   "outputs": [
    {
     "name": "stdout",
     "output_type": "stream",
     "text": [
      "              precision    recall  f1-score   support\n",
      "\n",
      "           0       0.72      0.87      0.79       197\n",
      "           1       0.59      0.37      0.46       103\n",
      "\n",
      "    accuracy                           0.70       300\n",
      "   macro avg       0.66      0.62      0.62       300\n",
      "weighted avg       0.68      0.70      0.67       300\n",
      "\n"
     ]
    }
   ],
   "source": [
    "print(classification_report(y_test, y_predicted_labels, zero_division = False))"
   ]
  },
  {
   "cell_type": "markdown",
   "id": "aea62e28",
   "metadata": {},
   "source": [
    "## Learning curve - High Bias Problem\n",
    "### Gradient Boost Model\n",
    "In this subsection, we want to evaluate the learning curve of the Gradient Boost model. The interpretation of this curve will help us to understand why the accuracy of our model is relatively low."
   ]
  },
  {
   "cell_type": "code",
   "execution_count": 48,
   "id": "87fbc5f0",
   "metadata": {},
   "outputs": [
    {
     "name": "stdout",
     "output_type": "stream",
     "text": [
      "                                                Specs      Score\n",
      "37                              integrative_cluster_5  45.582306\n",
      "6                                         her2_status  32.948072\n",
      "3                                        chemotherapy  32.422593\n",
      "51     3-gene_classifier_subtype_ER+/HER2- Low Prolif  31.215246\n",
      "53                    3-gene_classifier_subtype_HER2+  29.915362\n",
      "22                   pam50_+_claudin-low_subtype_LumA  27.257431\n",
      "36                              integrative_cluster_3  21.067066\n",
      "21                   pam50_+_claudin-low_subtype_Her2  19.203529\n",
      "9                       lymph_nodes_examined_positive  17.360078\n",
      "1                              type_of_breast_surgery  14.024467\n",
      "11                        nottingham_prognostic_index  13.966838\n",
      "35                              integrative_cluster_2  10.138265\n",
      "12                                          pr_status   8.017459\n",
      "5                           neoplasm_histologic_grade   6.610283\n",
      "33  tumor_other_histologic_subtype_Tubular/ cribri...   5.191759\n",
      "50    3-gene_classifier_subtype_ER+/HER2- High Prolif   4.646769\n",
      "23                   pam50_+_claudin-low_subtype_LumB   4.588174\n",
      "41                              integrative_cluster_9   3.261986\n",
      "4                           er_status_measured_by_ihc   2.906279\n",
      "14                                         tumor_size   2.856896\n"
     ]
    }
   ],
   "source": [
    "X, y = Univariate_Selection (df, n_features = 100)"
   ]
  },
  {
   "cell_type": "code",
   "execution_count": 79,
   "id": "845ac0a8",
   "metadata": {},
   "outputs": [],
   "source": [
    "X_train, X_test, y_train, y_test = train_test_split(X, y, test_size = 0.001)"
   ]
  },
  {
   "cell_type": "code",
   "execution_count": 80,
   "id": "e8c704a3",
   "metadata": {},
   "outputs": [],
   "source": [
    "def plot_learning_curve(train_scores, test_scores, train_sizes, fig_name, title, xlabel, ylabel):\n",
    "    train_mean = 1 - np.mean(train_scores, axis = 1)\n",
    "\n",
    "    test_mean = 1 - np.mean(test_scores, axis = 1)\n",
    "\n",
    "    plt.plot(train_sizes, train_mean, '--',  label=\"Training score\")\n",
    "    plt.plot(train_sizes, test_mean, label=\"Cross-validation score\")\n",
    "\n",
    "    plt.title(title)\n",
    "    plt.xlabel(xlabel) \n",
    "    plt.ylabel(ylabel) \n",
    "    plt.legend(loc=\"best\")\n",
    "    plt.savefig(fig_name, bbox_inches='tight')"
   ]
  },
  {
   "cell_type": "code",
   "execution_count": 81,
   "id": "b7dfc9f6",
   "metadata": {},
   "outputs": [],
   "source": [
    "train_sizes, train_scores, test_scores = learning_curve \\\n",
    "(GradientBoostingClassifier(learning_rate = 0.15, n_estimators = 50), \\\n",
    " X_train, y_train, cv = 5, train_sizes=np.linspace(0.01, 1.0, 30))"
   ]
  },
  {
   "cell_type": "markdown",
   "id": "92e151ac",
   "metadata": {},
   "source": [
    "Similar to Model 1 with 100 input features, there is a big gap between training and validation errors, suggesting a high variance problem. One way to solve this issue is to add more training data to the dataset. It makes sense because we have 100 input features and only 1498 attributes. Adding more data would reduce the gap between training and validation errors."
   ]
  },
  {
   "cell_type": "code",
   "execution_count": 82,
   "id": "ac65f85b",
   "metadata": {
    "scrolled": true
   },
   "outputs": [
    {
     "data": {
      "image/png": "[encoded data removed]",
      "text/plain": [
       "<Figure size 720x360 with 1 Axes>"
      ]
     },
     "metadata": {
      "needs_background": "light"
     },
     "output_type": "display_data"
    }
   ],
   "source": [
    "plt.figure(figsize=(10,5))\n",
    "plot_learning_curve(train_scores,test_scores,train_sizes,\"Random_Forest_Curve.png\",\n",
    "           \"Learning Curve for Random Forest (Factorization)\",\"Training Set Size\",\"Error = 1 - Accuracy\")"
   ]
  },
  {
   "cell_type": "markdown",
   "id": "9eca7de9",
   "metadata": {},
   "source": [
    "### This is end of Model 3"
   ]
  }
 ],
 "metadata": {
  "kernelspec": {
   "display_name": "Python 3",
   "language": "python",
   "name": "python3"
  },
  "language_info": {
   "codemirror_mode": {
    "name": "ipython",
    "version": 3
   },
   "file_extension": ".py",
   "mimetype": "text/x-python",
   "name": "python",
   "nbconvert_exporter": "python",
   "pygments_lexer": "ipython3",
   "version": "3.8.8"
  }
 },
 "nbformat": 4,
 "nbformat_minor": 5
}
