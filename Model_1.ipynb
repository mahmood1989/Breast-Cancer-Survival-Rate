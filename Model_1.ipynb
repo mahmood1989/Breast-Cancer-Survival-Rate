{
 "cells": [
  {
   "cell_type": "markdown",
   "id": "c5229d03",
   "metadata": {},
   "source": [
    "- GitHub: https://github.com/mahmood1989?tab=repositories\n",
    "- Email: mahmoodr@ualberta.ca"
   ]
  },
  {
   "cell_type": "markdown",
   "id": "bab9661e",
   "metadata": {},
   "source": [
    "# Breast Cancer Gene Expression Profiles\n",
    "# Model 1 - Gen Expression Data as Input Features\n",
    "In this notebook, I just used the gene expression data as input features of the model (Columns AF to SZ)."
   ]
  },
  {
   "cell_type": "markdown",
   "id": "c86c2e21",
   "metadata": {},
   "source": [
    "## Import Python libraries"
   ]
  },
  {
   "cell_type": "code",
   "execution_count": 1,
   "id": "009ff277",
   "metadata": {},
   "outputs": [],
   "source": [
    "import pandas as pd\n",
    "import numpy as np\n",
    "\n",
    "import tensorflow as tf\n",
    "from tensorflow import keras\n",
    "from tensorflow.keras import layers, regularizers\n",
    "from tensorflow.keras.models import Sequential\n",
    "\n",
    "from sklearn.model_selection import train_test_split\n",
    "from sklearn.model_selection import GridSearchCV\n",
    "from sklearn.feature_selection import SelectKBest\n",
    "from sklearn.feature_selection import chi2\n",
    "from sklearn.ensemble import ExtraTreesClassifier\n",
    "from sklearn.metrics import confusion_matrix, classification_report\n",
    "from sklearn.ensemble import RandomForestClassifier\n",
    "from sklearn.model_selection import learning_curve\n",
    "from sklearn.preprocessing import MinMaxScaler\n",
    "from sklearn.model_selection import cross_val_score\n",
    "from sklearn.model_selection import RandomizedSearchCV\n",
    "from sklearn.ensemble import GradientBoostingClassifier\n",
    "\n",
    "\n",
    "import matplotlib.pyplot as plt\n",
    "%matplotlib inline\n",
    "import PIL.Image as Image\n",
    "\n",
    "import seaborn as sn"
   ]
  },
  {
   "cell_type": "markdown",
   "id": "d00cf422",
   "metadata": {},
   "source": [
    "## General structure of training spreadsheet"
   ]
  },
  {
   "cell_type": "markdown",
   "id": "8d336571",
   "metadata": {},
   "source": [
    "The source of this dataset can be downloaded through Kaggle:"
   ]
  },
  {
   "cell_type": "markdown",
   "id": "7e7e2e87",
   "metadata": {},
   "source": [
    "https://www.kaggle.com/datasets/raghadalharbi/breast-cancer-gene-expression-profiles-metabric"
   ]
  },
  {
   "cell_type": "code",
   "execution_count": 2,
   "id": "0922c98d",
   "metadata": {},
   "outputs": [
    {
     "data": {
      "text/html": [
       "<div>\n",
       "<style scoped>\n",
       "    .dataframe tbody tr th:only-of-type {\n",
       "        vertical-align: middle;\n",
       "    }\n",
       "\n",
       "    .dataframe tbody tr th {\n",
       "        vertical-align: top;\n",
       "    }\n",
       "\n",
       "    .dataframe thead th {\n",
       "        text-align: right;\n",
       "    }\n",
       "</style>\n",
       "<table border=\"1\" class=\"dataframe\">\n",
       "  <thead>\n",
       "    <tr style=\"text-align: right;\">\n",
       "      <th></th>\n",
       "      <th>brca1</th>\n",
       "      <th>brca2</th>\n",
       "      <th>palb2</th>\n",
       "      <th>pten</th>\n",
       "      <th>tp53</th>\n",
       "      <th>atm</th>\n",
       "      <th>cdh1</th>\n",
       "      <th>chek2</th>\n",
       "      <th>nbn</th>\n",
       "      <th>nf1</th>\n",
       "      <th>...</th>\n",
       "      <th>srd5a2</th>\n",
       "      <th>srd5a3</th>\n",
       "      <th>st7</th>\n",
       "      <th>star</th>\n",
       "      <th>tnk2</th>\n",
       "      <th>tulp4</th>\n",
       "      <th>ugt2b15</th>\n",
       "      <th>ugt2b17</th>\n",
       "      <th>ugt2b7</th>\n",
       "      <th>death_from_cancer</th>\n",
       "    </tr>\n",
       "  </thead>\n",
       "  <tbody>\n",
       "    <tr>\n",
       "      <th>0</th>\n",
       "      <td>-1.3990</td>\n",
       "      <td>-0.5738</td>\n",
       "      <td>-1.6217</td>\n",
       "      <td>1.4524</td>\n",
       "      <td>0.3504</td>\n",
       "      <td>1.1517</td>\n",
       "      <td>0.0348</td>\n",
       "      <td>0.1266</td>\n",
       "      <td>-0.8361</td>\n",
       "      <td>-0.8578</td>\n",
       "      <td>...</td>\n",
       "      <td>-0.0194</td>\n",
       "      <td>-1.6345</td>\n",
       "      <td>-0.2142</td>\n",
       "      <td>-0.5698</td>\n",
       "      <td>-1.1741</td>\n",
       "      <td>-1.4779</td>\n",
       "      <td>-0.5954</td>\n",
       "      <td>-0.8847</td>\n",
       "      <td>-0.3354</td>\n",
       "      <td>Living</td>\n",
       "    </tr>\n",
       "    <tr>\n",
       "      <th>1</th>\n",
       "      <td>-1.3800</td>\n",
       "      <td>0.2777</td>\n",
       "      <td>-1.2154</td>\n",
       "      <td>0.5296</td>\n",
       "      <td>-0.0136</td>\n",
       "      <td>-0.2659</td>\n",
       "      <td>1.3594</td>\n",
       "      <td>0.7961</td>\n",
       "      <td>0.5419</td>\n",
       "      <td>-2.6059</td>\n",
       "      <td>...</td>\n",
       "      <td>0.4534</td>\n",
       "      <td>0.4068</td>\n",
       "      <td>0.7634</td>\n",
       "      <td>0.0231</td>\n",
       "      <td>0.9121</td>\n",
       "      <td>-0.9538</td>\n",
       "      <td>-0.2264</td>\n",
       "      <td>0.5398</td>\n",
       "      <td>-0.8920</td>\n",
       "      <td>Living</td>\n",
       "    </tr>\n",
       "    <tr>\n",
       "      <th>2</th>\n",
       "      <td>0.0670</td>\n",
       "      <td>-0.8426</td>\n",
       "      <td>0.2114</td>\n",
       "      <td>-0.3326</td>\n",
       "      <td>0.5141</td>\n",
       "      <td>-0.0803</td>\n",
       "      <td>1.1398</td>\n",
       "      <td>0.4187</td>\n",
       "      <td>-0.4030</td>\n",
       "      <td>-1.1305</td>\n",
       "      <td>...</td>\n",
       "      <td>0.0668</td>\n",
       "      <td>0.8344</td>\n",
       "      <td>1.7227</td>\n",
       "      <td>0.4024</td>\n",
       "      <td>-3.7172</td>\n",
       "      <td>-1.5538</td>\n",
       "      <td>1.3701</td>\n",
       "      <td>-0.1078</td>\n",
       "      <td>0.3655</td>\n",
       "      <td>Died of Disease</td>\n",
       "    </tr>\n",
       "    <tr>\n",
       "      <th>3</th>\n",
       "      <td>0.6744</td>\n",
       "      <td>-0.5428</td>\n",
       "      <td>-1.6592</td>\n",
       "      <td>0.6369</td>\n",
       "      <td>1.6708</td>\n",
       "      <td>-0.8880</td>\n",
       "      <td>1.2491</td>\n",
       "      <td>-1.1889</td>\n",
       "      <td>-0.4174</td>\n",
       "      <td>-0.6165</td>\n",
       "      <td>...</td>\n",
       "      <td>-0.7078</td>\n",
       "      <td>0.8228</td>\n",
       "      <td>0.6819</td>\n",
       "      <td>-0.1948</td>\n",
       "      <td>-2.3286</td>\n",
       "      <td>-0.9924</td>\n",
       "      <td>-0.3154</td>\n",
       "      <td>0.2320</td>\n",
       "      <td>-0.4828</td>\n",
       "      <td>Living</td>\n",
       "    </tr>\n",
       "    <tr>\n",
       "      <th>4</th>\n",
       "      <td>1.2932</td>\n",
       "      <td>-0.9039</td>\n",
       "      <td>-0.7219</td>\n",
       "      <td>0.2168</td>\n",
       "      <td>0.3484</td>\n",
       "      <td>0.3897</td>\n",
       "      <td>0.9131</td>\n",
       "      <td>0.9356</td>\n",
       "      <td>0.7675</td>\n",
       "      <td>-0.2940</td>\n",
       "      <td>...</td>\n",
       "      <td>-0.3544</td>\n",
       "      <td>-1.0150</td>\n",
       "      <td>2.2961</td>\n",
       "      <td>0.1817</td>\n",
       "      <td>-0.1572</td>\n",
       "      <td>0.0427</td>\n",
       "      <td>5.0048</td>\n",
       "      <td>3.8476</td>\n",
       "      <td>1.3223</td>\n",
       "      <td>Died of Disease</td>\n",
       "    </tr>\n",
       "    <tr>\n",
       "      <th>5</th>\n",
       "      <td>-0.4341</td>\n",
       "      <td>0.6931</td>\n",
       "      <td>0.6909</td>\n",
       "      <td>1.0840</td>\n",
       "      <td>-1.9371</td>\n",
       "      <td>0.9252</td>\n",
       "      <td>1.1520</td>\n",
       "      <td>0.7951</td>\n",
       "      <td>-0.9677</td>\n",
       "      <td>-0.7750</td>\n",
       "      <td>...</td>\n",
       "      <td>0.0395</td>\n",
       "      <td>0.8191</td>\n",
       "      <td>0.1977</td>\n",
       "      <td>-0.2302</td>\n",
       "      <td>-0.5092</td>\n",
       "      <td>-0.3021</td>\n",
       "      <td>0.9357</td>\n",
       "      <td>-0.4217</td>\n",
       "      <td>0.5340</td>\n",
       "      <td>Died of Disease</td>\n",
       "    </tr>\n",
       "    <tr>\n",
       "      <th>6</th>\n",
       "      <td>0.2671</td>\n",
       "      <td>0.4129</td>\n",
       "      <td>-1.3333</td>\n",
       "      <td>0.7834</td>\n",
       "      <td>-0.5109</td>\n",
       "      <td>0.8859</td>\n",
       "      <td>-0.2009</td>\n",
       "      <td>1.0128</td>\n",
       "      <td>-0.0697</td>\n",
       "      <td>-0.6300</td>\n",
       "      <td>...</td>\n",
       "      <td>0.0917</td>\n",
       "      <td>1.6814</td>\n",
       "      <td>2.2495</td>\n",
       "      <td>-1.6522</td>\n",
       "      <td>-3.4775</td>\n",
       "      <td>-0.4892</td>\n",
       "      <td>1.1938</td>\n",
       "      <td>-0.1027</td>\n",
       "      <td>0.4331</td>\n",
       "      <td>Living</td>\n",
       "    </tr>\n",
       "    <tr>\n",
       "      <th>7</th>\n",
       "      <td>0.3985</td>\n",
       "      <td>1.2710</td>\n",
       "      <td>-1.5306</td>\n",
       "      <td>1.6104</td>\n",
       "      <td>-0.0810</td>\n",
       "      <td>1.3899</td>\n",
       "      <td>-1.1327</td>\n",
       "      <td>0.0384</td>\n",
       "      <td>-0.7457</td>\n",
       "      <td>-2.1944</td>\n",
       "      <td>...</td>\n",
       "      <td>-0.3588</td>\n",
       "      <td>2.4959</td>\n",
       "      <td>0.3744</td>\n",
       "      <td>-0.7101</td>\n",
       "      <td>-2.1453</td>\n",
       "      <td>-1.3027</td>\n",
       "      <td>-0.2308</td>\n",
       "      <td>-0.3450</td>\n",
       "      <td>-0.2023</td>\n",
       "      <td>Died of Other Causes</td>\n",
       "    </tr>\n",
       "    <tr>\n",
       "      <th>8</th>\n",
       "      <td>0.8347</td>\n",
       "      <td>-1.5038</td>\n",
       "      <td>0.3436</td>\n",
       "      <td>-0.5550</td>\n",
       "      <td>0.0558</td>\n",
       "      <td>-0.9155</td>\n",
       "      <td>-0.8571</td>\n",
       "      <td>-0.1267</td>\n",
       "      <td>-0.1705</td>\n",
       "      <td>0.6442</td>\n",
       "      <td>...</td>\n",
       "      <td>-0.1405</td>\n",
       "      <td>-0.9780</td>\n",
       "      <td>-0.3030</td>\n",
       "      <td>-0.1640</td>\n",
       "      <td>1.0783</td>\n",
       "      <td>1.8263</td>\n",
       "      <td>-0.5965</td>\n",
       "      <td>0.1502</td>\n",
       "      <td>-0.8837</td>\n",
       "      <td>Died of Other Causes</td>\n",
       "    </tr>\n",
       "    <tr>\n",
       "      <th>9</th>\n",
       "      <td>-1.0087</td>\n",
       "      <td>-0.6074</td>\n",
       "      <td>0.0313</td>\n",
       "      <td>1.0975</td>\n",
       "      <td>0.5314</td>\n",
       "      <td>0.9105</td>\n",
       "      <td>-1.5068</td>\n",
       "      <td>-0.0196</td>\n",
       "      <td>0.3726</td>\n",
       "      <td>0.4892</td>\n",
       "      <td>...</td>\n",
       "      <td>-0.4788</td>\n",
       "      <td>3.6125</td>\n",
       "      <td>1.9925</td>\n",
       "      <td>0.2253</td>\n",
       "      <td>-0.8414</td>\n",
       "      <td>1.7093</td>\n",
       "      <td>-0.6921</td>\n",
       "      <td>0.6906</td>\n",
       "      <td>-0.8006</td>\n",
       "      <td>Died of Disease</td>\n",
       "    </tr>\n",
       "  </tbody>\n",
       "</table>\n",
       "<p>10 rows × 490 columns</p>\n",
       "</div>"
      ],
      "text/plain": [
       "    brca1   brca2   palb2    pten    tp53     atm    cdh1   chek2     nbn  \\\n",
       "0 -1.3990 -0.5738 -1.6217  1.4524  0.3504  1.1517  0.0348  0.1266 -0.8361   \n",
       "1 -1.3800  0.2777 -1.2154  0.5296 -0.0136 -0.2659  1.3594  0.7961  0.5419   \n",
       "2  0.0670 -0.8426  0.2114 -0.3326  0.5141 -0.0803  1.1398  0.4187 -0.4030   \n",
       "3  0.6744 -0.5428 -1.6592  0.6369  1.6708 -0.8880  1.2491 -1.1889 -0.4174   \n",
       "4  1.2932 -0.9039 -0.7219  0.2168  0.3484  0.3897  0.9131  0.9356  0.7675   \n",
       "5 -0.4341  0.6931  0.6909  1.0840 -1.9371  0.9252  1.1520  0.7951 -0.9677   \n",
       "6  0.2671  0.4129 -1.3333  0.7834 -0.5109  0.8859 -0.2009  1.0128 -0.0697   \n",
       "7  0.3985  1.2710 -1.5306  1.6104 -0.0810  1.3899 -1.1327  0.0384 -0.7457   \n",
       "8  0.8347 -1.5038  0.3436 -0.5550  0.0558 -0.9155 -0.8571 -0.1267 -0.1705   \n",
       "9 -1.0087 -0.6074  0.0313  1.0975  0.5314  0.9105 -1.5068 -0.0196  0.3726   \n",
       "\n",
       "      nf1  ...  srd5a2  srd5a3     st7    star    tnk2   tulp4  ugt2b15  \\\n",
       "0 -0.8578  ... -0.0194 -1.6345 -0.2142 -0.5698 -1.1741 -1.4779  -0.5954   \n",
       "1 -2.6059  ...  0.4534  0.4068  0.7634  0.0231  0.9121 -0.9538  -0.2264   \n",
       "2 -1.1305  ...  0.0668  0.8344  1.7227  0.4024 -3.7172 -1.5538   1.3701   \n",
       "3 -0.6165  ... -0.7078  0.8228  0.6819 -0.1948 -2.3286 -0.9924  -0.3154   \n",
       "4 -0.2940  ... -0.3544 -1.0150  2.2961  0.1817 -0.1572  0.0427   5.0048   \n",
       "5 -0.7750  ...  0.0395  0.8191  0.1977 -0.2302 -0.5092 -0.3021   0.9357   \n",
       "6 -0.6300  ...  0.0917  1.6814  2.2495 -1.6522 -3.4775 -0.4892   1.1938   \n",
       "7 -2.1944  ... -0.3588  2.4959  0.3744 -0.7101 -2.1453 -1.3027  -0.2308   \n",
       "8  0.6442  ... -0.1405 -0.9780 -0.3030 -0.1640  1.0783  1.8263  -0.5965   \n",
       "9  0.4892  ... -0.4788  3.6125  1.9925  0.2253 -0.8414  1.7093  -0.6921   \n",
       "\n",
       "   ugt2b17  ugt2b7     death_from_cancer  \n",
       "0  -0.8847 -0.3354                Living  \n",
       "1   0.5398 -0.8920                Living  \n",
       "2  -0.1078  0.3655       Died of Disease  \n",
       "3   0.2320 -0.4828                Living  \n",
       "4   3.8476  1.3223       Died of Disease  \n",
       "5  -0.4217  0.5340       Died of Disease  \n",
       "6  -0.1027  0.4331                Living  \n",
       "7  -0.3450 -0.2023  Died of Other Causes  \n",
       "8   0.1502 -0.8837  Died of Other Causes  \n",
       "9   0.6906 -0.8006       Died of Disease  \n",
       "\n",
       "[10 rows x 490 columns]"
      ]
     },
     "execution_count": 2,
     "metadata": {},
     "output_type": "execute_result"
    }
   ],
   "source": [
    "df_raw = pd.read_excel('Model_1.xlsx')\n",
    "df_raw.head(10)"
   ]
  },
  {
   "cell_type": "markdown",
   "id": "7d5ecdc0",
   "metadata": {},
   "source": [
    "There are 1904 attributes from 489 input fearures. 1 feature (death_from_cancer) is the output feature."
   ]
  },
  {
   "cell_type": "code",
   "execution_count": 3,
   "id": "531d571e",
   "metadata": {},
   "outputs": [
    {
     "data": {
      "text/plain": [
       "(1904, 490)"
      ]
     },
     "execution_count": 3,
     "metadata": {},
     "output_type": "execute_result"
    }
   ],
   "source": [
    "df_raw.shape"
   ]
  },
  {
   "cell_type": "markdown",
   "id": "e7062ff1",
   "metadata": {},
   "source": [
    "There is one null data in the dataset and we delete it."
   ]
  },
  {
   "cell_type": "code",
   "execution_count": 4,
   "id": "9cf22457",
   "metadata": {},
   "outputs": [
    {
     "data": {
      "text/plain": [
       "brca1                0\n",
       "brca2                0\n",
       "palb2                0\n",
       "pten                 0\n",
       "tp53                 0\n",
       "                    ..\n",
       "tulp4                0\n",
       "ugt2b15              0\n",
       "ugt2b17              0\n",
       "ugt2b7               0\n",
       "death_from_cancer    1\n",
       "Length: 490, dtype: int64"
      ]
     },
     "execution_count": 4,
     "metadata": {},
     "output_type": "execute_result"
    }
   ],
   "source": [
    "df_raw.isna().sum()"
   ]
  },
  {
   "cell_type": "markdown",
   "id": "0103c27c",
   "metadata": {},
   "source": [
    "After deleting the null row, we will have 1903 attributes. "
   ]
  },
  {
   "cell_type": "code",
   "execution_count": 5,
   "id": "7160c33c",
   "metadata": {},
   "outputs": [],
   "source": [
    "df_raw.dropna(inplace = True)"
   ]
  },
  {
   "cell_type": "code",
   "execution_count": 6,
   "id": "58c8e80b",
   "metadata": {},
   "outputs": [
    {
     "data": {
      "text/plain": [
       "(1903, 490)"
      ]
     },
     "execution_count": 6,
     "metadata": {},
     "output_type": "execute_result"
    }
   ],
   "source": [
    "df_raw.shape"
   ]
  },
  {
   "cell_type": "markdown",
   "id": "6882d495",
   "metadata": {},
   "source": [
    "### Convert string variables to categorical classes"
   ]
  },
  {
   "cell_type": "code",
   "execution_count": 7,
   "id": "cc135683",
   "metadata": {},
   "outputs": [
    {
     "data": {
      "text/plain": [
       "brca1                float64\n",
       "brca2                float64\n",
       "palb2                float64\n",
       "pten                 float64\n",
       "tp53                 float64\n",
       "                      ...   \n",
       "tulp4                float64\n",
       "ugt2b15              float64\n",
       "ugt2b17              float64\n",
       "ugt2b7               float64\n",
       "death_from_cancer     object\n",
       "Length: 490, dtype: object"
      ]
     },
     "execution_count": 7,
     "metadata": {},
     "output_type": "execute_result"
    }
   ],
   "source": [
    "df_raw.dtypes"
   ]
  },
  {
   "cell_type": "markdown",
   "id": "0bfbcd44",
   "metadata": {},
   "source": [
    "We have 489 input features as float numbers and 1 output feature as string."
   ]
  },
  {
   "cell_type": "code",
   "execution_count": 8,
   "id": "7c7fedbe",
   "metadata": {},
   "outputs": [
    {
     "data": {
      "text/plain": [
       "489"
      ]
     },
     "execution_count": 8,
     "metadata": {},
     "output_type": "execute_result"
    }
   ],
   "source": [
    "(df_raw.dtypes == 'float64').sum()"
   ]
  },
  {
   "cell_type": "code",
   "execution_count": 9,
   "id": "cbd69937",
   "metadata": {},
   "outputs": [
    {
     "data": {
      "text/plain": [
       "1"
      ]
     },
     "execution_count": 9,
     "metadata": {},
     "output_type": "execute_result"
    }
   ],
   "source": [
    "(df_raw.dtypes == 'object').sum()"
   ]
  },
  {
   "cell_type": "markdown",
   "id": "dc67f42d",
   "metadata": {},
   "source": [
    "The output (death_from_cancer) is the string type with three categories as:\n",
    "- Living (Class 0)\n",
    "- Died of Other Causes (Class 0)\n",
    "- Died of Disease (Class 1)\n",
    "If a patient dies because of breast cancer, we categorize it as Class 1, otherwise Class 0 is assigned."
   ]
  },
  {
   "cell_type": "code",
   "execution_count": 10,
   "id": "a104a0a3",
   "metadata": {},
   "outputs": [],
   "source": [
    "df1 = df_raw.copy(deep = True)"
   ]
  },
  {
   "cell_type": "code",
   "execution_count": 11,
   "id": "d1f13251",
   "metadata": {},
   "outputs": [],
   "source": [
    "df1['death_from_cancer'].replace('Living', 0, inplace = True)\n",
    "df1['death_from_cancer'].replace('Died of Other Causes', 0, inplace = True)\n",
    "df1['death_from_cancer'].replace('Died of Disease', 1, inplace = True)"
   ]
  },
  {
   "cell_type": "markdown",
   "id": "de552549",
   "metadata": {},
   "source": [
    "Among 1903 cases in this dataset, 622 patients died from cancer (33% of total)."
   ]
  },
  {
   "cell_type": "code",
   "execution_count": 12,
   "id": "466d1dd1",
   "metadata": {},
   "outputs": [
    {
     "data": {
      "text/plain": [
       "622"
      ]
     },
     "execution_count": 12,
     "metadata": {},
     "output_type": "execute_result"
    }
   ],
   "source": [
    "(df1.death_from_cancer == 1).sum()"
   ]
  },
  {
   "cell_type": "markdown",
   "id": "2971a994",
   "metadata": {},
   "source": [
    "### Normalization of input features"
   ]
  },
  {
   "cell_type": "code",
   "execution_count": 13,
   "id": "eef70947",
   "metadata": {},
   "outputs": [],
   "source": [
    "df = df1.drop('death_from_cancer', axis = 'columns')"
   ]
  },
  {
   "cell_type": "code",
   "execution_count": 14,
   "id": "5f665ea3",
   "metadata": {},
   "outputs": [],
   "source": [
    "df = df.apply(lambda x: (x - x.min(axis = 0)) / ((x.max(axis = 0)) - (x.min(axis = 0))))"
   ]
  },
  {
   "cell_type": "code",
   "execution_count": 15,
   "id": "15127e64",
   "metadata": {},
   "outputs": [
    {
     "data": {
      "text/html": [
       "<div>\n",
       "<style scoped>\n",
       "    .dataframe tbody tr th:only-of-type {\n",
       "        vertical-align: middle;\n",
       "    }\n",
       "\n",
       "    .dataframe tbody tr th {\n",
       "        vertical-align: top;\n",
       "    }\n",
       "\n",
       "    .dataframe thead th {\n",
       "        text-align: right;\n",
       "    }\n",
       "</style>\n",
       "<table border=\"1\" class=\"dataframe\">\n",
       "  <thead>\n",
       "    <tr style=\"text-align: right;\">\n",
       "      <th></th>\n",
       "      <th>brca1</th>\n",
       "      <th>brca2</th>\n",
       "      <th>palb2</th>\n",
       "      <th>pten</th>\n",
       "      <th>tp53</th>\n",
       "      <th>atm</th>\n",
       "      <th>cdh1</th>\n",
       "      <th>chek2</th>\n",
       "      <th>nbn</th>\n",
       "      <th>nf1</th>\n",
       "      <th>...</th>\n",
       "      <th>srd5a1</th>\n",
       "      <th>srd5a2</th>\n",
       "      <th>srd5a3</th>\n",
       "      <th>st7</th>\n",
       "      <th>star</th>\n",
       "      <th>tnk2</th>\n",
       "      <th>tulp4</th>\n",
       "      <th>ugt2b15</th>\n",
       "      <th>ugt2b17</th>\n",
       "      <th>ugt2b7</th>\n",
       "    </tr>\n",
       "  </thead>\n",
       "  <tbody>\n",
       "    <tr>\n",
       "      <th>0</th>\n",
       "      <td>0.149373</td>\n",
       "      <td>0.338838</td>\n",
       "      <td>0.307003</td>\n",
       "      <td>0.803884</td>\n",
       "      <td>0.418195</td>\n",
       "      <td>0.617925</td>\n",
       "      <td>0.546577</td>\n",
       "      <td>0.389558</td>\n",
       "      <td>0.314940</td>\n",
       "      <td>0.230759</td>\n",
       "      <td>...</td>\n",
       "      <td>0.107802</td>\n",
       "      <td>0.245352</td>\n",
       "      <td>0.119900</td>\n",
       "      <td>0.499110</td>\n",
       "      <td>0.153390</td>\n",
       "      <td>0.342147</td>\n",
       "      <td>0.286375</td>\n",
       "      <td>0.047420</td>\n",
       "      <td>0.083211</td>\n",
       "      <td>0.165175</td>\n",
       "    </tr>\n",
       "    <tr>\n",
       "      <th>1</th>\n",
       "      <td>0.152088</td>\n",
       "      <td>0.469408</td>\n",
       "      <td>0.352149</td>\n",
       "      <td>0.703436</td>\n",
       "      <td>0.364437</td>\n",
       "      <td>0.415257</td>\n",
       "      <td>0.762149</td>\n",
       "      <td>0.482198</td>\n",
       "      <td>0.467018</td>\n",
       "      <td>0.039651</td>\n",
       "      <td>...</td>\n",
       "      <td>0.194046</td>\n",
       "      <td>0.280027</td>\n",
       "      <td>0.345498</td>\n",
       "      <td>0.601434</td>\n",
       "      <td>0.191096</td>\n",
       "      <td>0.610569</td>\n",
       "      <td>0.356793</td>\n",
       "      <td>0.078038</td>\n",
       "      <td>0.179745</td>\n",
       "      <td>0.036808</td>\n",
       "    </tr>\n",
       "    <tr>\n",
       "      <th>2</th>\n",
       "      <td>0.358843</td>\n",
       "      <td>0.297620</td>\n",
       "      <td>0.510689</td>\n",
       "      <td>0.609585</td>\n",
       "      <td>0.442372</td>\n",
       "      <td>0.441792</td>\n",
       "      <td>0.726410</td>\n",
       "      <td>0.429977</td>\n",
       "      <td>0.362737</td>\n",
       "      <td>0.200947</td>\n",
       "      <td>...</td>\n",
       "      <td>0.182851</td>\n",
       "      <td>0.251674</td>\n",
       "      <td>0.392755</td>\n",
       "      <td>0.701842</td>\n",
       "      <td>0.215219</td>\n",
       "      <td>0.014938</td>\n",
       "      <td>0.276177</td>\n",
       "      <td>0.210508</td>\n",
       "      <td>0.135859</td>\n",
       "      <td>0.326822</td>\n",
       "    </tr>\n",
       "    <tr>\n",
       "      <th>3</th>\n",
       "      <td>0.445632</td>\n",
       "      <td>0.343592</td>\n",
       "      <td>0.302836</td>\n",
       "      <td>0.715116</td>\n",
       "      <td>0.613203</td>\n",
       "      <td>0.326318</td>\n",
       "      <td>0.744198</td>\n",
       "      <td>0.207530</td>\n",
       "      <td>0.361148</td>\n",
       "      <td>0.257139</td>\n",
       "      <td>...</td>\n",
       "      <td>0.179974</td>\n",
       "      <td>0.194865</td>\n",
       "      <td>0.391473</td>\n",
       "      <td>0.592903</td>\n",
       "      <td>0.177239</td>\n",
       "      <td>0.193603</td>\n",
       "      <td>0.351606</td>\n",
       "      <td>0.070653</td>\n",
       "      <td>0.158886</td>\n",
       "      <td>0.131181</td>\n",
       "    </tr>\n",
       "    <tr>\n",
       "      <th>4</th>\n",
       "      <td>0.534050</td>\n",
       "      <td>0.288220</td>\n",
       "      <td>0.406985</td>\n",
       "      <td>0.669388</td>\n",
       "      <td>0.417900</td>\n",
       "      <td>0.508985</td>\n",
       "      <td>0.689516</td>\n",
       "      <td>0.501501</td>\n",
       "      <td>0.491916</td>\n",
       "      <td>0.292395</td>\n",
       "      <td>...</td>\n",
       "      <td>0.177490</td>\n",
       "      <td>0.220783</td>\n",
       "      <td>0.188365</td>\n",
       "      <td>0.761859</td>\n",
       "      <td>0.201183</td>\n",
       "      <td>0.472987</td>\n",
       "      <td>0.490682</td>\n",
       "      <td>0.512098</td>\n",
       "      <td>0.403903</td>\n",
       "      <td>0.547486</td>\n",
       "    </tr>\n",
       "    <tr>\n",
       "      <th>5</th>\n",
       "      <td>0.287243</td>\n",
       "      <td>0.533106</td>\n",
       "      <td>0.563970</td>\n",
       "      <td>0.763783</td>\n",
       "      <td>0.080357</td>\n",
       "      <td>0.585543</td>\n",
       "      <td>0.728396</td>\n",
       "      <td>0.482060</td>\n",
       "      <td>0.300416</td>\n",
       "      <td>0.239811</td>\n",
       "      <td>...</td>\n",
       "      <td>0.199845</td>\n",
       "      <td>0.249672</td>\n",
       "      <td>0.391064</td>\n",
       "      <td>0.542223</td>\n",
       "      <td>0.174987</td>\n",
       "      <td>0.427697</td>\n",
       "      <td>0.444355</td>\n",
       "      <td>0.174464</td>\n",
       "      <td>0.114587</td>\n",
       "      <td>0.365683</td>\n",
       "    </tr>\n",
       "    <tr>\n",
       "      <th>6</th>\n",
       "      <td>0.387435</td>\n",
       "      <td>0.490140</td>\n",
       "      <td>0.339048</td>\n",
       "      <td>0.731063</td>\n",
       "      <td>0.290991</td>\n",
       "      <td>0.579925</td>\n",
       "      <td>0.508219</td>\n",
       "      <td>0.512184</td>\n",
       "      <td>0.399521</td>\n",
       "      <td>0.255663</td>\n",
       "      <td>...</td>\n",
       "      <td>0.093083</td>\n",
       "      <td>0.253500</td>\n",
       "      <td>0.486362</td>\n",
       "      <td>0.756981</td>\n",
       "      <td>0.084552</td>\n",
       "      <td>0.045779</td>\n",
       "      <td>0.419216</td>\n",
       "      <td>0.195879</td>\n",
       "      <td>0.136204</td>\n",
       "      <td>0.342412</td>\n",
       "    </tr>\n",
       "    <tr>\n",
       "      <th>7</th>\n",
       "      <td>0.406210</td>\n",
       "      <td>0.621722</td>\n",
       "      <td>0.317125</td>\n",
       "      <td>0.821082</td>\n",
       "      <td>0.354482</td>\n",
       "      <td>0.651979</td>\n",
       "      <td>0.356573</td>\n",
       "      <td>0.377354</td>\n",
       "      <td>0.324916</td>\n",
       "      <td>0.084638</td>\n",
       "      <td>...</td>\n",
       "      <td>0.155193</td>\n",
       "      <td>0.220460</td>\n",
       "      <td>0.576378</td>\n",
       "      <td>0.560718</td>\n",
       "      <td>0.144467</td>\n",
       "      <td>0.217187</td>\n",
       "      <td>0.309914</td>\n",
       "      <td>0.077673</td>\n",
       "      <td>0.119785</td>\n",
       "      <td>0.195872</td>\n",
       "    </tr>\n",
       "    <tr>\n",
       "      <th>8</th>\n",
       "      <td>0.468537</td>\n",
       "      <td>0.196231</td>\n",
       "      <td>0.525379</td>\n",
       "      <td>0.585377</td>\n",
       "      <td>0.374686</td>\n",
       "      <td>0.322387</td>\n",
       "      <td>0.401426</td>\n",
       "      <td>0.354509</td>\n",
       "      <td>0.388397</td>\n",
       "      <td>0.394962</td>\n",
       "      <td>...</td>\n",
       "      <td>0.199764</td>\n",
       "      <td>0.236471</td>\n",
       "      <td>0.192454</td>\n",
       "      <td>0.489816</td>\n",
       "      <td>0.179197</td>\n",
       "      <td>0.631953</td>\n",
       "      <td>0.730326</td>\n",
       "      <td>0.047329</td>\n",
       "      <td>0.153343</td>\n",
       "      <td>0.038722</td>\n",
       "    </tr>\n",
       "    <tr>\n",
       "      <th>9</th>\n",
       "      <td>0.205141</td>\n",
       "      <td>0.333686</td>\n",
       "      <td>0.490677</td>\n",
       "      <td>0.765253</td>\n",
       "      <td>0.444927</td>\n",
       "      <td>0.583442</td>\n",
       "      <td>0.295691</td>\n",
       "      <td>0.369328</td>\n",
       "      <td>0.448334</td>\n",
       "      <td>0.378017</td>\n",
       "      <td>...</td>\n",
       "      <td>0.210127</td>\n",
       "      <td>0.211660</td>\n",
       "      <td>0.699781</td>\n",
       "      <td>0.730082</td>\n",
       "      <td>0.203956</td>\n",
       "      <td>0.384954</td>\n",
       "      <td>0.714606</td>\n",
       "      <td>0.039397</td>\n",
       "      <td>0.189964</td>\n",
       "      <td>0.057887</td>\n",
       "    </tr>\n",
       "  </tbody>\n",
       "</table>\n",
       "<p>10 rows × 489 columns</p>\n",
       "</div>"
      ],
      "text/plain": [
       "      brca1     brca2     palb2      pten      tp53       atm      cdh1  \\\n",
       "0  0.149373  0.338838  0.307003  0.803884  0.418195  0.617925  0.546577   \n",
       "1  0.152088  0.469408  0.352149  0.703436  0.364437  0.415257  0.762149   \n",
       "2  0.358843  0.297620  0.510689  0.609585  0.442372  0.441792  0.726410   \n",
       "3  0.445632  0.343592  0.302836  0.715116  0.613203  0.326318  0.744198   \n",
       "4  0.534050  0.288220  0.406985  0.669388  0.417900  0.508985  0.689516   \n",
       "5  0.287243  0.533106  0.563970  0.763783  0.080357  0.585543  0.728396   \n",
       "6  0.387435  0.490140  0.339048  0.731063  0.290991  0.579925  0.508219   \n",
       "7  0.406210  0.621722  0.317125  0.821082  0.354482  0.651979  0.356573   \n",
       "8  0.468537  0.196231  0.525379  0.585377  0.374686  0.322387  0.401426   \n",
       "9  0.205141  0.333686  0.490677  0.765253  0.444927  0.583442  0.295691   \n",
       "\n",
       "      chek2       nbn       nf1  ...    srd5a1    srd5a2    srd5a3       st7  \\\n",
       "0  0.389558  0.314940  0.230759  ...  0.107802  0.245352  0.119900  0.499110   \n",
       "1  0.482198  0.467018  0.039651  ...  0.194046  0.280027  0.345498  0.601434   \n",
       "2  0.429977  0.362737  0.200947  ...  0.182851  0.251674  0.392755  0.701842   \n",
       "3  0.207530  0.361148  0.257139  ...  0.179974  0.194865  0.391473  0.592903   \n",
       "4  0.501501  0.491916  0.292395  ...  0.177490  0.220783  0.188365  0.761859   \n",
       "5  0.482060  0.300416  0.239811  ...  0.199845  0.249672  0.391064  0.542223   \n",
       "6  0.512184  0.399521  0.255663  ...  0.093083  0.253500  0.486362  0.756981   \n",
       "7  0.377354  0.324916  0.084638  ...  0.155193  0.220460  0.576378  0.560718   \n",
       "8  0.354509  0.388397  0.394962  ...  0.199764  0.236471  0.192454  0.489816   \n",
       "9  0.369328  0.448334  0.378017  ...  0.210127  0.211660  0.699781  0.730082   \n",
       "\n",
       "       star      tnk2     tulp4   ugt2b15   ugt2b17    ugt2b7  \n",
       "0  0.153390  0.342147  0.286375  0.047420  0.083211  0.165175  \n",
       "1  0.191096  0.610569  0.356793  0.078038  0.179745  0.036808  \n",
       "2  0.215219  0.014938  0.276177  0.210508  0.135859  0.326822  \n",
       "3  0.177239  0.193603  0.351606  0.070653  0.158886  0.131181  \n",
       "4  0.201183  0.472987  0.490682  0.512098  0.403903  0.547486  \n",
       "5  0.174987  0.427697  0.444355  0.174464  0.114587  0.365683  \n",
       "6  0.084552  0.045779  0.419216  0.195879  0.136204  0.342412  \n",
       "7  0.144467  0.217187  0.309914  0.077673  0.119785  0.195872  \n",
       "8  0.179197  0.631953  0.730326  0.047329  0.153343  0.038722  \n",
       "9  0.203956  0.384954  0.714606  0.039397  0.189964  0.057887  \n",
       "\n",
       "[10 rows x 489 columns]"
      ]
     },
     "execution_count": 15,
     "metadata": {},
     "output_type": "execute_result"
    }
   ],
   "source": [
    "df.head(10)"
   ]
  },
  {
   "cell_type": "code",
   "execution_count": 16,
   "id": "4058fab0",
   "metadata": {},
   "outputs": [],
   "source": [
    "df['death_from_cancer'] = df1['death_from_cancer']"
   ]
  },
  {
   "cell_type": "code",
   "execution_count": 17,
   "id": "ed94a2ca",
   "metadata": {},
   "outputs": [
    {
     "data": {
      "text/html": [
       "<div>\n",
       "<style scoped>\n",
       "    .dataframe tbody tr th:only-of-type {\n",
       "        vertical-align: middle;\n",
       "    }\n",
       "\n",
       "    .dataframe tbody tr th {\n",
       "        vertical-align: top;\n",
       "    }\n",
       "\n",
       "    .dataframe thead th {\n",
       "        text-align: right;\n",
       "    }\n",
       "</style>\n",
       "<table border=\"1\" class=\"dataframe\">\n",
       "  <thead>\n",
       "    <tr style=\"text-align: right;\">\n",
       "      <th></th>\n",
       "      <th>brca1</th>\n",
       "      <th>brca2</th>\n",
       "      <th>palb2</th>\n",
       "      <th>pten</th>\n",
       "      <th>tp53</th>\n",
       "      <th>atm</th>\n",
       "      <th>cdh1</th>\n",
       "      <th>chek2</th>\n",
       "      <th>nbn</th>\n",
       "      <th>nf1</th>\n",
       "      <th>...</th>\n",
       "      <th>srd5a2</th>\n",
       "      <th>srd5a3</th>\n",
       "      <th>st7</th>\n",
       "      <th>star</th>\n",
       "      <th>tnk2</th>\n",
       "      <th>tulp4</th>\n",
       "      <th>ugt2b15</th>\n",
       "      <th>ugt2b17</th>\n",
       "      <th>ugt2b7</th>\n",
       "      <th>death_from_cancer</th>\n",
       "    </tr>\n",
       "  </thead>\n",
       "  <tbody>\n",
       "    <tr>\n",
       "      <th>0</th>\n",
       "      <td>0.149373</td>\n",
       "      <td>0.338838</td>\n",
       "      <td>0.307003</td>\n",
       "      <td>0.803884</td>\n",
       "      <td>0.418195</td>\n",
       "      <td>0.617925</td>\n",
       "      <td>0.546577</td>\n",
       "      <td>0.389558</td>\n",
       "      <td>0.314940</td>\n",
       "      <td>0.230759</td>\n",
       "      <td>...</td>\n",
       "      <td>0.245352</td>\n",
       "      <td>0.119900</td>\n",
       "      <td>0.499110</td>\n",
       "      <td>0.153390</td>\n",
       "      <td>0.342147</td>\n",
       "      <td>0.286375</td>\n",
       "      <td>0.047420</td>\n",
       "      <td>0.083211</td>\n",
       "      <td>0.165175</td>\n",
       "      <td>0</td>\n",
       "    </tr>\n",
       "    <tr>\n",
       "      <th>1</th>\n",
       "      <td>0.152088</td>\n",
       "      <td>0.469408</td>\n",
       "      <td>0.352149</td>\n",
       "      <td>0.703436</td>\n",
       "      <td>0.364437</td>\n",
       "      <td>0.415257</td>\n",
       "      <td>0.762149</td>\n",
       "      <td>0.482198</td>\n",
       "      <td>0.467018</td>\n",
       "      <td>0.039651</td>\n",
       "      <td>...</td>\n",
       "      <td>0.280027</td>\n",
       "      <td>0.345498</td>\n",
       "      <td>0.601434</td>\n",
       "      <td>0.191096</td>\n",
       "      <td>0.610569</td>\n",
       "      <td>0.356793</td>\n",
       "      <td>0.078038</td>\n",
       "      <td>0.179745</td>\n",
       "      <td>0.036808</td>\n",
       "      <td>0</td>\n",
       "    </tr>\n",
       "    <tr>\n",
       "      <th>2</th>\n",
       "      <td>0.358843</td>\n",
       "      <td>0.297620</td>\n",
       "      <td>0.510689</td>\n",
       "      <td>0.609585</td>\n",
       "      <td>0.442372</td>\n",
       "      <td>0.441792</td>\n",
       "      <td>0.726410</td>\n",
       "      <td>0.429977</td>\n",
       "      <td>0.362737</td>\n",
       "      <td>0.200947</td>\n",
       "      <td>...</td>\n",
       "      <td>0.251674</td>\n",
       "      <td>0.392755</td>\n",
       "      <td>0.701842</td>\n",
       "      <td>0.215219</td>\n",
       "      <td>0.014938</td>\n",
       "      <td>0.276177</td>\n",
       "      <td>0.210508</td>\n",
       "      <td>0.135859</td>\n",
       "      <td>0.326822</td>\n",
       "      <td>1</td>\n",
       "    </tr>\n",
       "    <tr>\n",
       "      <th>3</th>\n",
       "      <td>0.445632</td>\n",
       "      <td>0.343592</td>\n",
       "      <td>0.302836</td>\n",
       "      <td>0.715116</td>\n",
       "      <td>0.613203</td>\n",
       "      <td>0.326318</td>\n",
       "      <td>0.744198</td>\n",
       "      <td>0.207530</td>\n",
       "      <td>0.361148</td>\n",
       "      <td>0.257139</td>\n",
       "      <td>...</td>\n",
       "      <td>0.194865</td>\n",
       "      <td>0.391473</td>\n",
       "      <td>0.592903</td>\n",
       "      <td>0.177239</td>\n",
       "      <td>0.193603</td>\n",
       "      <td>0.351606</td>\n",
       "      <td>0.070653</td>\n",
       "      <td>0.158886</td>\n",
       "      <td>0.131181</td>\n",
       "      <td>0</td>\n",
       "    </tr>\n",
       "    <tr>\n",
       "      <th>4</th>\n",
       "      <td>0.534050</td>\n",
       "      <td>0.288220</td>\n",
       "      <td>0.406985</td>\n",
       "      <td>0.669388</td>\n",
       "      <td>0.417900</td>\n",
       "      <td>0.508985</td>\n",
       "      <td>0.689516</td>\n",
       "      <td>0.501501</td>\n",
       "      <td>0.491916</td>\n",
       "      <td>0.292395</td>\n",
       "      <td>...</td>\n",
       "      <td>0.220783</td>\n",
       "      <td>0.188365</td>\n",
       "      <td>0.761859</td>\n",
       "      <td>0.201183</td>\n",
       "      <td>0.472987</td>\n",
       "      <td>0.490682</td>\n",
       "      <td>0.512098</td>\n",
       "      <td>0.403903</td>\n",
       "      <td>0.547486</td>\n",
       "      <td>1</td>\n",
       "    </tr>\n",
       "    <tr>\n",
       "      <th>5</th>\n",
       "      <td>0.287243</td>\n",
       "      <td>0.533106</td>\n",
       "      <td>0.563970</td>\n",
       "      <td>0.763783</td>\n",
       "      <td>0.080357</td>\n",
       "      <td>0.585543</td>\n",
       "      <td>0.728396</td>\n",
       "      <td>0.482060</td>\n",
       "      <td>0.300416</td>\n",
       "      <td>0.239811</td>\n",
       "      <td>...</td>\n",
       "      <td>0.249672</td>\n",
       "      <td>0.391064</td>\n",
       "      <td>0.542223</td>\n",
       "      <td>0.174987</td>\n",
       "      <td>0.427697</td>\n",
       "      <td>0.444355</td>\n",
       "      <td>0.174464</td>\n",
       "      <td>0.114587</td>\n",
       "      <td>0.365683</td>\n",
       "      <td>1</td>\n",
       "    </tr>\n",
       "    <tr>\n",
       "      <th>6</th>\n",
       "      <td>0.387435</td>\n",
       "      <td>0.490140</td>\n",
       "      <td>0.339048</td>\n",
       "      <td>0.731063</td>\n",
       "      <td>0.290991</td>\n",
       "      <td>0.579925</td>\n",
       "      <td>0.508219</td>\n",
       "      <td>0.512184</td>\n",
       "      <td>0.399521</td>\n",
       "      <td>0.255663</td>\n",
       "      <td>...</td>\n",
       "      <td>0.253500</td>\n",
       "      <td>0.486362</td>\n",
       "      <td>0.756981</td>\n",
       "      <td>0.084552</td>\n",
       "      <td>0.045779</td>\n",
       "      <td>0.419216</td>\n",
       "      <td>0.195879</td>\n",
       "      <td>0.136204</td>\n",
       "      <td>0.342412</td>\n",
       "      <td>0</td>\n",
       "    </tr>\n",
       "    <tr>\n",
       "      <th>7</th>\n",
       "      <td>0.406210</td>\n",
       "      <td>0.621722</td>\n",
       "      <td>0.317125</td>\n",
       "      <td>0.821082</td>\n",
       "      <td>0.354482</td>\n",
       "      <td>0.651979</td>\n",
       "      <td>0.356573</td>\n",
       "      <td>0.377354</td>\n",
       "      <td>0.324916</td>\n",
       "      <td>0.084638</td>\n",
       "      <td>...</td>\n",
       "      <td>0.220460</td>\n",
       "      <td>0.576378</td>\n",
       "      <td>0.560718</td>\n",
       "      <td>0.144467</td>\n",
       "      <td>0.217187</td>\n",
       "      <td>0.309914</td>\n",
       "      <td>0.077673</td>\n",
       "      <td>0.119785</td>\n",
       "      <td>0.195872</td>\n",
       "      <td>0</td>\n",
       "    </tr>\n",
       "    <tr>\n",
       "      <th>8</th>\n",
       "      <td>0.468537</td>\n",
       "      <td>0.196231</td>\n",
       "      <td>0.525379</td>\n",
       "      <td>0.585377</td>\n",
       "      <td>0.374686</td>\n",
       "      <td>0.322387</td>\n",
       "      <td>0.401426</td>\n",
       "      <td>0.354509</td>\n",
       "      <td>0.388397</td>\n",
       "      <td>0.394962</td>\n",
       "      <td>...</td>\n",
       "      <td>0.236471</td>\n",
       "      <td>0.192454</td>\n",
       "      <td>0.489816</td>\n",
       "      <td>0.179197</td>\n",
       "      <td>0.631953</td>\n",
       "      <td>0.730326</td>\n",
       "      <td>0.047329</td>\n",
       "      <td>0.153343</td>\n",
       "      <td>0.038722</td>\n",
       "      <td>0</td>\n",
       "    </tr>\n",
       "    <tr>\n",
       "      <th>9</th>\n",
       "      <td>0.205141</td>\n",
       "      <td>0.333686</td>\n",
       "      <td>0.490677</td>\n",
       "      <td>0.765253</td>\n",
       "      <td>0.444927</td>\n",
       "      <td>0.583442</td>\n",
       "      <td>0.295691</td>\n",
       "      <td>0.369328</td>\n",
       "      <td>0.448334</td>\n",
       "      <td>0.378017</td>\n",
       "      <td>...</td>\n",
       "      <td>0.211660</td>\n",
       "      <td>0.699781</td>\n",
       "      <td>0.730082</td>\n",
       "      <td>0.203956</td>\n",
       "      <td>0.384954</td>\n",
       "      <td>0.714606</td>\n",
       "      <td>0.039397</td>\n",
       "      <td>0.189964</td>\n",
       "      <td>0.057887</td>\n",
       "      <td>1</td>\n",
       "    </tr>\n",
       "  </tbody>\n",
       "</table>\n",
       "<p>10 rows × 490 columns</p>\n",
       "</div>"
      ],
      "text/plain": [
       "      brca1     brca2     palb2      pten      tp53       atm      cdh1  \\\n",
       "0  0.149373  0.338838  0.307003  0.803884  0.418195  0.617925  0.546577   \n",
       "1  0.152088  0.469408  0.352149  0.703436  0.364437  0.415257  0.762149   \n",
       "2  0.358843  0.297620  0.510689  0.609585  0.442372  0.441792  0.726410   \n",
       "3  0.445632  0.343592  0.302836  0.715116  0.613203  0.326318  0.744198   \n",
       "4  0.534050  0.288220  0.406985  0.669388  0.417900  0.508985  0.689516   \n",
       "5  0.287243  0.533106  0.563970  0.763783  0.080357  0.585543  0.728396   \n",
       "6  0.387435  0.490140  0.339048  0.731063  0.290991  0.579925  0.508219   \n",
       "7  0.406210  0.621722  0.317125  0.821082  0.354482  0.651979  0.356573   \n",
       "8  0.468537  0.196231  0.525379  0.585377  0.374686  0.322387  0.401426   \n",
       "9  0.205141  0.333686  0.490677  0.765253  0.444927  0.583442  0.295691   \n",
       "\n",
       "      chek2       nbn       nf1  ...    srd5a2    srd5a3       st7      star  \\\n",
       "0  0.389558  0.314940  0.230759  ...  0.245352  0.119900  0.499110  0.153390   \n",
       "1  0.482198  0.467018  0.039651  ...  0.280027  0.345498  0.601434  0.191096   \n",
       "2  0.429977  0.362737  0.200947  ...  0.251674  0.392755  0.701842  0.215219   \n",
       "3  0.207530  0.361148  0.257139  ...  0.194865  0.391473  0.592903  0.177239   \n",
       "4  0.501501  0.491916  0.292395  ...  0.220783  0.188365  0.761859  0.201183   \n",
       "5  0.482060  0.300416  0.239811  ...  0.249672  0.391064  0.542223  0.174987   \n",
       "6  0.512184  0.399521  0.255663  ...  0.253500  0.486362  0.756981  0.084552   \n",
       "7  0.377354  0.324916  0.084638  ...  0.220460  0.576378  0.560718  0.144467   \n",
       "8  0.354509  0.388397  0.394962  ...  0.236471  0.192454  0.489816  0.179197   \n",
       "9  0.369328  0.448334  0.378017  ...  0.211660  0.699781  0.730082  0.203956   \n",
       "\n",
       "       tnk2     tulp4   ugt2b15   ugt2b17    ugt2b7  death_from_cancer  \n",
       "0  0.342147  0.286375  0.047420  0.083211  0.165175                  0  \n",
       "1  0.610569  0.356793  0.078038  0.179745  0.036808                  0  \n",
       "2  0.014938  0.276177  0.210508  0.135859  0.326822                  1  \n",
       "3  0.193603  0.351606  0.070653  0.158886  0.131181                  0  \n",
       "4  0.472987  0.490682  0.512098  0.403903  0.547486                  1  \n",
       "5  0.427697  0.444355  0.174464  0.114587  0.365683                  1  \n",
       "6  0.045779  0.419216  0.195879  0.136204  0.342412                  0  \n",
       "7  0.217187  0.309914  0.077673  0.119785  0.195872                  0  \n",
       "8  0.631953  0.730326  0.047329  0.153343  0.038722                  0  \n",
       "9  0.384954  0.714606  0.039397  0.189964  0.057887                  1  \n",
       "\n",
       "[10 rows x 490 columns]"
      ]
     },
     "execution_count": 17,
     "metadata": {},
     "output_type": "execute_result"
    }
   ],
   "source": [
    "df.head(10)"
   ]
  },
  {
   "cell_type": "markdown",
   "id": "96ce7190",
   "metadata": {},
   "source": [
    "## Feature Selection \n",
    "### 1. Univariate Selection\n",
    "We will have 489 input features that may result in overfitting of the ML model. We should filter the input features that have stronger correlation with the output feature. One technique is \"Univariate Selection\"."
   ]
  },
  {
   "cell_type": "code",
   "execution_count": 18,
   "id": "119f9b86",
   "metadata": {},
   "outputs": [],
   "source": [
    "# The input data of this function is df2_regression or df2_classification\n",
    "\n",
    "def Univariate_Selection (df2, n_features):\n",
    "    X = df2.drop('death_from_cancer', axis = 'columns')\n",
    "    y = df2['death_from_cancer']\n",
    "    \n",
    "    bestfeatures = SelectKBest(score_func=chi2, k=10)\n",
    "    fit = bestfeatures.fit(X,y)\n",
    "    \n",
    "    dfscores = pd.DataFrame(fit.scores_)\n",
    "    dfcolumns = pd.DataFrame(X.columns)\n",
    "    \n",
    "    feature_Scores = pd.concat([dfcolumns,dfscores], axis=1)\n",
    "    feature_Scores.columns = ['Specs','Score']\n",
    "    \n",
    "    Top_features = feature_Scores.nlargest(n_features,'Score')\n",
    "    \n",
    "    X_featured_US = pd.DataFrame()  \n",
    "    for ii in Top_features['Specs']:\n",
    "        X_featured_US[ii] = X[ii]\n",
    "\n",
    "    X = X_featured_US.copy()\n",
    "    X = np.array(X)    \n",
    "    y = np.array(y)\n",
    "             \n",
    "    \n",
    "    print(Top_features)\n",
    "    \n",
    "    return(X, y)\n"
   ]
  },
  {
   "cell_type": "markdown",
   "id": "0a1d87c3",
   "metadata": {},
   "source": [
    "### 2. Feature Importance\n",
    "The second technique for feature selection is \"Feature Importance\"."
   ]
  },
  {
   "cell_type": "code",
   "execution_count": 19,
   "id": "d785b21d",
   "metadata": {},
   "outputs": [],
   "source": [
    "def Feature_Importance (df2, n_features):\n",
    "    X = df2.drop('death_from_cancer', axis = 'columns')\n",
    "    y = df2['death_from_cancer']\n",
    "    \n",
    "    model_FI = ExtraTreesClassifier()\n",
    "    model_FI.fit(X,y)\n",
    "    \n",
    "    feat_importances = pd.DataFrame(model_FI.feature_importances_, X.columns)\n",
    "    \n",
    "    output_FI = pd.DataFrame()\n",
    "    output_FI ['importance'] = model_FI.feature_importances_\n",
    "    output_FI ['feature'] = X.columns\n",
    "    \n",
    "    output_FI = output_FI.nlargest(n_features, columns = ['importance'], keep = 'first')\n",
    "    \n",
    "    X_featured_FI = pd.DataFrame()\n",
    "    for ii in output_FI['feature']:\n",
    "        X_featured_FI[ii] = X[ii]\n",
    "    \n",
    "    X = X_featured_FI.copy()\n",
    "    X = np.array(X)\n",
    "    y = np.array(y)\n",
    "    \n",
    "    \n",
    "    print(output_FI)\n",
    "    \n",
    "    return(X, y)"
   ]
  },
  {
   "cell_type": "markdown",
   "id": "d35e46c5",
   "metadata": {},
   "source": [
    "## Machine Learning Models\n",
    "In this section, we test the performance of different classification models such as Random Forest, Gradient Boost, and Neural Network. "
   ]
  },
  {
   "cell_type": "markdown",
   "id": "f369ea40",
   "metadata": {},
   "source": [
    "## 1. Random Forest\n",
    "We use Univariate_Selection and come up with n_feature = 100 as the optimum number of features."
   ]
  },
  {
   "cell_type": "code",
   "execution_count": 20,
   "id": "635cd225",
   "metadata": {},
   "outputs": [
    {
     "name": "stdout",
     "output_type": "stream",
     "text": [
      "      Specs     Score\n",
      "120   aurka  5.173416\n",
      "302    mapt  4.889528\n",
      "133  bmpr1b  3.466020\n",
      "26    ccne1  3.240146\n",
      "39     e2f2  3.122469\n",
      "..      ...       ...\n",
      "376   nr2f1  0.404774\n",
      "189  map3k1  0.404719\n",
      "89   notch1  0.393046\n",
      "251   rptor  0.384978\n",
      "14     msh6  0.384652\n",
      "\n",
      "[100 rows x 2 columns]\n"
     ]
    }
   ],
   "source": [
    "X, y = Univariate_Selection (df, n_features = 100)"
   ]
  },
  {
   "cell_type": "markdown",
   "id": "275babdb",
   "metadata": {},
   "source": [
    "There are several important hyperprameters that should be optimized in the Random Forest model. We use GridSearchCV to find the optimum values of these hyperparameters that result in the maximum accuracy. The algorithm came up with the following values:"
   ]
  },
  {
   "cell_type": "markdown",
   "id": "c3463460",
   "metadata": {},
   "source": [
    "ccp_alpha = 0.0005, max_depth = 40, max_features = 'sqrt', max_leaf_nodes = 30, n_estimators = 125"
   ]
  },
  {
   "cell_type": "code",
   "execution_count": 21,
   "id": "6b7566a1",
   "metadata": {},
   "outputs": [
    {
     "name": "stdout",
     "output_type": "stream",
     "text": [
      "{'ccp_alpha': 0.0005, 'max_depth': 40, 'max_features': 'sqrt', 'max_leaf_nodes': 30, 'n_estimators': 125}\n"
     ]
    }
   ],
   "source": [
    "param_grid = [\n",
    "    {'ccp_alpha' : [0.0005, 0.001, 0.005, 0.01, 0.015, 0.02],\n",
    "     'max_depth' : [20, 30, 40, 50],\n",
    "     'max_leaf_nodes' : [30, 40, 50],\n",
    "     'max_features' : [1, 'sqrt', 'log2'],\n",
    "     'n_estimators' : [50, 75, 100, 125]   \n",
    "    }\n",
    "]\n",
    "\n",
    "optimal_params = GridSearchCV(RandomForestClassifier(), param_grid, cv = 3, scoring = 'accuracy')\n",
    "\n",
    "optimal_params.fit(X, y)\n",
    "\n",
    "print(optimal_params.best_params_)"
   ]
  },
  {
   "cell_type": "markdown",
   "id": "6cdf0960",
   "metadata": {},
   "source": [
    "Then we use k-fold cross validation with cv = 10 to test the Random Forest accuracy on different samples of the test dataset."
   ]
  },
  {
   "cell_type": "code",
   "execution_count": 22,
   "id": "f2b839ed",
   "metadata": {},
   "outputs": [
    {
     "data": {
      "text/plain": [
       "array([0.67539267, 0.67015707, 0.68062827, 0.67894737, 0.66315789,\n",
       "       0.67894737, 0.65789474, 0.70526316, 0.65789474, 0.67368421])"
      ]
     },
     "execution_count": 22,
     "metadata": {},
     "output_type": "execute_result"
    }
   ],
   "source": [
    "Random_forest_models = cross_val_score(RandomForestClassifier(ccp_alpha= 0.005, max_depth= 40, max_features= 'sqrt', \\\n",
    "                                                              max_leaf_nodes= 30, n_estimators= 125), X, y, cv = 10)\n",
    "Random_forest_models"
   ]
  },
  {
   "cell_type": "markdown",
   "id": "59eaac3c",
   "metadata": {},
   "source": [
    "The average of accuracy over 10 cross validation sets is 0.67."
   ]
  },
  {
   "cell_type": "code",
   "execution_count": 23,
   "id": "c71d4f2a",
   "metadata": {},
   "outputs": [
    {
     "data": {
      "text/plain": [
       "0.6741967484155416"
      ]
     },
     "execution_count": 23,
     "metadata": {},
     "output_type": "execute_result"
    }
   ],
   "source": [
    "np.mean(Random_forest_models)"
   ]
  },
  {
   "cell_type": "code",
   "execution_count": 24,
   "id": "fcd41e3d",
   "metadata": {},
   "outputs": [],
   "source": [
    "X_train, X_test, y_train, y_test = train_test_split(X, y, test_size = 0.2)"
   ]
  },
  {
   "cell_type": "code",
   "execution_count": 25,
   "id": "4b205074",
   "metadata": {},
   "outputs": [],
   "source": [
    "Random_forest = RandomForestClassifier(ccp_alpha= 0.005, max_depth= 40, max_features= 'sqrt', \\\n",
    "                                                              max_leaf_nodes= 30, n_estimators= 125)"
   ]
  },
  {
   "cell_type": "code",
   "execution_count": 26,
   "id": "933160ea",
   "metadata": {},
   "outputs": [
    {
     "data": {
      "text/plain": [
       "RandomForestClassifier(ccp_alpha=0.005, max_depth=40, max_features='sqrt',\n",
       "                       max_leaf_nodes=30, n_estimators=125)"
      ]
     },
     "execution_count": 26,
     "metadata": {},
     "output_type": "execute_result"
    }
   ],
   "source": [
    "Random_forest.fit(X_train, y_train)"
   ]
  },
  {
   "cell_type": "markdown",
   "id": "67365f17",
   "metadata": {},
   "source": [
    "Model accuracy is on test data in around 0.67."
   ]
  },
  {
   "cell_type": "code",
   "execution_count": 27,
   "id": "9433049c",
   "metadata": {},
   "outputs": [
    {
     "data": {
      "text/plain": [
       "0.6666666666666666"
      ]
     },
     "execution_count": 27,
     "metadata": {},
     "output_type": "execute_result"
    }
   ],
   "source": [
    "Random_forest.score(X_test, y_test)"
   ]
  },
  {
   "cell_type": "code",
   "execution_count": 28,
   "id": "60d55433",
   "metadata": {},
   "outputs": [],
   "source": [
    "y_predicted = Random_forest.predict(X_test)"
   ]
  },
  {
   "cell_type": "markdown",
   "id": "51baa6c9",
   "metadata": {},
   "source": [
    "As shown in the confusion matrix below, the Random Forest model does not have a good accuracy for prediction of class = 1."
   ]
  },
  {
   "cell_type": "code",
   "execution_count": 29,
   "id": "0958067a",
   "metadata": {},
   "outputs": [
    {
     "data": {
      "text/plain": [
       "Text(69.0, 0.5, 'Truth')"
      ]
     },
     "execution_count": 29,
     "metadata": {},
     "output_type": "execute_result"
    },
    {
     "data": {
      "image/png": "[encoded data removed]",
      "text/plain": [
       "<Figure size 720x504 with 2 Axes>"
      ]
     },
     "metadata": {
      "needs_background": "light"
     },
     "output_type": "display_data"
    }
   ],
   "source": [
    "# Let's visualize this confusion matrix in seaborn\n",
    "cm = tf.math.confusion_matrix(labels = y_test, predictions = y_predicted)\n",
    "plt.figure(figsize = (10, 7))\n",
    "sn.heatmap(cm, annot = True, fmt = 'd')\n",
    "plt.xlabel ('predicted')\n",
    "plt.ylabel('Truth')"
   ]
  },
  {
   "cell_type": "markdown",
   "id": "014a39ea",
   "metadata": {},
   "source": [
    "F-Score for Class = 0 is 0.80 which is relatively good. However, F-score of Class = 1 is 0.06 which is very low. The weighted average F-score is 0.56."
   ]
  },
  {
   "cell_type": "code",
   "execution_count": 31,
   "id": "1e992f86",
   "metadata": {
    "scrolled": true
   },
   "outputs": [
    {
     "name": "stdout",
     "output_type": "stream",
     "text": [
      "              precision    recall  f1-score   support\n",
      "\n",
      "           0       0.67      0.98      0.80       256\n",
      "           1       0.40      0.03      0.06       125\n",
      "\n",
      "    accuracy                           0.67       381\n",
      "   macro avg       0.54      0.50      0.43       381\n",
      "weighted avg       0.58      0.67      0.56       381\n",
      "\n"
     ]
    }
   ],
   "source": [
    "print(classification_report(y_test, y_predicted, zero_division = False))"
   ]
  },
  {
   "cell_type": "markdown",
   "id": "40f04d42",
   "metadata": {},
   "source": [
    "## 2. Gradient Boost"
   ]
  },
  {
   "cell_type": "markdown",
   "id": "d6c37e26",
   "metadata": {},
   "source": [
    "Similar to the Random Forest model, we use Univariate_Selection and n_feature = 100 as the optimum number of features."
   ]
  },
  {
   "cell_type": "code",
   "execution_count": 32,
   "id": "977e304f",
   "metadata": {},
   "outputs": [
    {
     "name": "stdout",
     "output_type": "stream",
     "text": [
      "      Specs     Score\n",
      "120   aurka  5.173416\n",
      "302    mapt  4.889528\n",
      "133  bmpr1b  3.466020\n",
      "26    ccne1  3.240146\n",
      "39     e2f2  3.122469\n",
      "..      ...       ...\n",
      "376   nr2f1  0.404774\n",
      "189  map3k1  0.404719\n",
      "89   notch1  0.393046\n",
      "251   rptor  0.384978\n",
      "14     msh6  0.384652\n",
      "\n",
      "[100 rows x 2 columns]\n"
     ]
    }
   ],
   "source": [
    "X, y = Univariate_Selection (df, n_features = 100)"
   ]
  },
  {
   "cell_type": "markdown",
   "id": "a4db0e4b",
   "metadata": {},
   "source": [
    "We use GridSearchCV to find the optimum values of the hyperparameters, in particular learning rate."
   ]
  },
  {
   "cell_type": "code",
   "execution_count": 33,
   "id": "d83b8a36",
   "metadata": {},
   "outputs": [
    {
     "name": "stdout",
     "output_type": "stream",
     "text": [
      "{'learning_rate': 0.1, 'n_estimators': 50} 0.6773532255836442\n"
     ]
    }
   ],
   "source": [
    "param_grid = [\n",
    "    {'learning_rate' : [0.001, 0.01, 0.1, 0.15],\n",
    "     'n_estimators' : [50, 80, 100, 150]\n",
    "    }\n",
    "]\n",
    "\n",
    "optimal_params = GridSearchCV(GradientBoostingClassifier(), param_grid, cv = 5, scoring = 'accuracy')\n",
    "\n",
    "optimal_params.fit(X, y)\n",
    "\n",
    "print(optimal_params.best_params_, optimal_params.best_score_)"
   ]
  },
  {
   "cell_type": "code",
   "execution_count": 34,
   "id": "58778010",
   "metadata": {},
   "outputs": [
    {
     "data": {
      "text/plain": [
       "array([0.69109948, 0.65968586, 0.65968586, 0.72631579, 0.62631579,\n",
       "       0.65263158, 0.65789474, 0.65263158, 0.68421053, 0.67894737])"
      ]
     },
     "execution_count": 34,
     "metadata": {},
     "output_type": "execute_result"
    }
   ],
   "source": [
    "Boost_models = cross_val_score(GradientBoostingClassifier(learning_rate = 0.1, n_estimators = 50),X, y,cv = 10)\n",
    "Boost_models"
   ]
  },
  {
   "cell_type": "markdown",
   "id": "4c568242",
   "metadata": {},
   "source": [
    "The average of accuracy over 10 cross validation sets is 0.67."
   ]
  },
  {
   "cell_type": "code",
   "execution_count": 35,
   "id": "d9eac077",
   "metadata": {},
   "outputs": [
    {
     "data": {
      "text/plain": [
       "0.6689418572609535"
      ]
     },
     "execution_count": 35,
     "metadata": {},
     "output_type": "execute_result"
    }
   ],
   "source": [
    "np.mean(Boost_models)"
   ]
  },
  {
   "cell_type": "code",
   "execution_count": 36,
   "id": "a5f46016",
   "metadata": {},
   "outputs": [],
   "source": [
    "X_train, X_test, y_train, y_test = train_test_split(X, y, test_size = 0.2)"
   ]
  },
  {
   "cell_type": "code",
   "execution_count": 37,
   "id": "8e0dd19d",
   "metadata": {},
   "outputs": [
    {
     "data": {
      "text/plain": [
       "GradientBoostingClassifier(n_estimators=50)"
      ]
     },
     "execution_count": 37,
     "metadata": {},
     "output_type": "execute_result"
    }
   ],
   "source": [
    "gBoostClassifier = GradientBoostingClassifier(learning_rate = 0.1, n_estimators = 50)\n",
    "gBoostClassifier.fit(X_train, y_train)"
   ]
  },
  {
   "cell_type": "markdown",
   "id": "c9e7e24a",
   "metadata": {},
   "source": [
    "The accuracy of Gradient Boost on test data is 0.69."
   ]
  },
  {
   "cell_type": "code",
   "execution_count": 38,
   "id": "b5007aef",
   "metadata": {},
   "outputs": [
    {
     "data": {
      "text/plain": [
       "0.6981627296587927"
      ]
     },
     "execution_count": 38,
     "metadata": {},
     "output_type": "execute_result"
    }
   ],
   "source": [
    "gBoostClassifier.score(X_test, y_test)"
   ]
  },
  {
   "cell_type": "code",
   "execution_count": 39,
   "id": "30c5c6b9",
   "metadata": {},
   "outputs": [],
   "source": [
    "y_predicted = gBoostClassifier.predict(X_test)"
   ]
  },
  {
   "cell_type": "markdown",
   "id": "2f3d5e7a",
   "metadata": {},
   "source": [
    "Gradient boost works better in prediction of Class = 1, compared to Random Forest."
   ]
  },
  {
   "cell_type": "code",
   "execution_count": 40,
   "id": "42792c81",
   "metadata": {},
   "outputs": [
    {
     "data": {
      "text/plain": [
       "Text(69.0, 0.5, 'Truth')"
      ]
     },
     "execution_count": 40,
     "metadata": {},
     "output_type": "execute_result"
    },
    {
     "data": {
      "image/png": "[encoded data removed]",
      "text/plain": [
       "<Figure size 720x504 with 2 Axes>"
      ]
     },
     "metadata": {
      "needs_background": "light"
     },
     "output_type": "display_data"
    }
   ],
   "source": [
    "# Let's visualize this confusion matrix in seaborn\n",
    "cm = tf.math.confusion_matrix(labels = y_test, predictions = y_predicted)\n",
    "plt.figure(figsize = (10, 7))\n",
    "sn.heatmap(cm, annot = True, fmt = 'd')\n",
    "plt.xlabel ('predicted')\n",
    "plt.ylabel('Truth')"
   ]
  },
  {
   "cell_type": "markdown",
   "id": "2f6c13de",
   "metadata": {},
   "source": [
    "F-Score for Class = 0 is 0.80 which is relatively good. F-score of Class = 1 is 0.36 which is higher than F-score of the Random Forest model (0.06). The weighted average F-score is 0.65 which is fairly better than Random Forest (0.56)."
   ]
  },
  {
   "cell_type": "code",
   "execution_count": 41,
   "id": "f17ef6ea",
   "metadata": {},
   "outputs": [
    {
     "name": "stdout",
     "output_type": "stream",
     "text": [
      "              precision    recall  f1-score   support\n",
      "\n",
      "           0       0.70      0.94      0.80       250\n",
      "           1       0.67      0.24      0.36       131\n",
      "\n",
      "    accuracy                           0.70       381\n",
      "   macro avg       0.68      0.59      0.58       381\n",
      "weighted avg       0.69      0.70      0.65       381\n",
      "\n"
     ]
    }
   ],
   "source": [
    "print(classification_report(y_test, y_predicted, zero_division = False))"
   ]
  },
  {
   "cell_type": "markdown",
   "id": "fb0d3a51",
   "metadata": {},
   "source": [
    "## 3. Neural Network - Classification Model"
   ]
  },
  {
   "cell_type": "markdown",
   "id": "6b3ff366",
   "metadata": {},
   "source": [
    "In this part, we use a shallow neural network for binary classification."
   ]
  },
  {
   "cell_type": "code",
   "execution_count": 57,
   "id": "92e87070",
   "metadata": {},
   "outputs": [
    {
     "name": "stdout",
     "output_type": "stream",
     "text": [
      "      Specs     Score\n",
      "120   aurka  5.173416\n",
      "302    mapt  4.889528\n",
      "133  bmpr1b  3.466020\n",
      "26    ccne1  3.240146\n",
      "39     e2f2  3.122469\n",
      "..      ...       ...\n",
      "376   nr2f1  0.404774\n",
      "189  map3k1  0.404719\n",
      "89   notch1  0.393046\n",
      "251   rptor  0.384978\n",
      "14     msh6  0.384652\n",
      "\n",
      "[100 rows x 2 columns]\n"
     ]
    }
   ],
   "source": [
    "X, y = Univariate_Selection (df, n_features = 100)"
   ]
  },
  {
   "cell_type": "code",
   "execution_count": 58,
   "id": "c5eee153",
   "metadata": {},
   "outputs": [],
   "source": [
    "X_train, X_test, y_train, y_test = train_test_split(X, y, test_size = 0.2)"
   ]
  },
  {
   "cell_type": "code",
   "execution_count": 59,
   "id": "188780d6",
   "metadata": {},
   "outputs": [
    {
     "data": {
      "text/plain": [
       "(1522, 100)"
      ]
     },
     "execution_count": 59,
     "metadata": {},
     "output_type": "execute_result"
    }
   ],
   "source": [
    "X_train.shape"
   ]
  },
  {
   "cell_type": "code",
   "execution_count": 65,
   "id": "43e88d0d",
   "metadata": {},
   "outputs": [
    {
     "name": "stdout",
     "output_type": "stream",
     "text": [
      "Epoch 1/100\n",
      "48/48 [==============================] - 1s 10ms/step - loss: 0.6663 - accuracy: 0.6078 - val_loss: 0.6236 - val_accuracy: 0.6824\n",
      "Epoch 2/100\n",
      "48/48 [==============================] - 0s 5ms/step - loss: 0.6461 - accuracy: 0.6590 - val_loss: 0.6189 - val_accuracy: 0.6824\n",
      "Epoch 3/100\n",
      "48/48 [==============================] - 0s 5ms/step - loss: 0.6405 - accuracy: 0.6649 - val_loss: 0.6099 - val_accuracy: 0.6824\n",
      "Epoch 4/100\n",
      "48/48 [==============================] - 0s 5ms/step - loss: 0.6369 - accuracy: 0.6636 - val_loss: 0.6115 - val_accuracy: 0.6824\n",
      "Epoch 5/100\n",
      "48/48 [==============================] - 0s 5ms/step - loss: 0.6252 - accuracy: 0.6629 - val_loss: 0.6038 - val_accuracy: 0.6824\n",
      "Epoch 6/100\n",
      "48/48 [==============================] - 0s 5ms/step - loss: 0.6274 - accuracy: 0.6643 - val_loss: 0.6062 - val_accuracy: 0.6824\n",
      "Epoch 7/100\n",
      "48/48 [==============================] - 0s 5ms/step - loss: 0.6208 - accuracy: 0.6715 - val_loss: 0.5991 - val_accuracy: 0.6824\n",
      "Epoch 8/100\n",
      "48/48 [==============================] - 0s 5ms/step - loss: 0.6155 - accuracy: 0.6715 - val_loss: 0.6016 - val_accuracy: 0.6824\n",
      "Epoch 9/100\n",
      "48/48 [==============================] - 0s 5ms/step - loss: 0.6127 - accuracy: 0.6702 - val_loss: 0.5958 - val_accuracy: 0.6824\n",
      "Epoch 10/100\n",
      "48/48 [==============================] - 0s 5ms/step - loss: 0.6149 - accuracy: 0.6689 - val_loss: 0.5953 - val_accuracy: 0.6824\n",
      "Epoch 11/100\n",
      "48/48 [==============================] - 0s 5ms/step - loss: 0.6108 - accuracy: 0.6715 - val_loss: 0.5943 - val_accuracy: 0.6824\n",
      "Epoch 12/100\n",
      "48/48 [==============================] - 0s 5ms/step - loss: 0.6093 - accuracy: 0.6708 - val_loss: 0.5971 - val_accuracy: 0.6824\n",
      "Epoch 13/100\n",
      "48/48 [==============================] - 0s 5ms/step - loss: 0.6140 - accuracy: 0.6695 - val_loss: 0.5957 - val_accuracy: 0.6824\n",
      "Epoch 14/100\n",
      "48/48 [==============================] - 0s 5ms/step - loss: 0.6092 - accuracy: 0.6728 - val_loss: 0.5908 - val_accuracy: 0.6824\n",
      "Epoch 15/100\n",
      "48/48 [==============================] - 0s 5ms/step - loss: 0.6118 - accuracy: 0.6708 - val_loss: 0.5904 - val_accuracy: 0.6824\n",
      "Epoch 16/100\n",
      "48/48 [==============================] - 0s 5ms/step - loss: 0.6080 - accuracy: 0.6708 - val_loss: 0.5859 - val_accuracy: 0.6824\n",
      "Epoch 17/100\n",
      "48/48 [==============================] - 0s 5ms/step - loss: 0.6100 - accuracy: 0.6695 - val_loss: 0.5866 - val_accuracy: 0.6824\n",
      "Epoch 18/100\n",
      "48/48 [==============================] - 0s 5ms/step - loss: 0.6080 - accuracy: 0.6708 - val_loss: 0.5899 - val_accuracy: 0.6824\n",
      "Epoch 19/100\n",
      "48/48 [==============================] - 0s 5ms/step - loss: 0.6029 - accuracy: 0.6675 - val_loss: 0.5873 - val_accuracy: 0.6824\n",
      "Epoch 20/100\n",
      "48/48 [==============================] - 0s 5ms/step - loss: 0.6055 - accuracy: 0.6702 - val_loss: 0.5860 - val_accuracy: 0.6824\n",
      "Epoch 21/100\n",
      "48/48 [==============================] - 0s 5ms/step - loss: 0.6061 - accuracy: 0.6708 - val_loss: 0.5885 - val_accuracy: 0.6824\n",
      "Epoch 22/100\n",
      "48/48 [==============================] - 0s 5ms/step - loss: 0.6000 - accuracy: 0.6708 - val_loss: 0.5857 - val_accuracy: 0.6824\n",
      "Epoch 23/100\n",
      "48/48 [==============================] - 0s 5ms/step - loss: 0.6020 - accuracy: 0.6708 - val_loss: 0.5852 - val_accuracy: 0.6824\n",
      "Epoch 24/100\n",
      "48/48 [==============================] - 0s 5ms/step - loss: 0.5980 - accuracy: 0.6708 - val_loss: 0.5828 - val_accuracy: 0.6824\n",
      "Epoch 25/100\n",
      "48/48 [==============================] - 0s 5ms/step - loss: 0.5940 - accuracy: 0.6708 - val_loss: 0.5865 - val_accuracy: 0.6824\n",
      "Epoch 26/100\n",
      "48/48 [==============================] - 0s 5ms/step - loss: 0.6045 - accuracy: 0.6708 - val_loss: 0.5816 - val_accuracy: 0.6824\n",
      "Epoch 27/100\n",
      "48/48 [==============================] - 0s 5ms/step - loss: 0.5992 - accuracy: 0.6708 - val_loss: 0.5796 - val_accuracy: 0.6824\n",
      "Epoch 28/100\n",
      "48/48 [==============================] - 0s 5ms/step - loss: 0.5991 - accuracy: 0.6715 - val_loss: 0.5813 - val_accuracy: 0.6824\n",
      "Epoch 29/100\n",
      "48/48 [==============================] - 0s 5ms/step - loss: 0.6029 - accuracy: 0.6682 - val_loss: 0.5880 - val_accuracy: 0.6824\n",
      "Epoch 30/100\n",
      "48/48 [==============================] - 0s 5ms/step - loss: 0.5966 - accuracy: 0.6708 - val_loss: 0.5814 - val_accuracy: 0.6824\n",
      "Epoch 31/100\n",
      "48/48 [==============================] - 0s 5ms/step - loss: 0.5927 - accuracy: 0.6708 - val_loss: 0.5816 - val_accuracy: 0.6824\n",
      "Epoch 32/100\n",
      "48/48 [==============================] - 0s 5ms/step - loss: 0.6025 - accuracy: 0.6702 - val_loss: 0.5847 - val_accuracy: 0.6824\n",
      "Epoch 33/100\n",
      "48/48 [==============================] - 0s 5ms/step - loss: 0.6023 - accuracy: 0.6708 - val_loss: 0.5839 - val_accuracy: 0.6824\n",
      "Epoch 34/100\n",
      "48/48 [==============================] - 0s 5ms/step - loss: 0.5948 - accuracy: 0.6695 - val_loss: 0.5814 - val_accuracy: 0.6824\n",
      "Epoch 35/100\n",
      "48/48 [==============================] - 0s 5ms/step - loss: 0.5953 - accuracy: 0.6708 - val_loss: 0.5822 - val_accuracy: 0.6824\n",
      "Epoch 36/100\n",
      "48/48 [==============================] - 0s 5ms/step - loss: 0.5932 - accuracy: 0.6715 - val_loss: 0.5801 - val_accuracy: 0.6824\n",
      "Epoch 37/100\n",
      "48/48 [==============================] - 0s 5ms/step - loss: 0.6002 - accuracy: 0.6708 - val_loss: 0.5771 - val_accuracy: 0.6824\n",
      "Epoch 38/100\n",
      "48/48 [==============================] - 0s 5ms/step - loss: 0.5956 - accuracy: 0.6695 - val_loss: 0.5776 - val_accuracy: 0.6824\n",
      "Epoch 39/100\n",
      "48/48 [==============================] - 0s 5ms/step - loss: 0.5934 - accuracy: 0.6741 - val_loss: 0.5785 - val_accuracy: 0.6824\n",
      "Epoch 40/100\n",
      "48/48 [==============================] - 0s 5ms/step - loss: 0.5945 - accuracy: 0.6715 - val_loss: 0.5799 - val_accuracy: 0.6824\n",
      "Epoch 41/100\n",
      "48/48 [==============================] - 0s 5ms/step - loss: 0.5855 - accuracy: 0.6761 - val_loss: 0.5790 - val_accuracy: 0.6824\n",
      "Epoch 42/100\n",
      "48/48 [==============================] - 0s 5ms/step - loss: 0.5953 - accuracy: 0.6741 - val_loss: 0.5791 - val_accuracy: 0.6824\n",
      "Epoch 43/100\n",
      "48/48 [==============================] - 0s 5ms/step - loss: 0.5869 - accuracy: 0.6702 - val_loss: 0.5782 - val_accuracy: 0.6824\n",
      "Epoch 44/100\n",
      "48/48 [==============================] - 0s 5ms/step - loss: 0.5862 - accuracy: 0.6741 - val_loss: 0.5790 - val_accuracy: 0.6824\n",
      "Epoch 45/100\n",
      "48/48 [==============================] - 0s 5ms/step - loss: 0.5878 - accuracy: 0.6748 - val_loss: 0.5791 - val_accuracy: 0.6824\n",
      "Epoch 46/100\n",
      "48/48 [==============================] - 0s 5ms/step - loss: 0.5909 - accuracy: 0.6741 - val_loss: 0.5816 - val_accuracy: 0.6850\n",
      "Epoch 47/100\n",
      "48/48 [==============================] - 0s 5ms/step - loss: 0.5915 - accuracy: 0.6807 - val_loss: 0.5795 - val_accuracy: 0.6850\n",
      "Epoch 48/100\n",
      "48/48 [==============================] - 0s 5ms/step - loss: 0.5918 - accuracy: 0.6689 - val_loss: 0.5771 - val_accuracy: 0.6824\n",
      "Epoch 49/100\n",
      "48/48 [==============================] - 0s 5ms/step - loss: 0.5818 - accuracy: 0.6728 - val_loss: 0.5779 - val_accuracy: 0.6824\n",
      "Epoch 50/100\n",
      "48/48 [==============================] - 0s 7ms/step - loss: 0.5922 - accuracy: 0.6800 - val_loss: 0.5827 - val_accuracy: 0.6850\n",
      "Epoch 51/100\n",
      "48/48 [==============================] - 0s 5ms/step - loss: 0.5886 - accuracy: 0.6741 - val_loss: 0.5770 - val_accuracy: 0.6877\n",
      "Epoch 52/100\n",
      "48/48 [==============================] - 0s 5ms/step - loss: 0.5796 - accuracy: 0.6813 - val_loss: 0.5765 - val_accuracy: 0.6824\n",
      "Epoch 53/100\n",
      "48/48 [==============================] - 0s 5ms/step - loss: 0.5868 - accuracy: 0.6675 - val_loss: 0.5759 - val_accuracy: 0.6824\n",
      "Epoch 54/100\n",
      "48/48 [==============================] - 0s 5ms/step - loss: 0.5856 - accuracy: 0.6754 - val_loss: 0.5769 - val_accuracy: 0.6798\n",
      "Epoch 55/100\n",
      "48/48 [==============================] - 0s 5ms/step - loss: 0.5845 - accuracy: 0.6794 - val_loss: 0.5778 - val_accuracy: 0.6824\n",
      "Epoch 56/100\n",
      "48/48 [==============================] - 0s 5ms/step - loss: 0.5801 - accuracy: 0.6715 - val_loss: 0.5751 - val_accuracy: 0.6824\n",
      "Epoch 57/100\n",
      "48/48 [==============================] - 0s 5ms/step - loss: 0.5837 - accuracy: 0.6682 - val_loss: 0.5789 - val_accuracy: 0.6850\n",
      "Epoch 58/100\n",
      "48/48 [==============================] - 0s 5ms/step - loss: 0.5778 - accuracy: 0.6767 - val_loss: 0.5771 - val_accuracy: 0.6798\n"
     ]
    },
    {
     "name": "stdout",
     "output_type": "stream",
     "text": [
      "Epoch 59/100\n",
      "48/48 [==============================] - 0s 4ms/step - loss: 0.5788 - accuracy: 0.6846 - val_loss: 0.5761 - val_accuracy: 0.6850\n",
      "Epoch 60/100\n",
      "48/48 [==============================] - 0s 4ms/step - loss: 0.5698 - accuracy: 0.6866 - val_loss: 0.5926 - val_accuracy: 0.6929\n",
      "Epoch 61/100\n",
      "48/48 [==============================] - 0s 4ms/step - loss: 0.5709 - accuracy: 0.6754 - val_loss: 0.5754 - val_accuracy: 0.6877\n",
      "Epoch 62/100\n",
      "48/48 [==============================] - 0s 4ms/step - loss: 0.5746 - accuracy: 0.6715 - val_loss: 0.5744 - val_accuracy: 0.6929\n",
      "Epoch 63/100\n",
      "48/48 [==============================] - 0s 4ms/step - loss: 0.5770 - accuracy: 0.6794 - val_loss: 0.5767 - val_accuracy: 0.6850\n",
      "Epoch 64/100\n",
      "48/48 [==============================] - 0s 4ms/step - loss: 0.5734 - accuracy: 0.6912 - val_loss: 0.5759 - val_accuracy: 0.6798\n",
      "Epoch 65/100\n",
      "48/48 [==============================] - 0s 4ms/step - loss: 0.5720 - accuracy: 0.6873 - val_loss: 0.5751 - val_accuracy: 0.6903\n",
      "Epoch 66/100\n",
      "48/48 [==============================] - 0s 4ms/step - loss: 0.5652 - accuracy: 0.6781 - val_loss: 0.5760 - val_accuracy: 0.6667\n",
      "Epoch 67/100\n",
      "48/48 [==============================] - 0s 4ms/step - loss: 0.5835 - accuracy: 0.6741 - val_loss: 0.5747 - val_accuracy: 0.6877\n",
      "Epoch 68/100\n",
      "48/48 [==============================] - 0s 4ms/step - loss: 0.5716 - accuracy: 0.6813 - val_loss: 0.5744 - val_accuracy: 0.6824\n",
      "Epoch 69/100\n",
      "48/48 [==============================] - 0s 4ms/step - loss: 0.5780 - accuracy: 0.6866 - val_loss: 0.5746 - val_accuracy: 0.6824\n",
      "Epoch 70/100\n",
      "48/48 [==============================] - 0s 4ms/step - loss: 0.5698 - accuracy: 0.6833 - val_loss: 0.5781 - val_accuracy: 0.6877\n",
      "Epoch 71/100\n",
      "48/48 [==============================] - 0s 4ms/step - loss: 0.5702 - accuracy: 0.6912 - val_loss: 0.5751 - val_accuracy: 0.6850\n",
      "Epoch 72/100\n",
      "48/48 [==============================] - 0s 4ms/step - loss: 0.5756 - accuracy: 0.6800 - val_loss: 0.5741 - val_accuracy: 0.6877\n",
      "Epoch 73/100\n",
      "48/48 [==============================] - 0s 4ms/step - loss: 0.5646 - accuracy: 0.6833 - val_loss: 0.5719 - val_accuracy: 0.6929\n",
      "Epoch 74/100\n",
      "48/48 [==============================] - 0s 4ms/step - loss: 0.5690 - accuracy: 0.6807 - val_loss: 0.5796 - val_accuracy: 0.6719\n",
      "Epoch 75/100\n",
      "48/48 [==============================] - 0s 4ms/step - loss: 0.5555 - accuracy: 0.6932 - val_loss: 0.5778 - val_accuracy: 0.6798\n",
      "Epoch 76/100\n",
      "48/48 [==============================] - 0s 5ms/step - loss: 0.5642 - accuracy: 0.6866 - val_loss: 0.5729 - val_accuracy: 0.6877\n",
      "Epoch 77/100\n",
      "48/48 [==============================] - 0s 4ms/step - loss: 0.5707 - accuracy: 0.6820 - val_loss: 0.5769 - val_accuracy: 0.6929\n",
      "Epoch 78/100\n",
      "48/48 [==============================] - 0s 4ms/step - loss: 0.5635 - accuracy: 0.6840 - val_loss: 0.5789 - val_accuracy: 0.6903\n",
      "Epoch 79/100\n",
      "48/48 [==============================] - 0s 4ms/step - loss: 0.5743 - accuracy: 0.6905 - val_loss: 0.5760 - val_accuracy: 0.6850\n",
      "Epoch 80/100\n",
      "48/48 [==============================] - 0s 4ms/step - loss: 0.5703 - accuracy: 0.6813 - val_loss: 0.5753 - val_accuracy: 0.6772\n",
      "Epoch 81/100\n",
      "48/48 [==============================] - 0s 4ms/step - loss: 0.5620 - accuracy: 0.6886 - val_loss: 0.5797 - val_accuracy: 0.6850\n",
      "Epoch 82/100\n",
      "48/48 [==============================] - 0s 4ms/step - loss: 0.5615 - accuracy: 0.6938 - val_loss: 0.5759 - val_accuracy: 0.6824\n",
      "Epoch 83/100\n",
      "48/48 [==============================] - 0s 5ms/step - loss: 0.5627 - accuracy: 0.6866 - val_loss: 0.5755 - val_accuracy: 0.6798\n",
      "Epoch 84/100\n",
      "48/48 [==============================] - 0s 4ms/step - loss: 0.5634 - accuracy: 0.6912 - val_loss: 0.5758 - val_accuracy: 0.6955\n",
      "Epoch 85/100\n",
      "48/48 [==============================] - 0s 5ms/step - loss: 0.5588 - accuracy: 0.6853 - val_loss: 0.5754 - val_accuracy: 0.6903\n",
      "Epoch 86/100\n",
      "48/48 [==============================] - 0s 4ms/step - loss: 0.5592 - accuracy: 0.6978 - val_loss: 0.5803 - val_accuracy: 0.6850\n",
      "Epoch 87/100\n",
      "48/48 [==============================] - 0s 5ms/step - loss: 0.5579 - accuracy: 0.6813 - val_loss: 0.5853 - val_accuracy: 0.6877\n",
      "Epoch 88/100\n",
      "48/48 [==============================] - 0s 5ms/step - loss: 0.5573 - accuracy: 0.6813 - val_loss: 0.5737 - val_accuracy: 0.7008\n",
      "Epoch 89/100\n",
      "48/48 [==============================] - 0s 5ms/step - loss: 0.5541 - accuracy: 0.6925 - val_loss: 0.5803 - val_accuracy: 0.6903\n",
      "Epoch 90/100\n",
      "48/48 [==============================] - 0s 5ms/step - loss: 0.5617 - accuracy: 0.6840 - val_loss: 0.5715 - val_accuracy: 0.6955\n",
      "Epoch 91/100\n",
      "48/48 [==============================] - 0s 5ms/step - loss: 0.5587 - accuracy: 0.6965 - val_loss: 0.5796 - val_accuracy: 0.7087\n",
      "Epoch 92/100\n",
      "48/48 [==============================] - 0s 5ms/step - loss: 0.5515 - accuracy: 0.6925 - val_loss: 0.5776 - val_accuracy: 0.6903\n",
      "Epoch 93/100\n",
      "48/48 [==============================] - 0s 5ms/step - loss: 0.5486 - accuracy: 0.6991 - val_loss: 0.5805 - val_accuracy: 0.7008\n",
      "Epoch 94/100\n",
      "48/48 [==============================] - 0s 6ms/step - loss: 0.5515 - accuracy: 0.7030 - val_loss: 0.5740 - val_accuracy: 0.6955\n",
      "Epoch 95/100\n",
      "48/48 [==============================] - 0s 7ms/step - loss: 0.5446 - accuracy: 0.6945 - val_loss: 0.5834 - val_accuracy: 0.6850\n",
      "Epoch 96/100\n",
      "48/48 [==============================] - 0s 9ms/step - loss: 0.5476 - accuracy: 0.7043 - val_loss: 0.5804 - val_accuracy: 0.6903\n",
      "Epoch 97/100\n",
      "48/48 [==============================] - 0s 7ms/step - loss: 0.5475 - accuracy: 0.7004 - val_loss: 0.5800 - val_accuracy: 0.6929\n",
      "Epoch 98/100\n",
      "48/48 [==============================] - 0s 7ms/step - loss: 0.5459 - accuracy: 0.6866 - val_loss: 0.5797 - val_accuracy: 0.7034\n",
      "Epoch 99/100\n",
      "48/48 [==============================] - 0s 7ms/step - loss: 0.5372 - accuracy: 0.6978 - val_loss: 0.5803 - val_accuracy: 0.6903\n",
      "Epoch 100/100\n",
      "48/48 [==============================] - 0s 6ms/step - loss: 0.5524 - accuracy: 0.6984 - val_loss: 0.5798 - val_accuracy: 0.6798\n"
     ]
    }
   ],
   "source": [
    "NN = keras.Sequential([\n",
    "    \n",
    "    keras.layers.Dense(64, input_shape = (100, ), activation = 'relu'),\n",
    "    keras.layers.Dropout(0.5),\n",
    "    keras.layers.Dense(16, activation = 'relu'),\n",
    "    keras.layers.Dropout(0.5),\n",
    "    keras.layers.Dense(1, activation = 'sigmoid'), \n",
    "])\n",
    "\n",
    "NN.compile(optimizer = 'adam',\n",
    "                loss = 'binary_crossentropy',\n",
    "                metrics = ['accuracy'])\n",
    "\n",
    "  \n",
    "history_class = NN.fit(X_train, y_train, validation_data = (X_test, y_test), epochs = 100, batch_size = 32)"
   ]
  },
  {
   "cell_type": "markdown",
   "id": "26928096",
   "metadata": {},
   "source": [
    "This NN model has 7521 parameters that should be optimized by backpropagation."
   ]
  },
  {
   "cell_type": "code",
   "execution_count": 124,
   "id": "ca318c1d",
   "metadata": {},
   "outputs": [
    {
     "name": "stdout",
     "output_type": "stream",
     "text": [
      "Model: \"sequential_5\"\n",
      "_________________________________________________________________\n",
      " Layer (type)                Output Shape              Param #   \n",
      "=================================================================\n",
      " dense_15 (Dense)            (None, 64)                6464      \n",
      "                                                                 \n",
      " dropout_9 (Dropout)         (None, 64)                0         \n",
      "                                                                 \n",
      " dense_16 (Dense)            (None, 16)                1040      \n",
      "                                                                 \n",
      " dropout_10 (Dropout)        (None, 16)                0         \n",
      "                                                                 \n",
      " dense_17 (Dense)            (None, 1)                 17        \n",
      "                                                                 \n",
      "=================================================================\n",
      "Total params: 7,521\n",
      "Trainable params: 7,521\n",
      "Non-trainable params: 0\n",
      "_________________________________________________________________\n"
     ]
    }
   ],
   "source": [
    "NN.summary()"
   ]
  },
  {
   "cell_type": "markdown",
   "id": "b621cf0a",
   "metadata": {},
   "source": [
    "The following figures show the profiles of \"loss\" and \"accuracy\" with respect to epochs for the training and validation (test) datasets."
   ]
  },
  {
   "cell_type": "code",
   "execution_count": 66,
   "id": "2f1d1f98",
   "metadata": {},
   "outputs": [
    {
     "data": {
      "text/plain": [
       "<matplotlib.legend.Legend at 0x1a282da9520>"
      ]
     },
     "execution_count": 66,
     "metadata": {},
     "output_type": "execute_result"
    },
    {
     "data": {
      "image/png": "[encoded data removed]",
      "text/plain": [
       "<Figure size 1080x360 with 2 Axes>"
      ]
     },
     "metadata": {
      "needs_background": "light"
     },
     "output_type": "display_data"
    }
   ],
   "source": [
    "plt.figure(figsize = (15, 5))\n",
    "\n",
    "plt.subplot(1,2,1)\n",
    "plt.plot(history_class.history['loss'], label = 'training')\n",
    "plt.plot(history_class.history['val_loss'], label = 'validation')\n",
    "plt.xlabel('epochs')\n",
    "plt.ylabel('loss')\n",
    "plt.legend()\n",
    "\n",
    "plt.subplot(1,2,2)\n",
    "plt.plot(history_class.history['accuracy'], label = 'training')\n",
    "plt.plot(history_class.history['val_accuracy'], label = 'Validation')\n",
    "plt.xlabel('epochs')\n",
    "plt.ylabel('accuracy')\n",
    "plt.legend()\n"
   ]
  },
  {
   "cell_type": "markdown",
   "id": "f6e5850b",
   "metadata": {},
   "source": [
    "The accuracy of the NN model on test set is around 0.68."
   ]
  },
  {
   "cell_type": "code",
   "execution_count": 67,
   "id": "2986700e",
   "metadata": {},
   "outputs": [
    {
     "name": "stdout",
     "output_type": "stream",
     "text": [
      "12/12 [==============================] - 0s 2ms/step - loss: 0.5798 - accuracy: 0.6798\n"
     ]
    },
    {
     "data": {
      "text/plain": [
       "[0.5798258781433105, 0.6797900199890137]"
      ]
     },
     "execution_count": 67,
     "metadata": {},
     "output_type": "execute_result"
    }
   ],
   "source": [
    "NN.evaluate(X_test, y_test)"
   ]
  },
  {
   "cell_type": "code",
   "execution_count": 68,
   "id": "6d76bc46",
   "metadata": {},
   "outputs": [],
   "source": [
    "y_predicted = NN.predict(X_test)"
   ]
  },
  {
   "cell_type": "code",
   "execution_count": 69,
   "id": "261986e6",
   "metadata": {},
   "outputs": [],
   "source": [
    "y_predicted_labels = []\n",
    "\n",
    "for ii in y_predicted:\n",
    "    if ii > 0.5:\n",
    "        y_predicted_labels.append(1)\n",
    "    elif ii <= 0.5:\n",
    "        y_predicted_labels.append(0)"
   ]
  },
  {
   "cell_type": "markdown",
   "id": "3b8f8461",
   "metadata": {},
   "source": [
    "This NN model has a better performance in predicting the Class = 1 compared to Random Forest."
   ]
  },
  {
   "cell_type": "code",
   "execution_count": 70,
   "id": "137250c2",
   "metadata": {},
   "outputs": [
    {
     "data": {
      "text/plain": [
       "Text(69.0, 0.5, 'Truth')"
      ]
     },
     "execution_count": 70,
     "metadata": {},
     "output_type": "execute_result"
    },
    {
     "data": {
      "image/png": "[encoded data removed]",
      "text/plain": [
       "<Figure size 720x504 with 2 Axes>"
      ]
     },
     "metadata": {
      "needs_background": "light"
     },
     "output_type": "display_data"
    }
   ],
   "source": [
    "# Let's visualize this confusion matrix in seaborn\n",
    "cm = tf.math.confusion_matrix(labels = y_test, predictions = y_predicted_labels)\n",
    "plt.figure(figsize = (10, 7))\n",
    "sn.heatmap(cm, annot = True, fmt = 'd')\n",
    "plt.xlabel ('predicted')\n",
    "plt.ylabel('Truth')"
   ]
  },
  {
   "cell_type": "markdown",
   "id": "50e64563",
   "metadata": {},
   "source": [
    "F-Score for Class = 0 is 0.79 which is relatively good and similar to the F-score Gradient Boost. F-score of Class = 1 is 0.37 which is a bit higher than F-score of the Gradient Boost model (0.36). The weighted average F-score is 0.65."
   ]
  },
  {
   "cell_type": "code",
   "execution_count": 71,
   "id": "bb04b707",
   "metadata": {
    "scrolled": true
   },
   "outputs": [
    {
     "name": "stdout",
     "output_type": "stream",
     "text": [
      "              precision    recall  f1-score   support\n",
      "\n",
      "           0       0.72      0.86      0.79       260\n",
      "           1       0.49      0.30      0.37       121\n",
      "\n",
      "    accuracy                           0.68       381\n",
      "   macro avg       0.61      0.58      0.58       381\n",
      "weighted avg       0.65      0.68      0.65       381\n",
      "\n"
     ]
    }
   ],
   "source": [
    "print(classification_report(y_test, y_predicted_labels, zero_division = False))"
   ]
  },
  {
   "cell_type": "markdown",
   "id": "aea62e28",
   "metadata": {},
   "source": [
    "## Learning curve\n",
    "### Gradient Boost model\n",
    "In this subsection, we want to evaluate the learning curve of the Gradient Boost model. The interpretation of this curve will help us to understand why the accuracy of our model is relatively low."
   ]
  },
  {
   "cell_type": "code",
   "execution_count": 73,
   "id": "845ac0a8",
   "metadata": {},
   "outputs": [
    {
     "name": "stdout",
     "output_type": "stream",
     "text": [
      "      Specs     Score\n",
      "120   aurka  5.173416\n",
      "302    mapt  4.889528\n",
      "133  bmpr1b  3.466020\n",
      "26    ccne1  3.240146\n",
      "39     e2f2  3.122469\n",
      "..      ...       ...\n",
      "376   nr2f1  0.404774\n",
      "189  map3k1  0.404719\n",
      "89   notch1  0.393046\n",
      "251   rptor  0.384978\n",
      "14     msh6  0.384652\n",
      "\n",
      "[100 rows x 2 columns]\n"
     ]
    }
   ],
   "source": [
    "X, y = Univariate_Selection (df, n_features = 100)"
   ]
  },
  {
   "cell_type": "code",
   "execution_count": 74,
   "id": "e3898344",
   "metadata": {},
   "outputs": [],
   "source": [
    "X_train, X_test, y_train, y_test = train_test_split(X, y, test_size = 0.001)"
   ]
  },
  {
   "cell_type": "code",
   "execution_count": 75,
   "id": "e8c704a3",
   "metadata": {},
   "outputs": [],
   "source": [
    "def plot_learning_curve(train_scores, test_scores, train_sizes, fig_name, title, xlabel, ylabel):\n",
    "    train_mean = 1 - np.mean(train_scores, axis=1)\n",
    "\n",
    "    test_mean = 1 - np.mean(test_scores, axis = 1)\n",
    "\n",
    "    plt.plot(train_sizes, train_mean, '--',  label=\"Training score\")\n",
    "    plt.plot(train_sizes, test_mean, label=\"Cross-validation score\")\n",
    "\n",
    "    plt.title(title)\n",
    "    plt.xlabel(xlabel) \n",
    "    plt.ylabel(ylabel) \n",
    "    plt.legend(loc=\"best\")\n",
    "    plt.savefig(fig_name, bbox_inches='tight')"
   ]
  },
  {
   "cell_type": "code",
   "execution_count": null,
   "id": "b7dfc9f6",
   "metadata": {
    "scrolled": false
   },
   "outputs": [],
   "source": [
    "train_sizes, train_scores, test_scores = learning_curve \\\n",
    "(GradientBoostingClassifier(), \\\n",
    " X_train, y_train, cv = 5, train_sizes=np.linspace(0.01, 1.0, 30))"
   ]
  },
  {
   "cell_type": "markdown",
   "id": "f60ddeb4",
   "metadata": {},
   "source": [
    "As shown below, there is a big gap between training and validation errors, suggesting a high variance problem. One way to solve this issue is to add more training data to the dataset. It makes sense because we have 100 input features and only 1903 attributes. Adding more data would reduce the gap between training and validation errors."
   ]
  },
  {
   "cell_type": "code",
   "execution_count": 78,
   "id": "ac65f85b",
   "metadata": {
    "scrolled": true
   },
   "outputs": [
    {
     "data": {
      "image/png": "[encoded data removed]",
      "text/plain": [
       "<Figure size 720x360 with 1 Axes>"
      ]
     },
     "metadata": {
      "needs_background": "light"
     },
     "output_type": "display_data"
    }
   ],
   "source": [
    "plt.figure(figsize=(10,5))\n",
    "plot_learning_curve(train_scores,test_scores,train_sizes,\"Random_Forest_Curve.png\",\n",
    "           \"Learning Curve for Random Forest (Factorization)\",\"Training Set Size\",\"Error = 1 - Accuracy\")"
   ]
  },
  {
   "cell_type": "markdown",
   "id": "34e517cf",
   "metadata": {},
   "source": [
    "### This is the end of Model 1"
   ]
  }
 ],
 "metadata": {
  "kernelspec": {
   "display_name": "Python 3",
   "language": "python",
   "name": "python3"
  },
  "language_info": {
   "codemirror_mode": {
    "name": "ipython",
    "version": 3
   },
   "file_extension": ".py",
   "mimetype": "text/x-python",
   "name": "python",
   "nbconvert_exporter": "python",
   "pygments_lexer": "ipython3",
   "version": "3.8.8"
  }
 },
 "nbformat": 4,
 "nbformat_minor": 5
}
