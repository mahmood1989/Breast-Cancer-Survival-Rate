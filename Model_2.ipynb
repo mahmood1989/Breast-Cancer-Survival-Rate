{
 "cells": [
  {
   "cell_type": "markdown",
   "id": "c5229d03",
   "metadata": {},
   "source": [
    "- GitHub: https://github.com/mahmood1989?tab=repositories\n",
    "- Email: mahmoodr@ualberta.ca"
   ]
  },
  {
   "cell_type": "markdown",
   "id": "bab9661e",
   "metadata": {},
   "source": [
    "# Breast Cancer Gene Expression Profiles\n",
    "# Model 2 - General Features without Gen Expression Data\n",
    "In this notebook, I just used the general data as input features of the model (Columns B to AD)."
   ]
  },
  {
   "cell_type": "markdown",
   "id": "c86c2e21",
   "metadata": {},
   "source": [
    "## Import Python libraries"
   ]
  },
  {
   "cell_type": "code",
   "execution_count": 1,
   "id": "009ff277",
   "metadata": {},
   "outputs": [],
   "source": [
    "import pandas as pd\n",
    "import numpy as np\n",
    "\n",
    "import tensorflow as tf\n",
    "from tensorflow import keras\n",
    "from tensorflow.keras import layers, regularizers\n",
    "from tensorflow.keras.models import Sequential\n",
    "\n",
    "from sklearn.model_selection import train_test_split\n",
    "from sklearn.model_selection import GridSearchCV\n",
    "from sklearn.feature_selection import SelectKBest\n",
    "from sklearn.feature_selection import chi2\n",
    "from sklearn.ensemble import ExtraTreesClassifier\n",
    "from sklearn.metrics import confusion_matrix, classification_report\n",
    "from sklearn.ensemble import RandomForestClassifier\n",
    "from sklearn.model_selection import learning_curve\n",
    "from sklearn.preprocessing import MinMaxScaler\n",
    "from sklearn.model_selection import cross_val_score\n",
    "from sklearn.model_selection import RandomizedSearchCV\n",
    "from sklearn.ensemble import GradientBoostingClassifier\n",
    "\n",
    "\n",
    "import matplotlib.pyplot as plt\n",
    "%matplotlib inline\n",
    "import PIL.Image as Image\n",
    "\n",
    "import seaborn as sn"
   ]
  },
  {
   "cell_type": "markdown",
   "id": "d00cf422",
   "metadata": {},
   "source": [
    "## General structure of training spreadsheet"
   ]
  },
  {
   "cell_type": "markdown",
   "id": "da47eccd",
   "metadata": {},
   "source": [
    "The source of this dataset can be downloaded through Kaggle:"
   ]
  },
  {
   "cell_type": "markdown",
   "id": "8d336571",
   "metadata": {},
   "source": [
    "https://www.kaggle.com/datasets/raghadalharbi/breast-cancer-gene-expression-profiles-metabric"
   ]
  },
  {
   "cell_type": "code",
   "execution_count": 2,
   "id": "0922c98d",
   "metadata": {},
   "outputs": [
    {
     "data": {
      "text/html": [
       "<div>\n",
       "<style scoped>\n",
       "    .dataframe tbody tr th:only-of-type {\n",
       "        vertical-align: middle;\n",
       "    }\n",
       "\n",
       "    .dataframe tbody tr th {\n",
       "        vertical-align: top;\n",
       "    }\n",
       "\n",
       "    .dataframe thead th {\n",
       "        text-align: right;\n",
       "    }\n",
       "</style>\n",
       "<table border=\"1\" class=\"dataframe\">\n",
       "  <thead>\n",
       "    <tr style=\"text-align: right;\">\n",
       "      <th></th>\n",
       "      <th>age_at_diagnosis</th>\n",
       "      <th>type_of_breast_surgery</th>\n",
       "      <th>cancer_type_detailed</th>\n",
       "      <th>cellularity</th>\n",
       "      <th>chemotherapy</th>\n",
       "      <th>pam50_+_claudin-low_subtype</th>\n",
       "      <th>er_status_measured_by_ihc</th>\n",
       "      <th>neoplasm_histologic_grade</th>\n",
       "      <th>her2_status</th>\n",
       "      <th>tumor_other_histologic_subtype</th>\n",
       "      <th>...</th>\n",
       "      <th>integrative_cluster</th>\n",
       "      <th>lymph_nodes_examined_positive</th>\n",
       "      <th>mutation_count</th>\n",
       "      <th>nottingham_prognostic_index</th>\n",
       "      <th>oncotree_code</th>\n",
       "      <th>pr_status</th>\n",
       "      <th>radio_therapy</th>\n",
       "      <th>3-gene_classifier_subtype</th>\n",
       "      <th>tumor_size</th>\n",
       "      <th>death_from_cancer</th>\n",
       "    </tr>\n",
       "  </thead>\n",
       "  <tbody>\n",
       "    <tr>\n",
       "      <th>0</th>\n",
       "      <td>75.65</td>\n",
       "      <td>MASTECTOMY</td>\n",
       "      <td>Breast Invasive Ductal Carcinoma</td>\n",
       "      <td>NaN</td>\n",
       "      <td>0</td>\n",
       "      <td>claudin-low</td>\n",
       "      <td>Positve</td>\n",
       "      <td>3.0</td>\n",
       "      <td>Negative</td>\n",
       "      <td>Ductal/NST</td>\n",
       "      <td>...</td>\n",
       "      <td>4ER+</td>\n",
       "      <td>10</td>\n",
       "      <td>NaN</td>\n",
       "      <td>6.044</td>\n",
       "      <td>IDC</td>\n",
       "      <td>Negative</td>\n",
       "      <td>1</td>\n",
       "      <td>ER-/HER2-</td>\n",
       "      <td>22.0</td>\n",
       "      <td>Living</td>\n",
       "    </tr>\n",
       "    <tr>\n",
       "      <th>1</th>\n",
       "      <td>43.19</td>\n",
       "      <td>BREAST CONSERVING</td>\n",
       "      <td>Breast Invasive Ductal Carcinoma</td>\n",
       "      <td>High</td>\n",
       "      <td>0</td>\n",
       "      <td>LumA</td>\n",
       "      <td>Positve</td>\n",
       "      <td>3.0</td>\n",
       "      <td>Negative</td>\n",
       "      <td>Ductal/NST</td>\n",
       "      <td>...</td>\n",
       "      <td>4ER+</td>\n",
       "      <td>0</td>\n",
       "      <td>2.0</td>\n",
       "      <td>4.020</td>\n",
       "      <td>IDC</td>\n",
       "      <td>Positive</td>\n",
       "      <td>1</td>\n",
       "      <td>ER+/HER2- High Prolif</td>\n",
       "      <td>10.0</td>\n",
       "      <td>Living</td>\n",
       "    </tr>\n",
       "    <tr>\n",
       "      <th>2</th>\n",
       "      <td>48.87</td>\n",
       "      <td>MASTECTOMY</td>\n",
       "      <td>Breast Invasive Ductal Carcinoma</td>\n",
       "      <td>High</td>\n",
       "      <td>1</td>\n",
       "      <td>LumB</td>\n",
       "      <td>Positve</td>\n",
       "      <td>2.0</td>\n",
       "      <td>Negative</td>\n",
       "      <td>Ductal/NST</td>\n",
       "      <td>...</td>\n",
       "      <td>3</td>\n",
       "      <td>1</td>\n",
       "      <td>2.0</td>\n",
       "      <td>4.030</td>\n",
       "      <td>IDC</td>\n",
       "      <td>Positive</td>\n",
       "      <td>0</td>\n",
       "      <td>NaN</td>\n",
       "      <td>15.0</td>\n",
       "      <td>Died of Disease</td>\n",
       "    </tr>\n",
       "    <tr>\n",
       "      <th>3</th>\n",
       "      <td>47.68</td>\n",
       "      <td>MASTECTOMY</td>\n",
       "      <td>Breast Mixed Ductal and Lobular Carcinoma</td>\n",
       "      <td>Moderate</td>\n",
       "      <td>1</td>\n",
       "      <td>LumB</td>\n",
       "      <td>Positve</td>\n",
       "      <td>2.0</td>\n",
       "      <td>Negative</td>\n",
       "      <td>Mixed</td>\n",
       "      <td>...</td>\n",
       "      <td>9</td>\n",
       "      <td>3</td>\n",
       "      <td>1.0</td>\n",
       "      <td>4.050</td>\n",
       "      <td>MDLC</td>\n",
       "      <td>Positive</td>\n",
       "      <td>1</td>\n",
       "      <td>NaN</td>\n",
       "      <td>25.0</td>\n",
       "      <td>Living</td>\n",
       "    </tr>\n",
       "    <tr>\n",
       "      <th>4</th>\n",
       "      <td>76.97</td>\n",
       "      <td>MASTECTOMY</td>\n",
       "      <td>Breast Mixed Ductal and Lobular Carcinoma</td>\n",
       "      <td>High</td>\n",
       "      <td>1</td>\n",
       "      <td>LumB</td>\n",
       "      <td>Positve</td>\n",
       "      <td>3.0</td>\n",
       "      <td>Negative</td>\n",
       "      <td>Mixed</td>\n",
       "      <td>...</td>\n",
       "      <td>9</td>\n",
       "      <td>8</td>\n",
       "      <td>2.0</td>\n",
       "      <td>6.080</td>\n",
       "      <td>MDLC</td>\n",
       "      <td>Positive</td>\n",
       "      <td>1</td>\n",
       "      <td>ER+/HER2- High Prolif</td>\n",
       "      <td>40.0</td>\n",
       "      <td>Died of Disease</td>\n",
       "    </tr>\n",
       "    <tr>\n",
       "      <th>5</th>\n",
       "      <td>78.77</td>\n",
       "      <td>MASTECTOMY</td>\n",
       "      <td>Breast Invasive Ductal Carcinoma</td>\n",
       "      <td>Moderate</td>\n",
       "      <td>0</td>\n",
       "      <td>LumB</td>\n",
       "      <td>Positve</td>\n",
       "      <td>3.0</td>\n",
       "      <td>Negative</td>\n",
       "      <td>Ductal/NST</td>\n",
       "      <td>...</td>\n",
       "      <td>7</td>\n",
       "      <td>0</td>\n",
       "      <td>4.0</td>\n",
       "      <td>4.062</td>\n",
       "      <td>IDC</td>\n",
       "      <td>Positive</td>\n",
       "      <td>1</td>\n",
       "      <td>ER+/HER2- High Prolif</td>\n",
       "      <td>31.0</td>\n",
       "      <td>Died of Disease</td>\n",
       "    </tr>\n",
       "    <tr>\n",
       "      <th>6</th>\n",
       "      <td>56.45</td>\n",
       "      <td>BREAST CONSERVING</td>\n",
       "      <td>Breast Invasive Ductal Carcinoma</td>\n",
       "      <td>Moderate</td>\n",
       "      <td>1</td>\n",
       "      <td>LumB</td>\n",
       "      <td>Positve</td>\n",
       "      <td>2.0</td>\n",
       "      <td>Negative</td>\n",
       "      <td>Ductal/NST</td>\n",
       "      <td>...</td>\n",
       "      <td>3</td>\n",
       "      <td>1</td>\n",
       "      <td>4.0</td>\n",
       "      <td>4.020</td>\n",
       "      <td>IDC</td>\n",
       "      <td>Positive</td>\n",
       "      <td>1</td>\n",
       "      <td>NaN</td>\n",
       "      <td>10.0</td>\n",
       "      <td>Living</td>\n",
       "    </tr>\n",
       "    <tr>\n",
       "      <th>7</th>\n",
       "      <td>89.08</td>\n",
       "      <td>BREAST CONSERVING</td>\n",
       "      <td>Breast Mixed Ductal and Lobular Carcinoma</td>\n",
       "      <td>Moderate</td>\n",
       "      <td>0</td>\n",
       "      <td>claudin-low</td>\n",
       "      <td>Positve</td>\n",
       "      <td>2.0</td>\n",
       "      <td>Negative</td>\n",
       "      <td>Mixed</td>\n",
       "      <td>...</td>\n",
       "      <td>3</td>\n",
       "      <td>1</td>\n",
       "      <td>1.0</td>\n",
       "      <td>4.058</td>\n",
       "      <td>MDLC</td>\n",
       "      <td>Negative</td>\n",
       "      <td>1</td>\n",
       "      <td>NaN</td>\n",
       "      <td>29.0</td>\n",
       "      <td>Died of Other Causes</td>\n",
       "    </tr>\n",
       "    <tr>\n",
       "      <th>8</th>\n",
       "      <td>86.41</td>\n",
       "      <td>BREAST CONSERVING</td>\n",
       "      <td>Breast Invasive Ductal Carcinoma</td>\n",
       "      <td>Moderate</td>\n",
       "      <td>0</td>\n",
       "      <td>LumB</td>\n",
       "      <td>Positve</td>\n",
       "      <td>3.0</td>\n",
       "      <td>Negative</td>\n",
       "      <td>Ductal/NST</td>\n",
       "      <td>...</td>\n",
       "      <td>9</td>\n",
       "      <td>1</td>\n",
       "      <td>4.0</td>\n",
       "      <td>5.032</td>\n",
       "      <td>IDC</td>\n",
       "      <td>Negative</td>\n",
       "      <td>1</td>\n",
       "      <td>ER+/HER2- High Prolif</td>\n",
       "      <td>16.0</td>\n",
       "      <td>Died of Other Causes</td>\n",
       "    </tr>\n",
       "    <tr>\n",
       "      <th>9</th>\n",
       "      <td>84.22</td>\n",
       "      <td>MASTECTOMY</td>\n",
       "      <td>Breast Invasive Lobular Carcinoma</td>\n",
       "      <td>High</td>\n",
       "      <td>0</td>\n",
       "      <td>Her2</td>\n",
       "      <td>Negative</td>\n",
       "      <td>2.0</td>\n",
       "      <td>Negative</td>\n",
       "      <td>Lobular</td>\n",
       "      <td>...</td>\n",
       "      <td>3</td>\n",
       "      <td>0</td>\n",
       "      <td>5.0</td>\n",
       "      <td>3.056</td>\n",
       "      <td>ILC</td>\n",
       "      <td>Negative</td>\n",
       "      <td>0</td>\n",
       "      <td>ER+/HER2- High Prolif</td>\n",
       "      <td>28.0</td>\n",
       "      <td>Died of Disease</td>\n",
       "    </tr>\n",
       "  </tbody>\n",
       "</table>\n",
       "<p>10 rows × 22 columns</p>\n",
       "</div>"
      ],
      "text/plain": [
       "   age_at_diagnosis type_of_breast_surgery  \\\n",
       "0             75.65             MASTECTOMY   \n",
       "1             43.19      BREAST CONSERVING   \n",
       "2             48.87             MASTECTOMY   \n",
       "3             47.68             MASTECTOMY   \n",
       "4             76.97             MASTECTOMY   \n",
       "5             78.77             MASTECTOMY   \n",
       "6             56.45      BREAST CONSERVING   \n",
       "7             89.08      BREAST CONSERVING   \n",
       "8             86.41      BREAST CONSERVING   \n",
       "9             84.22             MASTECTOMY   \n",
       "\n",
       "                        cancer_type_detailed cellularity  chemotherapy  \\\n",
       "0           Breast Invasive Ductal Carcinoma         NaN             0   \n",
       "1           Breast Invasive Ductal Carcinoma        High             0   \n",
       "2           Breast Invasive Ductal Carcinoma        High             1   \n",
       "3  Breast Mixed Ductal and Lobular Carcinoma    Moderate             1   \n",
       "4  Breast Mixed Ductal and Lobular Carcinoma        High             1   \n",
       "5           Breast Invasive Ductal Carcinoma    Moderate             0   \n",
       "6           Breast Invasive Ductal Carcinoma    Moderate             1   \n",
       "7  Breast Mixed Ductal and Lobular Carcinoma    Moderate             0   \n",
       "8           Breast Invasive Ductal Carcinoma    Moderate             0   \n",
       "9          Breast Invasive Lobular Carcinoma        High             0   \n",
       "\n",
       "  pam50_+_claudin-low_subtype er_status_measured_by_ihc  \\\n",
       "0                 claudin-low                   Positve   \n",
       "1                        LumA                   Positve   \n",
       "2                        LumB                   Positve   \n",
       "3                        LumB                   Positve   \n",
       "4                        LumB                   Positve   \n",
       "5                        LumB                   Positve   \n",
       "6                        LumB                   Positve   \n",
       "7                 claudin-low                   Positve   \n",
       "8                        LumB                   Positve   \n",
       "9                        Her2                  Negative   \n",
       "\n",
       "   neoplasm_histologic_grade her2_status tumor_other_histologic_subtype  ...  \\\n",
       "0                        3.0    Negative                     Ductal/NST  ...   \n",
       "1                        3.0    Negative                     Ductal/NST  ...   \n",
       "2                        2.0    Negative                     Ductal/NST  ...   \n",
       "3                        2.0    Negative                          Mixed  ...   \n",
       "4                        3.0    Negative                          Mixed  ...   \n",
       "5                        3.0    Negative                     Ductal/NST  ...   \n",
       "6                        2.0    Negative                     Ductal/NST  ...   \n",
       "7                        2.0    Negative                          Mixed  ...   \n",
       "8                        3.0    Negative                     Ductal/NST  ...   \n",
       "9                        2.0    Negative                        Lobular  ...   \n",
       "\n",
       "   integrative_cluster lymph_nodes_examined_positive mutation_count  \\\n",
       "0                 4ER+                            10            NaN   \n",
       "1                 4ER+                             0            2.0   \n",
       "2                    3                             1            2.0   \n",
       "3                    9                             3            1.0   \n",
       "4                    9                             8            2.0   \n",
       "5                    7                             0            4.0   \n",
       "6                    3                             1            4.0   \n",
       "7                    3                             1            1.0   \n",
       "8                    9                             1            4.0   \n",
       "9                    3                             0            5.0   \n",
       "\n",
       "   nottingham_prognostic_index  oncotree_code  pr_status radio_therapy  \\\n",
       "0                        6.044            IDC   Negative             1   \n",
       "1                        4.020            IDC   Positive             1   \n",
       "2                        4.030            IDC   Positive             0   \n",
       "3                        4.050           MDLC   Positive             1   \n",
       "4                        6.080           MDLC   Positive             1   \n",
       "5                        4.062            IDC   Positive             1   \n",
       "6                        4.020            IDC   Positive             1   \n",
       "7                        4.058           MDLC   Negative             1   \n",
       "8                        5.032            IDC   Negative             1   \n",
       "9                        3.056            ILC   Negative             0   \n",
       "\n",
       "  3-gene_classifier_subtype  tumor_size     death_from_cancer  \n",
       "0                 ER-/HER2-        22.0                Living  \n",
       "1     ER+/HER2- High Prolif        10.0                Living  \n",
       "2                       NaN        15.0       Died of Disease  \n",
       "3                       NaN        25.0                Living  \n",
       "4     ER+/HER2- High Prolif        40.0       Died of Disease  \n",
       "5     ER+/HER2- High Prolif        31.0       Died of Disease  \n",
       "6                       NaN        10.0                Living  \n",
       "7                       NaN        29.0  Died of Other Causes  \n",
       "8     ER+/HER2- High Prolif        16.0  Died of Other Causes  \n",
       "9     ER+/HER2- High Prolif        28.0       Died of Disease  \n",
       "\n",
       "[10 rows x 22 columns]"
      ]
     },
     "execution_count": 2,
     "metadata": {},
     "output_type": "execute_result"
    }
   ],
   "source": [
    "df_raw = pd.read_excel('Model_2.xlsx')\n",
    "df_raw.head(10)"
   ]
  },
  {
   "cell_type": "markdown",
   "id": "7d5ecdc0",
   "metadata": {},
   "source": [
    "There are 1904 attributes from 21 different fearures. 1 feature (death_from_cancer) is the output feature."
   ]
  },
  {
   "cell_type": "code",
   "execution_count": 3,
   "id": "531d571e",
   "metadata": {},
   "outputs": [
    {
     "data": {
      "text/plain": [
       "(1904, 22)"
      ]
     },
     "execution_count": 3,
     "metadata": {},
     "output_type": "execute_result"
    }
   ],
   "source": [
    "df_raw.shape"
   ]
  },
  {
   "cell_type": "markdown",
   "id": "e7062ff1",
   "metadata": {},
   "source": [
    "There are many null cells and we need to delete them."
   ]
  },
  {
   "cell_type": "code",
   "execution_count": 4,
   "id": "9cf22457",
   "metadata": {},
   "outputs": [
    {
     "data": {
      "text/plain": [
       "age_at_diagnosis                    0\n",
       "type_of_breast_surgery             22\n",
       "cancer_type_detailed               15\n",
       "cellularity                        54\n",
       "chemotherapy                        0\n",
       "pam50_+_claudin-low_subtype         0\n",
       "er_status_measured_by_ihc          30\n",
       "neoplasm_histologic_grade          72\n",
       "her2_status                         0\n",
       "tumor_other_histologic_subtype     15\n",
       "hormone_therapy                     0\n",
       "inferred_menopausal_state           0\n",
       "integrative_cluster                 0\n",
       "lymph_nodes_examined_positive       0\n",
       "mutation_count                     45\n",
       "nottingham_prognostic_index         0\n",
       "oncotree_code                      15\n",
       "pr_status                           0\n",
       "radio_therapy                       0\n",
       "3-gene_classifier_subtype         204\n",
       "tumor_size                         20\n",
       "death_from_cancer                   1\n",
       "dtype: int64"
      ]
     },
     "execution_count": 4,
     "metadata": {},
     "output_type": "execute_result"
    }
   ],
   "source": [
    "df_raw.isna().sum()"
   ]
  },
  {
   "cell_type": "markdown",
   "id": "0103c27c",
   "metadata": {},
   "source": [
    "After deleting the null row, we will have 1498 attributes. "
   ]
  },
  {
   "cell_type": "code",
   "execution_count": 5,
   "id": "7160c33c",
   "metadata": {},
   "outputs": [],
   "source": [
    "df_raw.dropna(inplace = True)"
   ]
  },
  {
   "cell_type": "code",
   "execution_count": 6,
   "id": "58c8e80b",
   "metadata": {},
   "outputs": [
    {
     "data": {
      "text/plain": [
       "(1498, 22)"
      ]
     },
     "execution_count": 6,
     "metadata": {},
     "output_type": "execute_result"
    }
   ],
   "source": [
    "df_raw.shape"
   ]
  },
  {
   "cell_type": "markdown",
   "id": "6882d495",
   "metadata": {},
   "source": [
    "## Convert string variables to categorical classes"
   ]
  },
  {
   "cell_type": "code",
   "execution_count": 7,
   "id": "cc135683",
   "metadata": {},
   "outputs": [
    {
     "data": {
      "text/plain": [
       "age_at_diagnosis                  float64\n",
       "type_of_breast_surgery             object\n",
       "cancer_type_detailed               object\n",
       "cellularity                        object\n",
       "chemotherapy                        int64\n",
       "pam50_+_claudin-low_subtype        object\n",
       "er_status_measured_by_ihc          object\n",
       "neoplasm_histologic_grade         float64\n",
       "her2_status                        object\n",
       "tumor_other_histologic_subtype     object\n",
       "hormone_therapy                     int64\n",
       "inferred_menopausal_state          object\n",
       "integrative_cluster                object\n",
       "lymph_nodes_examined_positive       int64\n",
       "mutation_count                    float64\n",
       "nottingham_prognostic_index       float64\n",
       "oncotree_code                      object\n",
       "pr_status                          object\n",
       "radio_therapy                       int64\n",
       "3-gene_classifier_subtype          object\n",
       "tumor_size                        float64\n",
       "death_from_cancer                  object\n",
       "dtype: object"
      ]
     },
     "execution_count": 7,
     "metadata": {},
     "output_type": "execute_result"
    }
   ],
   "source": [
    "df_raw.dtypes"
   ]
  },
  {
   "cell_type": "code",
   "execution_count": 8,
   "id": "a104a0a3",
   "metadata": {},
   "outputs": [],
   "source": [
    "df = df_raw.copy(deep = True)"
   ]
  },
  {
   "cell_type": "markdown",
   "id": "23403ac4",
   "metadata": {},
   "source": [
    "### 1. Binary (tertiary) variables"
   ]
  },
  {
   "cell_type": "code",
   "execution_count": 9,
   "id": "f58303e5",
   "metadata": {},
   "outputs": [],
   "source": [
    "df['type_of_breast_surgery'].replace('BREAST CONSERVING', 1, inplace = True)\n",
    "df['type_of_breast_surgery'].replace('MASTECTOMY', 0, inplace = True)"
   ]
  },
  {
   "cell_type": "code",
   "execution_count": 10,
   "id": "51d183ea",
   "metadata": {},
   "outputs": [],
   "source": [
    "df['cellularity'].replace('High', 2, inplace = True)\n",
    "df['cellularity'].replace('Moderate', 1, inplace = True)\n",
    "df['cellularity'].replace('Low', 0, inplace = True)"
   ]
  },
  {
   "cell_type": "code",
   "execution_count": 11,
   "id": "49dd0120",
   "metadata": {},
   "outputs": [],
   "source": [
    "df['er_status_measured_by_ihc'].replace('Positve', 1, inplace = True)\n",
    "df['er_status_measured_by_ihc'].replace('Negative', 0, inplace = True)"
   ]
  },
  {
   "cell_type": "code",
   "execution_count": 12,
   "id": "179aa896",
   "metadata": {},
   "outputs": [],
   "source": [
    "df['her2_status'].replace('Positive', 1, inplace = True)\n",
    "df['her2_status'].replace('Negative', 0, inplace = True)"
   ]
  },
  {
   "cell_type": "code",
   "execution_count": 13,
   "id": "d2295638",
   "metadata": {},
   "outputs": [],
   "source": [
    "df['inferred_menopausal_state'].replace('Post', 1, inplace = True)\n",
    "df['inferred_menopausal_state'].replace('Pre', 0, inplace = True)"
   ]
  },
  {
   "cell_type": "code",
   "execution_count": 14,
   "id": "65615473",
   "metadata": {},
   "outputs": [],
   "source": [
    "df['pr_status'].replace('Positive', 1, inplace = True)\n",
    "df['pr_status'].replace('Negative', 0, inplace = True)"
   ]
  },
  {
   "cell_type": "markdown",
   "id": "dc67f42d",
   "metadata": {},
   "source": [
    "The output ('death_from_cancer') is the string type with three categories as:\n",
    "- Living (Class 0)\n",
    "- Died of Other Causes (Class 0)\n",
    "- Died of Disease (Class 1)\n",
    "If a patient dies because of cancer, we categorize it as Class 1, otherwise Class 0 is assigned."
   ]
  },
  {
   "cell_type": "code",
   "execution_count": 15,
   "id": "546f69a2",
   "metadata": {},
   "outputs": [],
   "source": [
    "df['death_from_cancer'].replace('Living', 0, inplace = True)\n",
    "df['death_from_cancer'].replace('Died of Other Causes', 0, inplace = True)\n",
    "df['death_from_cancer'].replace('Died of Disease', 1, inplace = True)"
   ]
  },
  {
   "cell_type": "markdown",
   "id": "de552549",
   "metadata": {},
   "source": [
    "Among 1498 cases in this dataset, 495 patients died from cancer (33% of total)."
   ]
  },
  {
   "cell_type": "code",
   "execution_count": 16,
   "id": "347434fb",
   "metadata": {},
   "outputs": [
    {
     "data": {
      "text/plain": [
       "495"
      ]
     },
     "execution_count": 16,
     "metadata": {},
     "output_type": "execute_result"
    }
   ],
   "source": [
    "(df.death_from_cancer == 1).sum()"
   ]
  },
  {
   "cell_type": "code",
   "execution_count": 17,
   "id": "d497f5d2",
   "metadata": {},
   "outputs": [
    {
     "data": {
      "text/plain": [
       "(1498, 22)"
      ]
     },
     "execution_count": 17,
     "metadata": {},
     "output_type": "execute_result"
    }
   ],
   "source": [
    "df.shape"
   ]
  },
  {
   "cell_type": "markdown",
   "id": "882d3056",
   "metadata": {},
   "source": [
    "### 2. One Hot Encodding "
   ]
  },
  {
   "cell_type": "markdown",
   "id": "448ce953",
   "metadata": {},
   "source": [
    "The following features are converted to dummy input variables."
   ]
  },
  {
   "cell_type": "code",
   "execution_count": 18,
   "id": "907b1e81",
   "metadata": {},
   "outputs": [],
   "source": [
    "df = pd.get_dummies(data = df, columns = ['cancer_type_detailed', 'pam50_+_claudin-low_subtype',\\\n",
    "'tumor_other_histologic_subtype', 'integrative_cluster', 'oncotree_code', '3-gene_classifier_subtype'])"
   ]
  },
  {
   "cell_type": "markdown",
   "id": "c4909ec7",
   "metadata": {},
   "source": [
    "Now we have 54 input features from 1498 attributes. 1 feature in the output data."
   ]
  },
  {
   "cell_type": "code",
   "execution_count": 19,
   "id": "1527b398",
   "metadata": {},
   "outputs": [
    {
     "data": {
      "text/plain": [
       "(1498, 55)"
      ]
     },
     "execution_count": 19,
     "metadata": {},
     "output_type": "execute_result"
    }
   ],
   "source": [
    "df.shape"
   ]
  },
  {
   "cell_type": "markdown",
   "id": "2971a994",
   "metadata": {},
   "source": [
    "## Normalization of input parameters"
   ]
  },
  {
   "cell_type": "markdown",
   "id": "a52e16a7",
   "metadata": {},
   "source": [
    "The following float features are normalzied to have a range from 0 to 1. "
   ]
  },
  {
   "cell_type": "code",
   "execution_count": 20,
   "id": "5f665ea3",
   "metadata": {},
   "outputs": [],
   "source": [
    "df_norm = pd.DataFrame()\n",
    "df_norm = df[['age_at_diagnosis', 'lymph_nodes_examined_positive', 'mutation_count', 'nottingham_prognostic_index', \\\n",
    "              'tumor_size']].copy()"
   ]
  },
  {
   "cell_type": "code",
   "execution_count": 21,
   "id": "a5ad39f8",
   "metadata": {},
   "outputs": [],
   "source": [
    "df_norm = df_norm.apply(lambda x: (x - x.min(axis = 0)) / ((x.max(axis = 0)) - (x.min(axis = 0))))"
   ]
  },
  {
   "cell_type": "code",
   "execution_count": 22,
   "id": "4058fab0",
   "metadata": {},
   "outputs": [],
   "source": [
    "df[['age_at_diagnosis', 'lymph_nodes_examined_positive', 'mutation_count', 'nottingham_prognostic_index', \\\n",
    "              'tumor_size']] = df_norm[['age_at_diagnosis', 'lymph_nodes_examined_positive', 'mutation_count', \\\n",
    "                                   'nottingham_prognostic_index', \\\n",
    "              'tumor_size']]"
   ]
  },
  {
   "cell_type": "markdown",
   "id": "235067be",
   "metadata": {},
   "source": [
    "As listed below, all features are converted to numbers and normalized if needed."
   ]
  },
  {
   "cell_type": "code",
   "execution_count": 23,
   "id": "ed94a2ca",
   "metadata": {},
   "outputs": [
    {
     "data": {
      "text/html": [
       "<div>\n",
       "<style scoped>\n",
       "    .dataframe tbody tr th:only-of-type {\n",
       "        vertical-align: middle;\n",
       "    }\n",
       "\n",
       "    .dataframe tbody tr th {\n",
       "        vertical-align: top;\n",
       "    }\n",
       "\n",
       "    .dataframe thead th {\n",
       "        text-align: right;\n",
       "    }\n",
       "</style>\n",
       "<table border=\"1\" class=\"dataframe\">\n",
       "  <thead>\n",
       "    <tr style=\"text-align: right;\">\n",
       "      <th></th>\n",
       "      <th>age_at_diagnosis</th>\n",
       "      <th>type_of_breast_surgery</th>\n",
       "      <th>cellularity</th>\n",
       "      <th>chemotherapy</th>\n",
       "      <th>er_status_measured_by_ihc</th>\n",
       "      <th>neoplasm_histologic_grade</th>\n",
       "      <th>her2_status</th>\n",
       "      <th>hormone_therapy</th>\n",
       "      <th>inferred_menopausal_state</th>\n",
       "      <th>lymph_nodes_examined_positive</th>\n",
       "      <th>...</th>\n",
       "      <th>integrative_cluster_4ER-</th>\n",
       "      <th>oncotree_code_BREAST</th>\n",
       "      <th>oncotree_code_IDC</th>\n",
       "      <th>oncotree_code_ILC</th>\n",
       "      <th>oncotree_code_IMMC</th>\n",
       "      <th>oncotree_code_MDLC</th>\n",
       "      <th>3-gene_classifier_subtype_ER+/HER2- High Prolif</th>\n",
       "      <th>3-gene_classifier_subtype_ER+/HER2- Low Prolif</th>\n",
       "      <th>3-gene_classifier_subtype_ER-/HER2-</th>\n",
       "      <th>3-gene_classifier_subtype_HER2+</th>\n",
       "    </tr>\n",
       "  </thead>\n",
       "  <tbody>\n",
       "    <tr>\n",
       "      <th>1</th>\n",
       "      <td>0.285906</td>\n",
       "      <td>1</td>\n",
       "      <td>2</td>\n",
       "      <td>0</td>\n",
       "      <td>1</td>\n",
       "      <td>3.0</td>\n",
       "      <td>0</td>\n",
       "      <td>1</td>\n",
       "      <td>0</td>\n",
       "      <td>0.000000</td>\n",
       "      <td>...</td>\n",
       "      <td>0</td>\n",
       "      <td>0</td>\n",
       "      <td>1</td>\n",
       "      <td>0</td>\n",
       "      <td>0</td>\n",
       "      <td>0</td>\n",
       "      <td>1</td>\n",
       "      <td>0</td>\n",
       "      <td>0</td>\n",
       "      <td>0</td>\n",
       "    </tr>\n",
       "    <tr>\n",
       "      <th>4</th>\n",
       "      <td>0.740183</td>\n",
       "      <td>0</td>\n",
       "      <td>2</td>\n",
       "      <td>1</td>\n",
       "      <td>1</td>\n",
       "      <td>3.0</td>\n",
       "      <td>0</td>\n",
       "      <td>1</td>\n",
       "      <td>1</td>\n",
       "      <td>0.195122</td>\n",
       "      <td>...</td>\n",
       "      <td>0</td>\n",
       "      <td>0</td>\n",
       "      <td>0</td>\n",
       "      <td>0</td>\n",
       "      <td>0</td>\n",
       "      <td>1</td>\n",
       "      <td>1</td>\n",
       "      <td>0</td>\n",
       "      <td>0</td>\n",
       "      <td>0</td>\n",
       "    </tr>\n",
       "    <tr>\n",
       "      <th>5</th>\n",
       "      <td>0.764389</td>\n",
       "      <td>0</td>\n",
       "      <td>1</td>\n",
       "      <td>0</td>\n",
       "      <td>1</td>\n",
       "      <td>3.0</td>\n",
       "      <td>0</td>\n",
       "      <td>1</td>\n",
       "      <td>1</td>\n",
       "      <td>0.000000</td>\n",
       "      <td>...</td>\n",
       "      <td>0</td>\n",
       "      <td>0</td>\n",
       "      <td>1</td>\n",
       "      <td>0</td>\n",
       "      <td>0</td>\n",
       "      <td>0</td>\n",
       "      <td>1</td>\n",
       "      <td>0</td>\n",
       "      <td>0</td>\n",
       "      <td>0</td>\n",
       "    </tr>\n",
       "    <tr>\n",
       "      <th>8</th>\n",
       "      <td>0.867133</td>\n",
       "      <td>1</td>\n",
       "      <td>1</td>\n",
       "      <td>0</td>\n",
       "      <td>1</td>\n",
       "      <td>3.0</td>\n",
       "      <td>0</td>\n",
       "      <td>1</td>\n",
       "      <td>1</td>\n",
       "      <td>0.024390</td>\n",
       "      <td>...</td>\n",
       "      <td>0</td>\n",
       "      <td>0</td>\n",
       "      <td>1</td>\n",
       "      <td>0</td>\n",
       "      <td>0</td>\n",
       "      <td>0</td>\n",
       "      <td>1</td>\n",
       "      <td>0</td>\n",
       "      <td>0</td>\n",
       "      <td>0</td>\n",
       "    </tr>\n",
       "    <tr>\n",
       "      <th>9</th>\n",
       "      <td>0.837682</td>\n",
       "      <td>0</td>\n",
       "      <td>2</td>\n",
       "      <td>0</td>\n",
       "      <td>0</td>\n",
       "      <td>2.0</td>\n",
       "      <td>0</td>\n",
       "      <td>0</td>\n",
       "      <td>1</td>\n",
       "      <td>0.000000</td>\n",
       "      <td>...</td>\n",
       "      <td>0</td>\n",
       "      <td>0</td>\n",
       "      <td>0</td>\n",
       "      <td>1</td>\n",
       "      <td>0</td>\n",
       "      <td>0</td>\n",
       "      <td>1</td>\n",
       "      <td>0</td>\n",
       "      <td>0</td>\n",
       "      <td>0</td>\n",
       "    </tr>\n",
       "    <tr>\n",
       "      <th>10</th>\n",
       "      <td>0.854761</td>\n",
       "      <td>0</td>\n",
       "      <td>1</td>\n",
       "      <td>0</td>\n",
       "      <td>1</td>\n",
       "      <td>2.0</td>\n",
       "      <td>0</td>\n",
       "      <td>1</td>\n",
       "      <td>1</td>\n",
       "      <td>0.000000</td>\n",
       "      <td>...</td>\n",
       "      <td>0</td>\n",
       "      <td>0</td>\n",
       "      <td>1</td>\n",
       "      <td>0</td>\n",
       "      <td>0</td>\n",
       "      <td>0</td>\n",
       "      <td>0</td>\n",
       "      <td>1</td>\n",
       "      <td>0</td>\n",
       "      <td>0</td>\n",
       "    </tr>\n",
       "    <tr>\n",
       "      <th>19</th>\n",
       "      <td>0.316030</td>\n",
       "      <td>1</td>\n",
       "      <td>2</td>\n",
       "      <td>1</td>\n",
       "      <td>1</td>\n",
       "      <td>3.0</td>\n",
       "      <td>0</td>\n",
       "      <td>1</td>\n",
       "      <td>0</td>\n",
       "      <td>0.000000</td>\n",
       "      <td>...</td>\n",
       "      <td>0</td>\n",
       "      <td>0</td>\n",
       "      <td>1</td>\n",
       "      <td>0</td>\n",
       "      <td>0</td>\n",
       "      <td>0</td>\n",
       "      <td>1</td>\n",
       "      <td>0</td>\n",
       "      <td>0</td>\n",
       "      <td>0</td>\n",
       "    </tr>\n",
       "    <tr>\n",
       "      <th>22</th>\n",
       "      <td>0.532006</td>\n",
       "      <td>1</td>\n",
       "      <td>2</td>\n",
       "      <td>0</td>\n",
       "      <td>1</td>\n",
       "      <td>2.0</td>\n",
       "      <td>0</td>\n",
       "      <td>1</td>\n",
       "      <td>1</td>\n",
       "      <td>0.024390</td>\n",
       "      <td>...</td>\n",
       "      <td>0</td>\n",
       "      <td>0</td>\n",
       "      <td>1</td>\n",
       "      <td>0</td>\n",
       "      <td>0</td>\n",
       "      <td>0</td>\n",
       "      <td>1</td>\n",
       "      <td>0</td>\n",
       "      <td>0</td>\n",
       "      <td>0</td>\n",
       "    </tr>\n",
       "    <tr>\n",
       "      <th>30</th>\n",
       "      <td>0.628698</td>\n",
       "      <td>0</td>\n",
       "      <td>0</td>\n",
       "      <td>1</td>\n",
       "      <td>0</td>\n",
       "      <td>3.0</td>\n",
       "      <td>0</td>\n",
       "      <td>0</td>\n",
       "      <td>1</td>\n",
       "      <td>0.000000</td>\n",
       "      <td>...</td>\n",
       "      <td>0</td>\n",
       "      <td>0</td>\n",
       "      <td>1</td>\n",
       "      <td>0</td>\n",
       "      <td>0</td>\n",
       "      <td>0</td>\n",
       "      <td>0</td>\n",
       "      <td>0</td>\n",
       "      <td>1</td>\n",
       "      <td>0</td>\n",
       "    </tr>\n",
       "    <tr>\n",
       "      <th>31</th>\n",
       "      <td>0.335664</td>\n",
       "      <td>0</td>\n",
       "      <td>1</td>\n",
       "      <td>0</td>\n",
       "      <td>1</td>\n",
       "      <td>2.0</td>\n",
       "      <td>0</td>\n",
       "      <td>1</td>\n",
       "      <td>0</td>\n",
       "      <td>0.000000</td>\n",
       "      <td>...</td>\n",
       "      <td>0</td>\n",
       "      <td>0</td>\n",
       "      <td>0</td>\n",
       "      <td>1</td>\n",
       "      <td>0</td>\n",
       "      <td>0</td>\n",
       "      <td>0</td>\n",
       "      <td>1</td>\n",
       "      <td>0</td>\n",
       "      <td>0</td>\n",
       "    </tr>\n",
       "  </tbody>\n",
       "</table>\n",
       "<p>10 rows × 55 columns</p>\n",
       "</div>"
      ],
      "text/plain": [
       "    age_at_diagnosis  type_of_breast_surgery  cellularity  chemotherapy  \\\n",
       "1           0.285906                       1            2             0   \n",
       "4           0.740183                       0            2             1   \n",
       "5           0.764389                       0            1             0   \n",
       "8           0.867133                       1            1             0   \n",
       "9           0.837682                       0            2             0   \n",
       "10          0.854761                       0            1             0   \n",
       "19          0.316030                       1            2             1   \n",
       "22          0.532006                       1            2             0   \n",
       "30          0.628698                       0            0             1   \n",
       "31          0.335664                       0            1             0   \n",
       "\n",
       "    er_status_measured_by_ihc  neoplasm_histologic_grade  her2_status  \\\n",
       "1                           1                        3.0            0   \n",
       "4                           1                        3.0            0   \n",
       "5                           1                        3.0            0   \n",
       "8                           1                        3.0            0   \n",
       "9                           0                        2.0            0   \n",
       "10                          1                        2.0            0   \n",
       "19                          1                        3.0            0   \n",
       "22                          1                        2.0            0   \n",
       "30                          0                        3.0            0   \n",
       "31                          1                        2.0            0   \n",
       "\n",
       "    hormone_therapy  inferred_menopausal_state  lymph_nodes_examined_positive  \\\n",
       "1                 1                          0                       0.000000   \n",
       "4                 1                          1                       0.195122   \n",
       "5                 1                          1                       0.000000   \n",
       "8                 1                          1                       0.024390   \n",
       "9                 0                          1                       0.000000   \n",
       "10                1                          1                       0.000000   \n",
       "19                1                          0                       0.000000   \n",
       "22                1                          1                       0.024390   \n",
       "30                0                          1                       0.000000   \n",
       "31                1                          0                       0.000000   \n",
       "\n",
       "    ...  integrative_cluster_4ER-  oncotree_code_BREAST  oncotree_code_IDC  \\\n",
       "1   ...                         0                     0                  1   \n",
       "4   ...                         0                     0                  0   \n",
       "5   ...                         0                     0                  1   \n",
       "8   ...                         0                     0                  1   \n",
       "9   ...                         0                     0                  0   \n",
       "10  ...                         0                     0                  1   \n",
       "19  ...                         0                     0                  1   \n",
       "22  ...                         0                     0                  1   \n",
       "30  ...                         0                     0                  1   \n",
       "31  ...                         0                     0                  0   \n",
       "\n",
       "    oncotree_code_ILC  oncotree_code_IMMC  oncotree_code_MDLC  \\\n",
       "1                   0                   0                   0   \n",
       "4                   0                   0                   1   \n",
       "5                   0                   0                   0   \n",
       "8                   0                   0                   0   \n",
       "9                   1                   0                   0   \n",
       "10                  0                   0                   0   \n",
       "19                  0                   0                   0   \n",
       "22                  0                   0                   0   \n",
       "30                  0                   0                   0   \n",
       "31                  1                   0                   0   \n",
       "\n",
       "    3-gene_classifier_subtype_ER+/HER2- High Prolif  \\\n",
       "1                                                 1   \n",
       "4                                                 1   \n",
       "5                                                 1   \n",
       "8                                                 1   \n",
       "9                                                 1   \n",
       "10                                                0   \n",
       "19                                                1   \n",
       "22                                                1   \n",
       "30                                                0   \n",
       "31                                                0   \n",
       "\n",
       "    3-gene_classifier_subtype_ER+/HER2- Low Prolif  \\\n",
       "1                                                0   \n",
       "4                                                0   \n",
       "5                                                0   \n",
       "8                                                0   \n",
       "9                                                0   \n",
       "10                                               1   \n",
       "19                                               0   \n",
       "22                                               0   \n",
       "30                                               0   \n",
       "31                                               1   \n",
       "\n",
       "    3-gene_classifier_subtype_ER-/HER2-  3-gene_classifier_subtype_HER2+  \n",
       "1                                     0                                0  \n",
       "4                                     0                                0  \n",
       "5                                     0                                0  \n",
       "8                                     0                                0  \n",
       "9                                     0                                0  \n",
       "10                                    0                                0  \n",
       "19                                    0                                0  \n",
       "22                                    0                                0  \n",
       "30                                    1                                0  \n",
       "31                                    0                                0  \n",
       "\n",
       "[10 rows x 55 columns]"
      ]
     },
     "execution_count": 23,
     "metadata": {},
     "output_type": "execute_result"
    }
   ],
   "source": [
    "df.head(10)"
   ]
  },
  {
   "cell_type": "markdown",
   "id": "96ce7190",
   "metadata": {},
   "source": [
    "## Univariate Selection\n",
    "We will have 54 input features that may result in overfitting of the ML model. We should filter the input variables that have stronger correlation with the output variable. One technique is \"Univariate Selection\"."
   ]
  },
  {
   "cell_type": "code",
   "execution_count": 24,
   "id": "119f9b86",
   "metadata": {},
   "outputs": [],
   "source": [
    "# The input data of this function is df2_regression or df2_classification\n",
    "\n",
    "def Univariate_Selection (df2, n_features):\n",
    "    X = df2.drop('death_from_cancer', axis = 'columns')\n",
    "    y = df2['death_from_cancer']\n",
    "    \n",
    "    bestfeatures = SelectKBest(score_func=chi2, k=10)\n",
    "    fit = bestfeatures.fit(X,y)\n",
    "    \n",
    "    dfscores = pd.DataFrame(fit.scores_)\n",
    "    dfcolumns = pd.DataFrame(X.columns)\n",
    "    \n",
    "    feature_Scores = pd.concat([dfcolumns,dfscores], axis=1)\n",
    "    feature_Scores.columns = ['Specs','Score']\n",
    "    \n",
    "    Top_features = feature_Scores.nlargest(n_features,'Score')\n",
    "    \n",
    "    X_featured_US = pd.DataFrame()  \n",
    "    for ii in Top_features['Specs']:\n",
    "        X_featured_US[ii] = X[ii]\n",
    "\n",
    "    X = X_featured_US.copy()\n",
    "    X = np.array(X)    \n",
    "    y = np.array(y)\n",
    "             \n",
    "    \n",
    "    print(Top_features)\n",
    "    \n",
    "    return(X, y)\n"
   ]
  },
  {
   "cell_type": "markdown",
   "id": "d35e46c5",
   "metadata": {},
   "source": [
    "# Machine Learning Models\n",
    "In this section, we test the performance of different classification models.\n",
    "\n",
    "## 1. Random Forest\n",
    "We use Univariate_Selection and come up with n_feature = 20 as the optimum number of features out of 54 features."
   ]
  },
  {
   "cell_type": "code",
   "execution_count": 25,
   "id": "635cd225",
   "metadata": {},
   "outputs": [
    {
     "name": "stdout",
     "output_type": "stream",
     "text": [
      "                                                Specs      Score\n",
      "37                              integrative_cluster_5  45.582306\n",
      "6                                         her2_status  32.948072\n",
      "3                                        chemotherapy  32.422593\n",
      "51     3-gene_classifier_subtype_ER+/HER2- Low Prolif  31.215246\n",
      "53                    3-gene_classifier_subtype_HER2+  29.915362\n",
      "22                   pam50_+_claudin-low_subtype_LumA  27.257431\n",
      "36                              integrative_cluster_3  21.067066\n",
      "21                   pam50_+_claudin-low_subtype_Her2  19.203529\n",
      "9                       lymph_nodes_examined_positive  17.360078\n",
      "1                              type_of_breast_surgery  14.024467\n",
      "11                        nottingham_prognostic_index  13.966838\n",
      "35                              integrative_cluster_2  10.138265\n",
      "12                                          pr_status   8.017459\n",
      "5                           neoplasm_histologic_grade   6.610283\n",
      "33  tumor_other_histologic_subtype_Tubular/ cribri...   5.191759\n",
      "50    3-gene_classifier_subtype_ER+/HER2- High Prolif   4.646769\n",
      "23                   pam50_+_claudin-low_subtype_LumB   4.588174\n",
      "41                              integrative_cluster_9   3.261986\n",
      "4                           er_status_measured_by_ihc   2.906279\n",
      "14                                         tumor_size   2.856896\n"
     ]
    }
   ],
   "source": [
    "X, y = Univariate_Selection (df, n_features = 20)"
   ]
  },
  {
   "cell_type": "markdown",
   "id": "275babdb",
   "metadata": {},
   "source": [
    "There are several important hyperprameters that should be optimized in the Random Forest model. We use GridSearchCV to find the optimum values of these hyperparameters that result in the maximum accuracy. The algorithm came up with the following values:"
   ]
  },
  {
   "cell_type": "markdown",
   "id": "1e1246e0",
   "metadata": {},
   "source": [
    "ccp_alpha = 0.005, max_depth = 30, max_leaf_nodes = 50, n_estimators = 75"
   ]
  },
  {
   "cell_type": "code",
   "execution_count": 26,
   "id": "6b7566a1",
   "metadata": {},
   "outputs": [
    {
     "name": "stdout",
     "output_type": "stream",
     "text": [
      "{'ccp_alpha': 0.005, 'max_depth': 30, 'max_leaf_nodes': 50, 'n_estimators': 75}\n"
     ]
    }
   ],
   "source": [
    "param_grid = [\n",
    "    {'ccp_alpha' : [0.0005, 0.001, 0.005, 0.01],\n",
    "     'max_depth' : [20, 30, 40, 50],\n",
    "     'max_leaf_nodes' : [30, 40, 50],\n",
    "     'n_estimators' : [50, 75, 100, 125]   \n",
    "    }\n",
    "]\n",
    "\n",
    "optimal_params = GridSearchCV(RandomForestClassifier(), param_grid, cv = 3, scoring = 'accuracy')\n",
    "\n",
    "optimal_params.fit(X, y)\n",
    "\n",
    "print(optimal_params.best_params_)"
   ]
  },
  {
   "cell_type": "markdown",
   "id": "c14697e6",
   "metadata": {},
   "source": [
    "We use K-fold cross validation to get the average of accuracy over different cross validation sets."
   ]
  },
  {
   "cell_type": "code",
   "execution_count": 27,
   "id": "792deded",
   "metadata": {},
   "outputs": [
    {
     "data": {
      "text/plain": [
       "array([0.74      , 0.74      , 0.67333333, 0.71333333, 0.65333333,\n",
       "       0.71333333, 0.7       , 0.68      , 0.71812081, 0.73154362])"
      ]
     },
     "execution_count": 27,
     "metadata": {},
     "output_type": "execute_result"
    }
   ],
   "source": [
    "Random_forest_models = cross_val_score(RandomForestClassifier(ccp_alpha = 0.005, max_depth = 30, max_leaf_nodes = 50, \\\n",
    "                                                              n_estimators = 75),X, y,cv = 10)\n",
    "Random_forest_models"
   ]
  },
  {
   "cell_type": "code",
   "execution_count": 28,
   "id": "a3dded26",
   "metadata": {},
   "outputs": [
    {
     "data": {
      "text/plain": [
       "0.7062997762863535"
      ]
     },
     "execution_count": 28,
     "metadata": {},
     "output_type": "execute_result"
    }
   ],
   "source": [
    "np.mean(Random_forest_models)"
   ]
  },
  {
   "cell_type": "code",
   "execution_count": 29,
   "id": "58c6720b",
   "metadata": {},
   "outputs": [],
   "source": [
    "X_train, X_test, y_train, y_test = train_test_split(X, y, test_size = 0.2)"
   ]
  },
  {
   "cell_type": "code",
   "execution_count": 30,
   "id": "4937afb8",
   "metadata": {},
   "outputs": [],
   "source": [
    "Random_forest = RandomForestClassifier(ccp_alpha = 0.005, max_depth = 30, max_leaf_nodes = 50, n_estimators = 75)"
   ]
  },
  {
   "cell_type": "code",
   "execution_count": 31,
   "id": "ffe83a21",
   "metadata": {},
   "outputs": [
    {
     "data": {
      "text/plain": [
       "RandomForestClassifier(ccp_alpha=0.005, max_depth=30, max_leaf_nodes=50,\n",
       "                       n_estimators=75)"
      ]
     },
     "execution_count": 31,
     "metadata": {},
     "output_type": "execute_result"
    }
   ],
   "source": [
    "Random_forest.fit(X_train, y_train)"
   ]
  },
  {
   "cell_type": "markdown",
   "id": "9ae3aa98",
   "metadata": {},
   "source": [
    "Model accuracy is on test data in 0.70."
   ]
  },
  {
   "cell_type": "code",
   "execution_count": 32,
   "id": "ef9de683",
   "metadata": {},
   "outputs": [
    {
     "data": {
      "text/plain": [
       "0.7033333333333334"
      ]
     },
     "execution_count": 32,
     "metadata": {},
     "output_type": "execute_result"
    }
   ],
   "source": [
    "Random_forest.score(X_test, y_test)"
   ]
  },
  {
   "cell_type": "markdown",
   "id": "67365f17",
   "metadata": {},
   "source": [
    "Model accuracy is on test data in around 0.29 which is higher than the accuracy of logistic regression models."
   ]
  },
  {
   "cell_type": "code",
   "execution_count": 33,
   "id": "60d55433",
   "metadata": {},
   "outputs": [],
   "source": [
    "y_predicted = Random_forest.predict(X_test)"
   ]
  },
  {
   "cell_type": "markdown",
   "id": "3a6f443d",
   "metadata": {},
   "source": [
    "As shown in the confusion matrix below, the Random Forest model does not have a good accuracy for prediction of class = 1."
   ]
  },
  {
   "cell_type": "code",
   "execution_count": 34,
   "id": "0958067a",
   "metadata": {},
   "outputs": [
    {
     "data": {
      "text/plain": [
       "Text(69.0, 0.5, 'Truth')"
      ]
     },
     "execution_count": 34,
     "metadata": {},
     "output_type": "execute_result"
    },
    {
     "data": {
      "image/png": "[encoded data removed]",
      "text/plain": [
       "<Figure size 720x504 with 2 Axes>"
      ]
     },
     "metadata": {
      "needs_background": "light"
     },
     "output_type": "display_data"
    }
   ],
   "source": [
    "# Let's visualize this confusion matrix in seaborn\n",
    "cm = tf.math.confusion_matrix(labels = y_test, predictions = y_predicted)\n",
    "plt.figure(figsize = (10, 7))\n",
    "sn.heatmap(cm, annot = True, fmt = 'd')\n",
    "plt.xlabel ('predicted')\n",
    "plt.ylabel('Truth')"
   ]
  },
  {
   "cell_type": "markdown",
   "id": "014a39ea",
   "metadata": {},
   "source": [
    "F-Score for Class = 0 is 0.81 which is relatively good. However, F-score of Class = 1 is 0.30 which is very low. The weighted average F-score is 0.64."
   ]
  },
  {
   "cell_type": "code",
   "execution_count": 35,
   "id": "1e992f86",
   "metadata": {},
   "outputs": [
    {
     "name": "stdout",
     "output_type": "stream",
     "text": [
      "              precision    recall  f1-score   support\n",
      "\n",
      "           0       0.70      0.96      0.81       199\n",
      "           1       0.73      0.19      0.30       101\n",
      "\n",
      "    accuracy                           0.70       300\n",
      "   macro avg       0.72      0.58      0.56       300\n",
      "weighted avg       0.71      0.70      0.64       300\n",
      "\n"
     ]
    }
   ],
   "source": [
    "print(classification_report(y_test, y_predicted, zero_division = False))"
   ]
  },
  {
   "cell_type": "markdown",
   "id": "a8445b5f",
   "metadata": {},
   "source": [
    "#### Random Forest in Model 2 with 20 features has relatively higher accuracy compared to the Random Forest in Model 1 with 100 features!"
   ]
  },
  {
   "cell_type": "markdown",
   "id": "d354eeaa",
   "metadata": {},
   "source": [
    "## 2. Gradient Boost"
   ]
  },
  {
   "cell_type": "markdown",
   "id": "535621f5",
   "metadata": {},
   "source": [
    "Similar to the Random Forest model, we use Univariate_Selection and n_feature = 20 as the optimum number of features."
   ]
  },
  {
   "cell_type": "code",
   "execution_count": 36,
   "id": "dff4cfbd",
   "metadata": {},
   "outputs": [
    {
     "name": "stdout",
     "output_type": "stream",
     "text": [
      "                                                Specs      Score\n",
      "37                              integrative_cluster_5  45.582306\n",
      "6                                         her2_status  32.948072\n",
      "3                                        chemotherapy  32.422593\n",
      "51     3-gene_classifier_subtype_ER+/HER2- Low Prolif  31.215246\n",
      "53                    3-gene_classifier_subtype_HER2+  29.915362\n",
      "22                   pam50_+_claudin-low_subtype_LumA  27.257431\n",
      "36                              integrative_cluster_3  21.067066\n",
      "21                   pam50_+_claudin-low_subtype_Her2  19.203529\n",
      "9                       lymph_nodes_examined_positive  17.360078\n",
      "1                              type_of_breast_surgery  14.024467\n",
      "11                        nottingham_prognostic_index  13.966838\n",
      "35                              integrative_cluster_2  10.138265\n",
      "12                                          pr_status   8.017459\n",
      "5                           neoplasm_histologic_grade   6.610283\n",
      "33  tumor_other_histologic_subtype_Tubular/ cribri...   5.191759\n",
      "50    3-gene_classifier_subtype_ER+/HER2- High Prolif   4.646769\n",
      "23                   pam50_+_claudin-low_subtype_LumB   4.588174\n",
      "41                              integrative_cluster_9   3.261986\n",
      "4                           er_status_measured_by_ihc   2.906279\n",
      "14                                         tumor_size   2.856896\n"
     ]
    }
   ],
   "source": [
    "X, y = Univariate_Selection (df, n_features = 20)"
   ]
  },
  {
   "cell_type": "markdown",
   "id": "08717f22",
   "metadata": {},
   "source": [
    "We use GridSearchCV to find the optimum values of the hyperparameters, in particular learning rate."
   ]
  },
  {
   "cell_type": "code",
   "execution_count": 37,
   "id": "bde5f3d7",
   "metadata": {},
   "outputs": [
    {
     "name": "stdout",
     "output_type": "stream",
     "text": [
      "{'learning_rate': 0.01, 'n_estimators': 150} 0.6975875139353399\n"
     ]
    }
   ],
   "source": [
    "param_grid = [\n",
    "    {'learning_rate' : [0.001, 0.01, 0.1, 0.15],\n",
    "     'n_estimators' : [50, 80, 100, 150]\n",
    "    }\n",
    "]\n",
    "\n",
    "optimal_params = GridSearchCV(GradientBoostingClassifier(), param_grid, cv = 5, scoring = 'accuracy')\n",
    "\n",
    "optimal_params.fit(X, y)\n",
    "\n",
    "print(optimal_params.best_params_, optimal_params.best_score_)"
   ]
  },
  {
   "cell_type": "code",
   "execution_count": 38,
   "id": "e1a170cf",
   "metadata": {},
   "outputs": [
    {
     "data": {
      "text/plain": [
       "array([0.75333333, 0.71333333, 0.68666667, 0.69333333, 0.66      ,\n",
       "       0.7       , 0.68666667, 0.67333333, 0.7114094 , 0.72483221])"
      ]
     },
     "execution_count": 38,
     "metadata": {},
     "output_type": "execute_result"
    }
   ],
   "source": [
    "Boost_models = cross_val_score(GradientBoostingClassifier(learning_rate = 0.01, n_estimators = 150),X, y,cv = 10)\n",
    "Boost_models"
   ]
  },
  {
   "cell_type": "code",
   "execution_count": 39,
   "id": "d49f958e",
   "metadata": {},
   "outputs": [
    {
     "data": {
      "text/plain": [
       "0.7002908277404922"
      ]
     },
     "execution_count": 39,
     "metadata": {},
     "output_type": "execute_result"
    }
   ],
   "source": [
    "np.mean(Boost_models)"
   ]
  },
  {
   "cell_type": "code",
   "execution_count": 84,
   "id": "ba6df8c6",
   "metadata": {},
   "outputs": [],
   "source": [
    "X_train, X_test, y_train, y_test = train_test_split(X, y, test_size = 0.2)"
   ]
  },
  {
   "cell_type": "code",
   "execution_count": 85,
   "id": "899beb33",
   "metadata": {},
   "outputs": [
    {
     "data": {
      "text/plain": [
       "GradientBoostingClassifier(learning_rate=0.01, n_estimators=150)"
      ]
     },
     "execution_count": 85,
     "metadata": {},
     "output_type": "execute_result"
    }
   ],
   "source": [
    "gBoostClassifier = GradientBoostingClassifier(learning_rate = 0.01, n_estimators = 150)\n",
    "gBoostClassifier.fit(X_train, y_train)"
   ]
  },
  {
   "cell_type": "markdown",
   "id": "ae3db040",
   "metadata": {},
   "source": [
    "The accuracy of Gradient Boost on test data is 0.70."
   ]
  },
  {
   "cell_type": "code",
   "execution_count": 86,
   "id": "a1ba833e",
   "metadata": {},
   "outputs": [
    {
     "data": {
      "text/plain": [
       "0.7033333333333334"
      ]
     },
     "execution_count": 86,
     "metadata": {},
     "output_type": "execute_result"
    }
   ],
   "source": [
    "gBoostClassifier.score(X_test, y_test)"
   ]
  },
  {
   "cell_type": "code",
   "execution_count": 87,
   "id": "0a2049f5",
   "metadata": {},
   "outputs": [],
   "source": [
    "y_predicted = gBoostClassifier.predict(X_test)"
   ]
  },
  {
   "cell_type": "markdown",
   "id": "5ad51e37",
   "metadata": {},
   "source": [
    "Gradient boost works better in prediction of Class = 1, compared to Random Forest."
   ]
  },
  {
   "cell_type": "code",
   "execution_count": 88,
   "id": "d73da5d1",
   "metadata": {
    "scrolled": false
   },
   "outputs": [
    {
     "data": {
      "text/plain": [
       "Text(69.0, 0.5, 'Truth')"
      ]
     },
     "execution_count": 88,
     "metadata": {},
     "output_type": "execute_result"
    },
    {
     "data": {
      "image/png": "[encoded data removed]",
      "text/plain": [
       "<Figure size 720x504 with 2 Axes>"
      ]
     },
     "metadata": {
      "needs_background": "light"
     },
     "output_type": "display_data"
    }
   ],
   "source": [
    "# Let's visualize this confusion matrix in seaborn\n",
    "cm = tf.math.confusion_matrix(labels = y_test, predictions = y_predicted)\n",
    "plt.figure(figsize = (10, 7))\n",
    "sn.heatmap(cm, annot = True, fmt = 'd')\n",
    "plt.xlabel ('predicted')\n",
    "plt.ylabel('Truth')"
   ]
  },
  {
   "cell_type": "markdown",
   "id": "05c0c2f2",
   "metadata": {},
   "source": [
    "F-Score for Class = 0 is 0.81 which is relatively good. F-score of Class = 1 is 0.35 which is higher than F-score of the Random Forest model (0.35). The weighted average F-score is 0.65 which is a bit better than Random Forest (0.64)."
   ]
  },
  {
   "cell_type": "code",
   "execution_count": 89,
   "id": "f8c4ee65",
   "metadata": {},
   "outputs": [
    {
     "name": "stdout",
     "output_type": "stream",
     "text": [
      "              precision    recall  f1-score   support\n",
      "\n",
      "           0       0.70      0.95      0.81       196\n",
      "           1       0.73      0.23      0.35       104\n",
      "\n",
      "    accuracy                           0.70       300\n",
      "   macro avg       0.71      0.59      0.58       300\n",
      "weighted avg       0.71      0.70      0.65       300\n",
      "\n"
     ]
    }
   ],
   "source": [
    "print(classification_report(y_test, y_predicted, zero_division = False))"
   ]
  },
  {
   "cell_type": "markdown",
   "id": "fb0d3a51",
   "metadata": {},
   "source": [
    "## 3. Neural Network"
   ]
  },
  {
   "cell_type": "markdown",
   "id": "6b3ff366",
   "metadata": {},
   "source": [
    "In this part, we use a shallow neural network for binary classification."
   ]
  },
  {
   "cell_type": "code",
   "execution_count": 90,
   "id": "92e87070",
   "metadata": {},
   "outputs": [
    {
     "name": "stdout",
     "output_type": "stream",
     "text": [
      "                                                Specs      Score\n",
      "37                              integrative_cluster_5  45.582306\n",
      "6                                         her2_status  32.948072\n",
      "3                                        chemotherapy  32.422593\n",
      "51     3-gene_classifier_subtype_ER+/HER2- Low Prolif  31.215246\n",
      "53                    3-gene_classifier_subtype_HER2+  29.915362\n",
      "22                   pam50_+_claudin-low_subtype_LumA  27.257431\n",
      "36                              integrative_cluster_3  21.067066\n",
      "21                   pam50_+_claudin-low_subtype_Her2  19.203529\n",
      "9                       lymph_nodes_examined_positive  17.360078\n",
      "1                              type_of_breast_surgery  14.024467\n",
      "11                        nottingham_prognostic_index  13.966838\n",
      "35                              integrative_cluster_2  10.138265\n",
      "12                                          pr_status   8.017459\n",
      "5                           neoplasm_histologic_grade   6.610283\n",
      "33  tumor_other_histologic_subtype_Tubular/ cribri...   5.191759\n",
      "50    3-gene_classifier_subtype_ER+/HER2- High Prolif   4.646769\n",
      "23                   pam50_+_claudin-low_subtype_LumB   4.588174\n",
      "41                              integrative_cluster_9   3.261986\n",
      "4                           er_status_measured_by_ihc   2.906279\n",
      "14                                         tumor_size   2.856896\n"
     ]
    }
   ],
   "source": [
    "X, y = Univariate_Selection (df, n_features = 20)"
   ]
  },
  {
   "cell_type": "code",
   "execution_count": 91,
   "id": "53bc1cbf",
   "metadata": {},
   "outputs": [],
   "source": [
    "X_train, X_test, y_train, y_test = train_test_split(X, y, test_size = 0.2)"
   ]
  },
  {
   "cell_type": "code",
   "execution_count": 92,
   "id": "6a485971",
   "metadata": {},
   "outputs": [
    {
     "data": {
      "text/plain": [
       "(1198, 20)"
      ]
     },
     "execution_count": 92,
     "metadata": {},
     "output_type": "execute_result"
    }
   ],
   "source": [
    "X_train.shape"
   ]
  },
  {
   "cell_type": "code",
   "execution_count": 105,
   "id": "43e88d0d",
   "metadata": {},
   "outputs": [
    {
     "name": "stdout",
     "output_type": "stream",
     "text": [
      "Epoch 1/100\n",
      "38/38 [==============================] - 1s 12ms/step - loss: 0.7426 - accuracy: 0.5551 - val_loss: 0.6463 - val_accuracy: 0.6667\n",
      "Epoch 2/100\n",
      "38/38 [==============================] - 0s 5ms/step - loss: 0.6961 - accuracy: 0.6043 - val_loss: 0.6202 - val_accuracy: 0.6767\n",
      "Epoch 3/100\n",
      "38/38 [==============================] - 0s 5ms/step - loss: 0.6564 - accuracy: 0.6277 - val_loss: 0.6065 - val_accuracy: 0.6767\n",
      "Epoch 4/100\n",
      "38/38 [==============================] - 0s 5ms/step - loss: 0.6516 - accuracy: 0.6569 - val_loss: 0.6051 - val_accuracy: 0.6767\n",
      "Epoch 5/100\n",
      "38/38 [==============================] - 0s 5ms/step - loss: 0.6362 - accuracy: 0.6611 - val_loss: 0.6018 - val_accuracy: 0.6767\n",
      "Epoch 6/100\n",
      "38/38 [==============================] - 0s 5ms/step - loss: 0.6422 - accuracy: 0.6511 - val_loss: 0.5992 - val_accuracy: 0.6833\n",
      "Epoch 7/100\n",
      "38/38 [==============================] - 0s 5ms/step - loss: 0.6333 - accuracy: 0.6561 - val_loss: 0.5966 - val_accuracy: 0.6767\n",
      "Epoch 8/100\n",
      "38/38 [==============================] - 0s 5ms/step - loss: 0.6366 - accuracy: 0.6586 - val_loss: 0.5942 - val_accuracy: 0.6833\n",
      "Epoch 9/100\n",
      "38/38 [==============================] - 0s 5ms/step - loss: 0.6310 - accuracy: 0.6628 - val_loss: 0.5961 - val_accuracy: 0.6833\n",
      "Epoch 10/100\n",
      "38/38 [==============================] - 0s 5ms/step - loss: 0.6292 - accuracy: 0.6578 - val_loss: 0.5915 - val_accuracy: 0.6867\n",
      "Epoch 11/100\n",
      "38/38 [==============================] - 0s 5ms/step - loss: 0.6189 - accuracy: 0.6803 - val_loss: 0.5894 - val_accuracy: 0.6867\n",
      "Epoch 12/100\n",
      "38/38 [==============================] - 0s 5ms/step - loss: 0.6117 - accuracy: 0.6653 - val_loss: 0.5850 - val_accuracy: 0.6900\n",
      "Epoch 13/100\n",
      "38/38 [==============================] - 0s 5ms/step - loss: 0.6121 - accuracy: 0.6870 - val_loss: 0.5822 - val_accuracy: 0.6833\n",
      "Epoch 14/100\n",
      "38/38 [==============================] - 0s 5ms/step - loss: 0.6056 - accuracy: 0.6795 - val_loss: 0.5810 - val_accuracy: 0.6833\n",
      "Epoch 15/100\n",
      "38/38 [==============================] - 0s 5ms/step - loss: 0.6145 - accuracy: 0.6795 - val_loss: 0.5800 - val_accuracy: 0.6867\n",
      "Epoch 16/100\n",
      "38/38 [==============================] - 0s 5ms/step - loss: 0.6182 - accuracy: 0.6703 - val_loss: 0.5799 - val_accuracy: 0.6867\n",
      "Epoch 17/100\n",
      "38/38 [==============================] - 0s 5ms/step - loss: 0.6085 - accuracy: 0.6728 - val_loss: 0.5801 - val_accuracy: 0.6933\n",
      "Epoch 18/100\n",
      "38/38 [==============================] - 0s 5ms/step - loss: 0.6166 - accuracy: 0.6753 - val_loss: 0.5793 - val_accuracy: 0.6867\n",
      "Epoch 19/100\n",
      "38/38 [==============================] - 0s 5ms/step - loss: 0.6103 - accuracy: 0.6761 - val_loss: 0.5824 - val_accuracy: 0.6933\n",
      "Epoch 20/100\n",
      "38/38 [==============================] - 0s 5ms/step - loss: 0.6170 - accuracy: 0.6745 - val_loss: 0.5816 - val_accuracy: 0.6900\n",
      "Epoch 21/100\n",
      "38/38 [==============================] - 0s 5ms/step - loss: 0.6088 - accuracy: 0.6736 - val_loss: 0.5786 - val_accuracy: 0.6933\n",
      "Epoch 22/100\n",
      "38/38 [==============================] - 0s 5ms/step - loss: 0.5947 - accuracy: 0.6937 - val_loss: 0.5764 - val_accuracy: 0.6867\n",
      "Epoch 23/100\n",
      "38/38 [==============================] - 0s 5ms/step - loss: 0.5978 - accuracy: 0.6953 - val_loss: 0.5769 - val_accuracy: 0.6900\n",
      "Epoch 24/100\n",
      "38/38 [==============================] - 0s 5ms/step - loss: 0.6061 - accuracy: 0.6761 - val_loss: 0.5751 - val_accuracy: 0.6900\n",
      "Epoch 25/100\n",
      "38/38 [==============================] - 0s 5ms/step - loss: 0.6051 - accuracy: 0.6711 - val_loss: 0.5751 - val_accuracy: 0.6867\n",
      "Epoch 26/100\n",
      "38/38 [==============================] - 0s 5ms/step - loss: 0.5981 - accuracy: 0.6778 - val_loss: 0.5756 - val_accuracy: 0.6933\n",
      "Epoch 27/100\n",
      "38/38 [==============================] - 0s 5ms/step - loss: 0.6072 - accuracy: 0.6811 - val_loss: 0.5763 - val_accuracy: 0.6900\n",
      "Epoch 28/100\n",
      "38/38 [==============================] - 0s 5ms/step - loss: 0.6034 - accuracy: 0.6795 - val_loss: 0.5765 - val_accuracy: 0.6900\n",
      "Epoch 29/100\n",
      "38/38 [==============================] - 0s 5ms/step - loss: 0.5997 - accuracy: 0.6912 - val_loss: 0.5781 - val_accuracy: 0.6933\n",
      "Epoch 30/100\n",
      "38/38 [==============================] - 0s 5ms/step - loss: 0.5961 - accuracy: 0.6878 - val_loss: 0.5739 - val_accuracy: 0.6967\n",
      "Epoch 31/100\n",
      "38/38 [==============================] - 0s 5ms/step - loss: 0.5927 - accuracy: 0.6786 - val_loss: 0.5715 - val_accuracy: 0.6867\n",
      "Epoch 32/100\n",
      "38/38 [==============================] - 0s 5ms/step - loss: 0.5960 - accuracy: 0.6912 - val_loss: 0.5728 - val_accuracy: 0.6900\n",
      "Epoch 33/100\n",
      "38/38 [==============================] - 0s 5ms/step - loss: 0.5954 - accuracy: 0.6978 - val_loss: 0.5738 - val_accuracy: 0.6967\n",
      "Epoch 34/100\n",
      "38/38 [==============================] - 0s 5ms/step - loss: 0.5879 - accuracy: 0.6912 - val_loss: 0.5718 - val_accuracy: 0.6933\n",
      "Epoch 35/100\n",
      "38/38 [==============================] - 0s 5ms/step - loss: 0.5866 - accuracy: 0.6978 - val_loss: 0.5720 - val_accuracy: 0.6967\n",
      "Epoch 36/100\n",
      "38/38 [==============================] - 0s 5ms/step - loss: 0.5991 - accuracy: 0.6861 - val_loss: 0.5739 - val_accuracy: 0.7000\n",
      "Epoch 37/100\n",
      "38/38 [==============================] - 0s 5ms/step - loss: 0.5887 - accuracy: 0.6928 - val_loss: 0.5699 - val_accuracy: 0.6967\n",
      "Epoch 38/100\n",
      "38/38 [==============================] - 0s 5ms/step - loss: 0.5938 - accuracy: 0.6920 - val_loss: 0.5699 - val_accuracy: 0.6967\n",
      "Epoch 39/100\n",
      "38/38 [==============================] - 0s 5ms/step - loss: 0.5897 - accuracy: 0.6962 - val_loss: 0.5694 - val_accuracy: 0.7000\n",
      "Epoch 40/100\n",
      "38/38 [==============================] - 0s 5ms/step - loss: 0.5947 - accuracy: 0.6845 - val_loss: 0.5712 - val_accuracy: 0.7033\n",
      "Epoch 41/100\n",
      "38/38 [==============================] - 0s 5ms/step - loss: 0.5814 - accuracy: 0.7078 - val_loss: 0.5699 - val_accuracy: 0.7033\n",
      "Epoch 42/100\n",
      "38/38 [==============================] - 0s 5ms/step - loss: 0.5882 - accuracy: 0.6953 - val_loss: 0.5684 - val_accuracy: 0.7067\n",
      "Epoch 43/100\n",
      "38/38 [==============================] - 0s 5ms/step - loss: 0.5998 - accuracy: 0.6761 - val_loss: 0.5703 - val_accuracy: 0.6933\n",
      "Epoch 44/100\n",
      "38/38 [==============================] - 0s 5ms/step - loss: 0.5880 - accuracy: 0.6962 - val_loss: 0.5708 - val_accuracy: 0.6967\n",
      "Epoch 45/100\n",
      "38/38 [==============================] - 0s 5ms/step - loss: 0.5942 - accuracy: 0.6878 - val_loss: 0.5706 - val_accuracy: 0.7033\n",
      "Epoch 46/100\n",
      "38/38 [==============================] - 0s 5ms/step - loss: 0.5922 - accuracy: 0.7020 - val_loss: 0.5703 - val_accuracy: 0.7000\n",
      "Epoch 47/100\n",
      "38/38 [==============================] - 0s 5ms/step - loss: 0.5870 - accuracy: 0.6970 - val_loss: 0.5686 - val_accuracy: 0.7000\n",
      "Epoch 48/100\n",
      "38/38 [==============================] - 0s 5ms/step - loss: 0.5826 - accuracy: 0.7003 - val_loss: 0.5689 - val_accuracy: 0.6967\n",
      "Epoch 49/100\n",
      "38/38 [==============================] - 0s 5ms/step - loss: 0.5849 - accuracy: 0.6895 - val_loss: 0.5688 - val_accuracy: 0.6967\n",
      "Epoch 50/100\n",
      "38/38 [==============================] - 0s 5ms/step - loss: 0.5861 - accuracy: 0.7003 - val_loss: 0.5690 - val_accuracy: 0.7033\n",
      "Epoch 51/100\n",
      "38/38 [==============================] - 0s 5ms/step - loss: 0.5879 - accuracy: 0.6978 - val_loss: 0.5718 - val_accuracy: 0.7000\n",
      "Epoch 52/100\n",
      "38/38 [==============================] - 0s 5ms/step - loss: 0.5881 - accuracy: 0.6945 - val_loss: 0.5693 - val_accuracy: 0.7000\n",
      "Epoch 53/100\n",
      "38/38 [==============================] - 0s 5ms/step - loss: 0.5862 - accuracy: 0.6845 - val_loss: 0.5690 - val_accuracy: 0.7033\n",
      "Epoch 54/100\n",
      "38/38 [==============================] - 0s 5ms/step - loss: 0.5799 - accuracy: 0.6920 - val_loss: 0.5676 - val_accuracy: 0.7000\n",
      "Epoch 55/100\n",
      "38/38 [==============================] - 0s 5ms/step - loss: 0.5799 - accuracy: 0.7078 - val_loss: 0.5677 - val_accuracy: 0.6967\n",
      "Epoch 56/100\n",
      "38/38 [==============================] - 0s 5ms/step - loss: 0.6010 - accuracy: 0.6895 - val_loss: 0.5676 - val_accuracy: 0.7000\n",
      "Epoch 57/100\n",
      "38/38 [==============================] - 0s 5ms/step - loss: 0.5842 - accuracy: 0.7053 - val_loss: 0.5695 - val_accuracy: 0.6933\n",
      "Epoch 58/100\n",
      "38/38 [==============================] - 0s 5ms/step - loss: 0.5769 - accuracy: 0.6995 - val_loss: 0.5688 - val_accuracy: 0.6933\n"
     ]
    },
    {
     "name": "stdout",
     "output_type": "stream",
     "text": [
      "Epoch 59/100\n",
      "38/38 [==============================] - 0s 4ms/step - loss: 0.5862 - accuracy: 0.6995 - val_loss: 0.5701 - val_accuracy: 0.6967\n",
      "Epoch 60/100\n",
      "38/38 [==============================] - 0s 4ms/step - loss: 0.5796 - accuracy: 0.7037 - val_loss: 0.5695 - val_accuracy: 0.6933\n",
      "Epoch 61/100\n",
      "38/38 [==============================] - 0s 4ms/step - loss: 0.5811 - accuracy: 0.7045 - val_loss: 0.5686 - val_accuracy: 0.6933\n",
      "Epoch 62/100\n",
      "38/38 [==============================] - 0s 4ms/step - loss: 0.5744 - accuracy: 0.7145 - val_loss: 0.5682 - val_accuracy: 0.6933\n",
      "Epoch 63/100\n",
      "38/38 [==============================] - 0s 4ms/step - loss: 0.5792 - accuracy: 0.7020 - val_loss: 0.5692 - val_accuracy: 0.6967\n",
      "Epoch 64/100\n",
      "38/38 [==============================] - 0s 4ms/step - loss: 0.5848 - accuracy: 0.7012 - val_loss: 0.5695 - val_accuracy: 0.6967\n",
      "Epoch 65/100\n",
      "38/38 [==============================] - 0s 4ms/step - loss: 0.5647 - accuracy: 0.7045 - val_loss: 0.5690 - val_accuracy: 0.7033\n",
      "Epoch 66/100\n",
      "38/38 [==============================] - 0s 5ms/step - loss: 0.5834 - accuracy: 0.6987 - val_loss: 0.5689 - val_accuracy: 0.7033\n",
      "Epoch 67/100\n",
      "38/38 [==============================] - 0s 4ms/step - loss: 0.5788 - accuracy: 0.6978 - val_loss: 0.5685 - val_accuracy: 0.6967\n",
      "Epoch 68/100\n",
      "38/38 [==============================] - 0s 4ms/step - loss: 0.5848 - accuracy: 0.6970 - val_loss: 0.5702 - val_accuracy: 0.6933\n",
      "Epoch 69/100\n",
      "38/38 [==============================] - 0s 4ms/step - loss: 0.5762 - accuracy: 0.7028 - val_loss: 0.5695 - val_accuracy: 0.6967\n",
      "Epoch 70/100\n",
      "38/38 [==============================] - 0s 4ms/step - loss: 0.5806 - accuracy: 0.7012 - val_loss: 0.5693 - val_accuracy: 0.6900\n",
      "Epoch 71/100\n",
      "38/38 [==============================] - 0s 4ms/step - loss: 0.5690 - accuracy: 0.7020 - val_loss: 0.5692 - val_accuracy: 0.6933\n",
      "Epoch 72/100\n",
      "38/38 [==============================] - 0s 4ms/step - loss: 0.5801 - accuracy: 0.7028 - val_loss: 0.5706 - val_accuracy: 0.6867\n",
      "Epoch 73/100\n",
      "38/38 [==============================] - 0s 4ms/step - loss: 0.5828 - accuracy: 0.6970 - val_loss: 0.5714 - val_accuracy: 0.7000\n",
      "Epoch 74/100\n",
      "38/38 [==============================] - 0s 5ms/step - loss: 0.5710 - accuracy: 0.6987 - val_loss: 0.5699 - val_accuracy: 0.6900\n",
      "Epoch 75/100\n",
      "38/38 [==============================] - 0s 4ms/step - loss: 0.5700 - accuracy: 0.7262 - val_loss: 0.5700 - val_accuracy: 0.6933\n",
      "Epoch 76/100\n",
      "38/38 [==============================] - 0s 4ms/step - loss: 0.5702 - accuracy: 0.6928 - val_loss: 0.5681 - val_accuracy: 0.6933\n",
      "Epoch 77/100\n",
      "38/38 [==============================] - 0s 4ms/step - loss: 0.5832 - accuracy: 0.7020 - val_loss: 0.5693 - val_accuracy: 0.6933\n",
      "Epoch 78/100\n",
      "38/38 [==============================] - 0s 4ms/step - loss: 0.5776 - accuracy: 0.7053 - val_loss: 0.5697 - val_accuracy: 0.6900\n",
      "Epoch 79/100\n",
      "38/38 [==============================] - 0s 4ms/step - loss: 0.5817 - accuracy: 0.6920 - val_loss: 0.5682 - val_accuracy: 0.6933\n",
      "Epoch 80/100\n",
      "38/38 [==============================] - 0s 4ms/step - loss: 0.5795 - accuracy: 0.6987 - val_loss: 0.5681 - val_accuracy: 0.6967\n",
      "Epoch 81/100\n",
      "38/38 [==============================] - 0s 4ms/step - loss: 0.5852 - accuracy: 0.6995 - val_loss: 0.5695 - val_accuracy: 0.6967\n",
      "Epoch 82/100\n",
      "38/38 [==============================] - 0s 5ms/step - loss: 0.5802 - accuracy: 0.7062 - val_loss: 0.5702 - val_accuracy: 0.7000\n",
      "Epoch 83/100\n",
      "38/38 [==============================] - 0s 4ms/step - loss: 0.5796 - accuracy: 0.6978 - val_loss: 0.5690 - val_accuracy: 0.6967\n",
      "Epoch 84/100\n",
      "38/38 [==============================] - 0s 4ms/step - loss: 0.5817 - accuracy: 0.7012 - val_loss: 0.5701 - val_accuracy: 0.7000\n",
      "Epoch 85/100\n",
      "38/38 [==============================] - 0s 4ms/step - loss: 0.5657 - accuracy: 0.7154 - val_loss: 0.5695 - val_accuracy: 0.7100\n",
      "Epoch 86/100\n",
      "38/38 [==============================] - 0s 4ms/step - loss: 0.5661 - accuracy: 0.7053 - val_loss: 0.5681 - val_accuracy: 0.7133\n",
      "Epoch 87/100\n",
      "38/38 [==============================] - 0s 4ms/step - loss: 0.5882 - accuracy: 0.6987 - val_loss: 0.5694 - val_accuracy: 0.7133\n",
      "Epoch 88/100\n",
      "38/38 [==============================] - 0s 4ms/step - loss: 0.5775 - accuracy: 0.7078 - val_loss: 0.5691 - val_accuracy: 0.7100\n",
      "Epoch 89/100\n",
      "38/38 [==============================] - 0s 4ms/step - loss: 0.5656 - accuracy: 0.7137 - val_loss: 0.5681 - val_accuracy: 0.7100\n",
      "Epoch 90/100\n",
      "38/38 [==============================] - 0s 4ms/step - loss: 0.5671 - accuracy: 0.7162 - val_loss: 0.5684 - val_accuracy: 0.7000\n",
      "Epoch 91/100\n",
      "38/38 [==============================] - 0s 5ms/step - loss: 0.5695 - accuracy: 0.7162 - val_loss: 0.5687 - val_accuracy: 0.7000\n",
      "Epoch 92/100\n",
      "38/38 [==============================] - 0s 4ms/step - loss: 0.5620 - accuracy: 0.7129 - val_loss: 0.5688 - val_accuracy: 0.7133\n",
      "Epoch 93/100\n",
      "38/38 [==============================] - 0s 5ms/step - loss: 0.5722 - accuracy: 0.7137 - val_loss: 0.5689 - val_accuracy: 0.7033\n",
      "Epoch 94/100\n",
      "38/38 [==============================] - 0s 4ms/step - loss: 0.5714 - accuracy: 0.7078 - val_loss: 0.5683 - val_accuracy: 0.7000\n",
      "Epoch 95/100\n",
      "38/38 [==============================] - 0s 4ms/step - loss: 0.5691 - accuracy: 0.7137 - val_loss: 0.5686 - val_accuracy: 0.7033\n",
      "Epoch 96/100\n",
      "38/38 [==============================] - 0s 7ms/step - loss: 0.5744 - accuracy: 0.7137 - val_loss: 0.5701 - val_accuracy: 0.7067\n",
      "Epoch 97/100\n",
      "38/38 [==============================] - 0s 4ms/step - loss: 0.5701 - accuracy: 0.7062 - val_loss: 0.5681 - val_accuracy: 0.7033\n",
      "Epoch 98/100\n",
      "38/38 [==============================] - 0s 5ms/step - loss: 0.5626 - accuracy: 0.7245 - val_loss: 0.5693 - val_accuracy: 0.6967\n",
      "Epoch 99/100\n",
      "38/38 [==============================] - 0s 5ms/step - loss: 0.5630 - accuracy: 0.7237 - val_loss: 0.5694 - val_accuracy: 0.7033\n",
      "Epoch 100/100\n",
      "38/38 [==============================] - 0s 5ms/step - loss: 0.5632 - accuracy: 0.7162 - val_loss: 0.5709 - val_accuracy: 0.7000\n"
     ]
    }
   ],
   "source": [
    "NN = keras.Sequential([\n",
    "    \n",
    "    keras.layers.Dense(20, input_shape = (20, ), activation = 'relu'),\n",
    "    keras.layers.Dropout(0.4),\n",
    "    keras.layers.Dense(10, activation = 'relu'),\n",
    "    keras.layers.Dropout(0.4),\n",
    "    keras.layers.Dense(1, activation = 'sigmoid'), \n",
    "])\n",
    "\n",
    "NN.compile(optimizer = 'adam',\n",
    "                loss = 'binary_crossentropy',\n",
    "                metrics = ['accuracy'])\n",
    "\n",
    "  \n",
    "history_class = NN.fit(X_train, y_train, validation_data = (X_test, y_test), epochs = 100, batch_size = 32)"
   ]
  },
  {
   "cell_type": "markdown",
   "id": "26928096",
   "metadata": {},
   "source": [
    "This NN model has 641 parameters that should be optimized by backpropagation."
   ]
  },
  {
   "cell_type": "code",
   "execution_count": 106,
   "id": "ca318c1d",
   "metadata": {},
   "outputs": [
    {
     "name": "stdout",
     "output_type": "stream",
     "text": [
      "Model: \"sequential_2\"\n",
      "_________________________________________________________________\n",
      " Layer (type)                Output Shape              Param #   \n",
      "=================================================================\n",
      " dense_6 (Dense)             (None, 20)                420       \n",
      "                                                                 \n",
      " dropout_4 (Dropout)         (None, 20)                0         \n",
      "                                                                 \n",
      " dense_7 (Dense)             (None, 10)                210       \n",
      "                                                                 \n",
      " dropout_5 (Dropout)         (None, 10)                0         \n",
      "                                                                 \n",
      " dense_8 (Dense)             (None, 1)                 11        \n",
      "                                                                 \n",
      "=================================================================\n",
      "Total params: 641\n",
      "Trainable params: 641\n",
      "Non-trainable params: 0\n",
      "_________________________________________________________________\n"
     ]
    }
   ],
   "source": [
    "NN.summary()"
   ]
  },
  {
   "cell_type": "markdown",
   "id": "b621cf0a",
   "metadata": {},
   "source": [
    "The following figures show the profiles of \"loss\" and \"accuracy\" with respect to epochs for the training and validation (test) datasets."
   ]
  },
  {
   "cell_type": "code",
   "execution_count": 107,
   "id": "2f1d1f98",
   "metadata": {},
   "outputs": [
    {
     "data": {
      "text/plain": [
       "<matplotlib.legend.Legend at 0x2c3fbdbc160>"
      ]
     },
     "execution_count": 107,
     "metadata": {},
     "output_type": "execute_result"
    },
    {
     "data": {
      "image/png": "[encoded data removed]",
      "text/plain": [
       "<Figure size 1080x360 with 2 Axes>"
      ]
     },
     "metadata": {
      "needs_background": "light"
     },
     "output_type": "display_data"
    }
   ],
   "source": [
    "plt.figure(figsize = (15, 5))\n",
    "\n",
    "plt.subplot(1,2,1)\n",
    "plt.plot(history_class.history['loss'], label = 'training')\n",
    "plt.plot(history_class.history['val_loss'], label = 'validation')\n",
    "plt.xlabel('epochs')\n",
    "plt.ylabel('loss')\n",
    "plt.legend()\n",
    "\n",
    "plt.subplot(1,2,2)\n",
    "plt.plot(history_class.history['accuracy'], label = 'training')\n",
    "plt.plot(history_class.history['val_accuracy'], label = 'Validation')\n",
    "plt.xlabel('epochs')\n",
    "plt.ylabel('accuracy')\n",
    "plt.legend()\n"
   ]
  },
  {
   "cell_type": "markdown",
   "id": "f6e5850b",
   "metadata": {},
   "source": [
    "The accuracy of the NN model on test set is around 0.70."
   ]
  },
  {
   "cell_type": "code",
   "execution_count": 108,
   "id": "2986700e",
   "metadata": {},
   "outputs": [
    {
     "name": "stdout",
     "output_type": "stream",
     "text": [
      "10/10 [==============================] - 0s 2ms/step - loss: 0.5709 - accuracy: 0.7000\n"
     ]
    },
    {
     "data": {
      "text/plain": [
       "[0.570914089679718, 0.699999988079071]"
      ]
     },
     "execution_count": 108,
     "metadata": {},
     "output_type": "execute_result"
    }
   ],
   "source": [
    "NN.evaluate(X_test, y_test)"
   ]
  },
  {
   "cell_type": "code",
   "execution_count": 109,
   "id": "6d76bc46",
   "metadata": {},
   "outputs": [],
   "source": [
    "y_predicted = NN.predict(X_test)"
   ]
  },
  {
   "cell_type": "code",
   "execution_count": 110,
   "id": "261986e6",
   "metadata": {},
   "outputs": [],
   "source": [
    "y_predicted_labels = []\n",
    "\n",
    "for ii in y_predicted:\n",
    "    if ii > 0.5:\n",
    "        y_predicted_labels.append(1)\n",
    "    elif ii <= 0.5:\n",
    "        y_predicted_labels.append(0)"
   ]
  },
  {
   "cell_type": "code",
   "execution_count": 111,
   "id": "137250c2",
   "metadata": {},
   "outputs": [
    {
     "data": {
      "text/plain": [
       "Text(69.0, 0.5, 'Truth')"
      ]
     },
     "execution_count": 111,
     "metadata": {},
     "output_type": "execute_result"
    },
    {
     "data": {
      "image/png": "[encoded data removed]",
      "text/plain": [
       "<Figure size 720x504 with 2 Axes>"
      ]
     },
     "metadata": {
      "needs_background": "light"
     },
     "output_type": "display_data"
    }
   ],
   "source": [
    "# Let's visualize this confusion matrix in seaborn\n",
    "cm = tf.math.confusion_matrix(labels = y_test, predictions = y_predicted_labels)\n",
    "plt.figure(figsize = (10, 7))\n",
    "sn.heatmap(cm, annot = True, fmt = 'd')\n",
    "plt.xlabel ('predicted')\n",
    "plt.ylabel('Truth')"
   ]
  },
  {
   "cell_type": "markdown",
   "id": "50e64563",
   "metadata": {},
   "source": [
    "F-Score for Class = 0 is 0.66 which is a bit higher than the F-score of the Gradient Boost. F-score of Class = 1 is 0.37 which is a bit higher than F-score of the Gradient Boost model (0.36). The weighted average F-score is 0.66."
   ]
  },
  {
   "cell_type": "code",
   "execution_count": 112,
   "id": "bb04b707",
   "metadata": {
    "scrolled": true
   },
   "outputs": [
    {
     "name": "stdout",
     "output_type": "stream",
     "text": [
      "              precision    recall  f1-score   support\n",
      "\n",
      "           0       0.72      0.91      0.80       203\n",
      "           1       0.58      0.27      0.37        97\n",
      "\n",
      "    accuracy                           0.70       300\n",
      "   macro avg       0.65      0.59      0.58       300\n",
      "weighted avg       0.68      0.70      0.66       300\n",
      "\n"
     ]
    }
   ],
   "source": [
    "print(classification_report(y_test, y_predicted_labels, zero_division = False))"
   ]
  },
  {
   "cell_type": "markdown",
   "id": "aea62e28",
   "metadata": {},
   "source": [
    "## Learning curve - High Bias Problem\n",
    "### Gradient Boost Model\n",
    "In this subsection, we want to evaluate the learning curve of the Gradient Boost model. The interpretation of this curve will help us to understand why the accuracy of our model is relatively low."
   ]
  },
  {
   "cell_type": "code",
   "execution_count": 113,
   "id": "87fbc5f0",
   "metadata": {},
   "outputs": [
    {
     "name": "stdout",
     "output_type": "stream",
     "text": [
      "                                                Specs      Score\n",
      "37                              integrative_cluster_5  45.582306\n",
      "6                                         her2_status  32.948072\n",
      "3                                        chemotherapy  32.422593\n",
      "51     3-gene_classifier_subtype_ER+/HER2- Low Prolif  31.215246\n",
      "53                    3-gene_classifier_subtype_HER2+  29.915362\n",
      "22                   pam50_+_claudin-low_subtype_LumA  27.257431\n",
      "36                              integrative_cluster_3  21.067066\n",
      "21                   pam50_+_claudin-low_subtype_Her2  19.203529\n",
      "9                       lymph_nodes_examined_positive  17.360078\n",
      "1                              type_of_breast_surgery  14.024467\n",
      "11                        nottingham_prognostic_index  13.966838\n",
      "35                              integrative_cluster_2  10.138265\n",
      "12                                          pr_status   8.017459\n",
      "5                           neoplasm_histologic_grade   6.610283\n",
      "33  tumor_other_histologic_subtype_Tubular/ cribri...   5.191759\n",
      "50    3-gene_classifier_subtype_ER+/HER2- High Prolif   4.646769\n",
      "23                   pam50_+_claudin-low_subtype_LumB   4.588174\n",
      "41                              integrative_cluster_9   3.261986\n",
      "4                           er_status_measured_by_ihc   2.906279\n",
      "14                                         tumor_size   2.856896\n"
     ]
    }
   ],
   "source": [
    "X, y = Univariate_Selection (df, n_features = 20)"
   ]
  },
  {
   "cell_type": "code",
   "execution_count": 114,
   "id": "845ac0a8",
   "metadata": {},
   "outputs": [],
   "source": [
    "X_train, X_test, y_train, y_test = train_test_split(X, y, test_size = 0.001)"
   ]
  },
  {
   "cell_type": "code",
   "execution_count": 115,
   "id": "e8c704a3",
   "metadata": {},
   "outputs": [],
   "source": [
    "def plot_learning_curve(train_scores, test_scores, train_sizes, fig_name, title, xlabel, ylabel):\n",
    "    train_mean = 1 - np.mean(train_scores, axis = 1)\n",
    "\n",
    "    test_mean = 1 - np.mean(test_scores, axis = 1)\n",
    "\n",
    "    plt.plot(train_sizes, train_mean, '--',  label=\"Training score\")\n",
    "    plt.plot(train_sizes, test_mean, label=\"Cross-validation score\")\n",
    "\n",
    "    plt.title(title)\n",
    "    plt.xlabel(xlabel) \n",
    "    plt.ylabel(ylabel) \n",
    "    plt.legend(loc=\"best\")\n",
    "    plt.savefig(fig_name, bbox_inches='tight')"
   ]
  },
  {
   "cell_type": "code",
   "execution_count": 116,
   "id": "b7dfc9f6",
   "metadata": {},
   "outputs": [],
   "source": [
    "train_sizes, train_scores, test_scores = learning_curve \\\n",
    "(GradientBoostingClassifier(learning_rate = 0.01, n_estimators = 150), \\\n",
    " X_train, y_train, cv = 5, train_sizes=np.linspace(0.01, 1.0, 30))"
   ]
  },
  {
   "cell_type": "markdown",
   "id": "97813cb2",
   "metadata": {},
   "source": [
    "As shown below, the training and validation errors are close to each other and the variance is low. However, we have a high bias problem because the error of training data is around 0.25. Using a more complex model such as deep neural network or adding more features related to breast cancer may solve high-bias problem."
   ]
  },
  {
   "cell_type": "code",
   "execution_count": 117,
   "id": "ac65f85b",
   "metadata": {
    "scrolled": true
   },
   "outputs": [
    {
     "data": {
      "image/png": "[encoded data removed]",
      "text/plain": [
       "<Figure size 720x360 with 1 Axes>"
      ]
     },
     "metadata": {
      "needs_background": "light"
     },
     "output_type": "display_data"
    }
   ],
   "source": [
    "plt.figure(figsize=(10,5))\n",
    "plot_learning_curve(train_scores,test_scores,train_sizes,\"Random_Forest_Curve.png\",\n",
    "           \"Learning Curve for Random Forest (Factorization)\",\"Training Set Size\",\"Error = 1 - Accuracy\")"
   ]
  },
  {
   "cell_type": "markdown",
   "id": "9eca7de9",
   "metadata": {},
   "source": [
    "### This is end of Model 2"
   ]
  }
 ],
 "metadata": {
  "kernelspec": {
   "display_name": "Python 3",
   "language": "python",
   "name": "python3"
  },
  "language_info": {
   "codemirror_mode": {
    "name": "ipython",
    "version": 3
   },
   "file_extension": ".py",
   "mimetype": "text/x-python",
   "name": "python",
   "nbconvert_exporter": "python",
   "pygments_lexer": "ipython3",
   "version": "3.8.8"
  }
 },
 "nbformat": 4,
 "nbformat_minor": 5
}
